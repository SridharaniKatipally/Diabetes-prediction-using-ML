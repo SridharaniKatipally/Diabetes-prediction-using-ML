{
  "nbformat": 4,
  "nbformat_minor": 0,
  "metadata": {
    "colab": {
      "provenance": [],
      "authorship_tag": "ABX9TyNsciIJ5kjYNXwrkSi5tSOL",
      "include_colab_link": true
    },
    "kernelspec": {
      "name": "python3",
      "display_name": "Python 3"
    },
    "language_info": {
      "name": "python"
    }
  },
  "cells": [
    {
      "cell_type": "markdown",
      "metadata": {
        "id": "view-in-github",
        "colab_type": "text"
      },
      "source": [
        "<a href=\"https://colab.research.google.com/github/SridharaniKatipally/Diabetes-prediction-using-ML/blob/main/Diabetes_RandonForest.ipynb\" target=\"_parent\"><img src=\"https://colab.research.google.com/assets/colab-badge.svg\" alt=\"Open In Colab\"/></a>"
      ]
    },
    {
      "cell_type": "code",
      "execution_count": 1,
      "metadata": {
        "colab": {
          "base_uri": "https://localhost:8080/"
        },
        "id": "gN1jCwyX7Mv1",
        "outputId": "c3c523d4-ddef-4a76-9c18-ad5a5d2f5418"
      },
      "outputs": [
        {
          "output_type": "stream",
          "name": "stdout",
          "text": [
            "Collecting biopython\n",
            "  Downloading biopython-1.83-cp310-cp310-manylinux_2_17_x86_64.manylinux2014_x86_64.whl (3.1 MB)\n",
            "\u001b[?25l     \u001b[90m━━━━━━━━━━━━━━━━━━━━━━━━━━━━━━━━━━━━━━━━\u001b[0m \u001b[32m0.0/3.1 MB\u001b[0m \u001b[31m?\u001b[0m eta \u001b[36m-:--:--\u001b[0m\r\u001b[2K     \u001b[91m╸\u001b[0m\u001b[90m━━━━━━━━━━━━━━━━━━━━━━━━━━━━━━━━━━━━━━━\u001b[0m \u001b[32m0.1/3.1 MB\u001b[0m \u001b[31m1.6 MB/s\u001b[0m eta \u001b[36m0:00:02\u001b[0m\r\u001b[2K     \u001b[91m━━━━━━━━━━━━\u001b[0m\u001b[91m╸\u001b[0m\u001b[90m━━━━━━━━━━━━━━━━━━━━━━━━━━━\u001b[0m \u001b[32m1.0/3.1 MB\u001b[0m \u001b[31m14.2 MB/s\u001b[0m eta \u001b[36m0:00:01\u001b[0m\r\u001b[2K     \u001b[91m━━━━━━━━━━━━━━━━━━━━━━━━━━━━━━━━━━━━━━━\u001b[0m\u001b[91m╸\u001b[0m \u001b[32m3.1/3.1 MB\u001b[0m \u001b[31m33.3 MB/s\u001b[0m eta \u001b[36m0:00:01\u001b[0m\r\u001b[2K     \u001b[90m━━━━━━━━━━━━━━━━━━━━━━━━━━━━━━━━━━━━━━━━\u001b[0m \u001b[32m3.1/3.1 MB\u001b[0m \u001b[31m24.9 MB/s\u001b[0m eta \u001b[36m0:00:00\u001b[0m\n",
            "\u001b[?25hRequirement already satisfied: numpy in /usr/local/lib/python3.10/dist-packages (from biopython) (1.25.2)\n",
            "Installing collected packages: biopython\n",
            "Successfully installed biopython-1.83\n"
          ]
        }
      ],
      "source": [
        "!pip install biopython\n"
      ]
    },
    {
      "cell_type": "code",
      "source": [
        "from Bio import Entrez, SeqIO\n",
        "\n",
        "# Provide your email address to NCBI\n",
        "Entrez.email = \"katipallyd@google.com\"\n",
        "\n",
        "# Example query for human DNA sequences related to diabetes (adjust as per your needs)\n",
        "search_query = \"diabetes AND Homo sapiens[Organism]\"\n",
        "\n",
        "# Number of sequences to fetch\n",
        "number_of_sequences = 500\n",
        "\n",
        "# Perform the NCBI search\n",
        "handle = Entrez.esearch(db=\"nucleotide\", term=search_query, retmax=number_of_sequences)\n",
        "record = Entrez.read(handle)\n",
        "\n",
        "# Retrieve the list of sequence IDs\n",
        "id_list = record[\"IdList\"]\n",
        "\n",
        "# Fetch the sequences in FASTA format\n",
        "fasta_records = []\n",
        "for seq_id in id_list:\n",
        "    handle = Entrez.efetch(db=\"nucleotide\", id=seq_id, rettype=\"fasta\", retmode=\"text\")\n",
        "    fasta_records.append(SeqIO.read(handle, \"fasta\"))\n",
        "\n",
        "# Print the first sequence as an example\n",
        "print(fasta_records[0])\n"
      ],
      "metadata": {
        "colab": {
          "base_uri": "https://localhost:8080/"
        },
        "id": "9p0o9rp97NWu",
        "outputId": "5083e252-fe3f-43e1-c1e8-fa6612f85c1b"
      },
      "execution_count": 2,
      "outputs": [
        {
          "output_type": "stream",
          "name": "stdout",
          "text": [
            "ID: NM_001425245.1\n",
            "Name: NM_001425245.1\n",
            "Description: NM_001425245.1 Homo sapiens SPARC related modular calcium binding 1 (SMOC1), transcript variant 4, mRNA\n",
            "Number of features: 0\n",
            "Seq('AGGCGTCCAACCTGCTGCCGCCTGGGCCCCGCCGAGCGGAGCTAGCGCCGCGCG...TTG')\n"
          ]
        }
      ]
    },
    {
      "cell_type": "code",
      "source": [
        "from Bio import Entrez, SeqIO\n",
        "\n",
        "# Step 1: Provide your email address (required by NCBI)\n",
        "Entrez.email = \"katipallyd@google.com\"  # Replace with your email\n",
        "\n",
        "# Step 2: Define your search query\n",
        "search_query = \"diabetes AND Homo sapiens[Organism]\"\n",
        "\n",
        "# Step 3: Number of sequences to fetch\n",
        "number_of_sequences = 500\n",
        "\n",
        "# Step 4: Perform the NCBI search\n",
        "handle = Entrez.esearch(db=\"nucleotide\", term=search_query, retmax=number_of_sequences)\n",
        "record = Entrez.read(handle)\n",
        "\n",
        "# Step 5: Retrieve the list of sequence IDs\n",
        "id_list = record[\"IdList\"]\n",
        "\n",
        "# Step 6: Fetch the sequences in FASTA format\n",
        "fasta_records = []\n",
        "for seq_id in id_list:\n",
        "    handle = Entrez.efetch(db=\"nucleotide\", id=seq_id, rettype=\"fasta\", retmode=\"text\")\n",
        "    fasta_records.append(SeqIO.read(handle, \"fasta\"))\n",
        "\n",
        "# Step 7: Save fetched sequences to a FASTA file\n",
        "output_file = \"diabetes_sequences.fasta\"\n",
        "SeqIO.write(fasta_records, output_file, \"fasta\")\n",
        "\n",
        "print(f\"Saved {len(fasta_records)} sequences to {output_file}\")\n"
      ],
      "metadata": {
        "colab": {
          "base_uri": "https://localhost:8080/"
        },
        "id": "wGGSGspj7bJP",
        "outputId": "8e045b72-1da6-422f-a4e7-d7370c50902f"
      },
      "execution_count": 3,
      "outputs": [
        {
          "output_type": "stream",
          "name": "stdout",
          "text": [
            "Saved 500 sequences to diabetes_sequences.fasta\n"
          ]
        }
      ]
    },
    {
      "cell_type": "code",
      "source": [
        "from Bio import SeqIO\n",
        "\n",
        "# Example of fetching 500 sequences (adjust parameters as needed)\n",
        "fasta_records = list(SeqIO.parse(\"/content/diabetes_sequences.fasta\", \"fasta\"))[:500]\n"
      ],
      "metadata": {
        "id": "69-l4NnLBCHI"
      },
      "execution_count": 8,
      "outputs": []
    },
    {
      "cell_type": "code",
      "source": [
        "for record in fasta_records[:5]:\n",
        "    print(record.id)\n",
        "    print(record.description)\n",
        "    print(record.seq)"
      ],
      "metadata": {
        "colab": {
          "base_uri": "https://localhost:8080/"
        },
        "id": "nf9ESrvJCYlc",
        "outputId": "006ff417-700a-4419-e586-ee92b106fff6"
      },
      "execution_count": 9,
      "outputs": [
        {
          "output_type": "stream",
          "name": "stdout",
          "text": [
            "NM_001425245.1\n",
            "NM_001425245.1 Homo sapiens SPARC related modular calcium binding 1 (SMOC1), transcript variant 4, mRNA\n",
            "AGGCGTCCAACCTGCTGCCGCCTGGGCCCCGCCGAGCGGAGCTAGCGCCGCGCGCAGAGCACACGCTCGCGCTCCAGCTCCCCTCCTGCGCGGTTCATGACTGTGTCCCCTGACCGCAGCCTCTGCGAGCCCCCGCCGCAGGACCACGGCCCGCTCCCCGCCGCCGCGAGGGCCCCGAGCGAAGGAAGGAAGGGAGGCGCGCTGTGCGCCCCGCGGAGCCCGCGAACCCCGCTCGCTGCCGGCTGCCCAGCCTGGCTGGCACCATGCTGCCCGCGCGCTGCGCCCGCCTGCTCACGCCCCACTTGCTGCTGGTGTTGGTGCAGCTGTCCCCTGCTCGCGGCCACCGCACCACAGGCCCCAGGTTTCTAATAAGTGACCGTGACCCACAGTGCAACCTCCACTGCTCCAGGACTCAACCCAAACCCATCTGTGCCTCTGATGGCAGGTCCTACGAGTCCATGTGTGAGTACCAGCGAGCCAAGTGCCGAGACCCGACCCTGGGCGTGGTGCATCGAGGTAGATGCAAAGATGCTGGCCAGAGCAAGTGTCGCCTGGAGCGGGCTCAAGCCCTGGAGCAAGCCAAGAAGCCTCAGGAAGCTGTGTTTGTCCCAGAGTGTGGCGAGGATGGCTCCTTTACCCAGGTGCAGTGCCATACTTACACTGGGTACTGCTGGTGTGTCACCCCGGATGGGAAGCCCATCAGTGGCTCTTCTGTGCAGAATAAAACTCCTGTATGTTCAGGTTCAGTCACCGACAAGCCCTTGAGCCAGGGTAACTCAGGAAGGAAAGTCTCCTTTCGATTCTTTTTAACCCTCAATTCAGATGACGGGTCTAAGCCGACACCCACGATGGAGACCCAGCCGGTGTTCGATGGAGATGAAATCACAGCCCCAACTCTATGGATTAAACACTTGGTGATCAAGGACTCCAAACTGAACAACACCAACATAAGAAATTCAGAGAAAGTCTATTCGTGTGACCAGGAGAGGCAGAGTGCCCTGGAAGAGGCCCAGCAGAATCCCCGTGAGGGTATTGTCATCCCTGAATGTGCCCCTGGGGGACTCTATAAGCCAGTGCAATGCCACCAGTCCACTGGCTACTGCTGGTGTGTGCTGGTGGACACAGGGCGCCCGCTGCCTGGGACCTCCACACGCTACGTGATGCCCAGTTGTGAGAGCGACGCCAGGGCCAAGACTACAGAGGCGGATGACCCCTTCAAGGACAGGGAGCTACCAGGCTGTCCAGAAGGGAAGAAAATGGAGTTTATCACCAGCCTACTGGATGCTCTCACCACTGACATGGTTCAGGCCATTAACTCAGCAGCGCCCACTGGAGGTGGGAGGTTCTCAGAGCCAGACCCCAGCCACACCCTGGAGGAGCGGGTAGTGCACTGGTATTTCAGCCAGCTGGACAGCAATAGCAGCAACGACATTAACAAGCGGGAGATGAAGCCCTTCAAGCGCTACGTGAAGAAGAAAGCCAAGCCCAAGAAATGTGCCCGGCGTTTCACCGACTACTGTGACCTGAACAAAGACAAGGTCATTTCACTGCCTGAGCTGAAGGGCTGCCTGGGTGTTAGCAAAGAAGGACGCCTCGTCTAAGGAGCAGAAAACCCAAGGGCAGGTGGAGAGTCCAGGGAGGCAGGATGGATCACCAGACACCTAACCTTCAGCGTTGCCCATGGCCCTGCCACATCCCGTGTAACATAAGTGGTGCCCACCATGTTTGCACTTTTAATAACTCTTACTTGCGTGTTTTGTTTTTGGTTTCATTTTAAAACACCAATATCTAATACCACAGTGGGAAAAGGAAAGGGAAGAAAGACTTTATTCTCTCTCTTATTGTAAGTTTTTGGATCTGCTACTGACAACTTTTAGAGGGTTTTGGGGGGGTGGGGGAGGGTGTTGTTGGGGCTGAGAAGAAAGAGATTTATATGCTGTATATAAATATATATGTAAATTGTATAGTTCTTTTGTACAGGCATTGGCATTGCTGTTTGTTTATTTCTCTCCCTCTGCCTGCTGTGGGTGGTGGGCACTCTGGACACATAGTCCAGCTTTCTAAAATCCAGGACTCTATCCTGGGCCTACTAAACTTCTGTTTGGAGACTGACCCTTGTGTATAAAGACGGGAGTCCTGCAATTGTACTGCGGACTCCACGAGTTCTTTTCTGGTGGGAGGACTATATTGCCCCATGCCATTAGTTGTCAAAATTGATAAGTCACTTGGCTCTCGGCCTTGTCCAGGGAGGTTGGGCTAAGGAGAGATGGAAACTGCCCTGGGAGAGGAAGGGAGTCCAGATCCCATGAATAGCCCACACAGGTACCGGCTCTCAGAGGGTCCGTGCATTCCTGCTCTCCGGACCCCCAAAGGGCCCAGCATTGGTGGGTGCACCAGTATCTTAGTGACCCTCGGAGCAAATTATCCACAAAGGATTTGCATTACGTCACTCGAAACGTTTTCATCCATGCTTAGCATCTACTCTGTATAACGCATGAGAGGGGAGGCAAAGAAGAAAAAGACACACAGAAGGGCCTTTAAAAAAGTAGATATTTAATATCTAAGCAGGGGAGGGGACAGGACAGAAAGCCTGCACTGAGGGGTGCGGTGCCAACAGGGAAACTCTTCACCTCCCTGCAAACCTACCAGTGAGGCTCCCAGAGACGCAGCTGTCTCAGTGCCAGGGGCAGATTGGGTGTGACCTCTCCACTCCTCCATCTCCTGCTGTTGTCCTAGTGGCTATCACAGGCCTGGGTGGGTGGGTTGGGGGAGGTGTCAGTCACCTTGTTGGTAACACTAAAGTTGTTTTGTTGGTTTTTTAAAAACCCAATACTGAGGTTCTTCCTGTTCCCTCAAGTTTTCTTATGGGCTTCCAGGCTTTAAGCTAATTCCAGAAGTAAAACTGATCTTGGGTTTCCTATTCTGCCTCCCCTAGAAGGGCAGGGGTGATAACCCAGCTACAGGGAAATCCCGGCCCAGCTTTCCACAGGCATCACAGGCATCTTCCGCGGATTCTAGGGTGGGCTGCCCAGCCTTCTGGTCTGAGGCGCAGCTCCCTCTGCCCAGGTGCTGTGCCTATTCAAGTGGCCTTCAGGCAGAGCAGCAAGTGGCCCTTAGCGCCCCTTCCCATAAGCAGCTGTGGTGGCAGTGAGGGAGGTTGGGTAGCCCTGGACTGGTCCCCTCCTCAGATCACCCTTGCAAATCTGGCCTCATCTTGTATTCCAACCCGACATCCCTAAAAGTACCTCCACCCGTTCCGGGTCTGGAAGGCGTTGGCACCACAAGCACTGTCCCTGTGGGAGGAGCACAACCTTCTCGGGACAGGATCTGATGGGGTCTTGGGCTAAAGGAGGTCCCTGCTGTCCTGGAGAAAGTCCTAGAGGTTATCTCAGGAATGACTGGTGGCCCTGCCCCAACGTGGAAAGGTGGGAAGGAAGCCTTCTCCCATTAGCCCCAATGAGAGAACTCAACGTGCCGGAGCTGAGTGGGCCTTGCACGAGACACTGGCCCCACTTTCAGGCCTGGAGGAAGCATGCACACATGGAGACGGCGCCTGCCTGTAGATGTTTGGATCTTCGAGATCTCCCCAGGCATCTTGTCTCCCACAGGATCGTGTGTGTAGGTGGTGTTGTGTGGTTTTCCTTTGTGAAGGAGAGAGGGAAACTATTTGTAGCTTGTTTTATAAAAAATAAAAAATGGGTAAATCTTG\n",
            "NM_001425244.1\n",
            "NM_001425244.1 Homo sapiens SPARC related modular calcium binding 1 (SMOC1), transcript variant 3, mRNA\n",
            "AGGCGTCCAACCTGCTGCCGCCTGGGCCCCGCCGAGCGGAGCTAGCGCCGCGCGCAGAGCACACGCTCGCGCTCCAGCTCCCCTCCTGCGCGGTTCATGACTGTGTCCCCTGACCGCAGCCTCTGCGAGCCCCCGCCGCAGGACCACGGCCCGCTCCCCGCCGCCGCGAGGGCCCCGAGCGAAGGAAGGAAGGGAGGCGCGCTGTGCGCCCCGCGGAGCCCGCGAACCCCGCTCGCTGCCGGCTGCCCAGCCTGGCTGGCACCATGCTGCCCGCGCGCTGCGCCCGCCTGCTCACGCCCCACTTGCTGCTGGTGTTGGTGCAGCTGTCCCCTGCTCGCGGCCACCGCACCACAGGCCCCAGGTTTCTAATAAGTGACCGTGACCCACAGTGCAACCTCCACTGCTCCAGGACTCAACCCAAACCCATCTGTGCCTCTGATGGCAGGTCCTACGAGTCCATGTGTGAGTACCAGCGAGCCAAGTGCCGAGACCCGACCCTGGGCGTGGTGCATCGAGGTAGATGCAAAGATGCTGGCCAGAGCAAGTGTCGCCTGGAGCGGGCTCAAGCCCTGGAGCAAGCCAAGAAGCCTCAGGAAGCTGTGTTTGTCCCAGAGTGTGGCGAGGATGGCTCCTTTACCCAGGTGCAGTGCCATACTTACACTGGGTACTGCTGGTGTGTCACCCCGGATGGGAAGCCCATCAGTGGCTCTTCTGTGCAGAATAAAACTCCTGTATGTTCAGGTTCAGTCACCGACAAGCCCTTGAGCCAGGGTAACTCAGGAAGGAAAGTCTCCTTTCGATTCTTTTTAACCCTCAATTCAGATGACGGGTCTAAGCCGACACCCACGATGGAGACCCAGCCGGTGTTCGATGGAGATGAAATCACAGCCCCAACTCTATGGATTAAACACTTGGTGATCAAGGACTCCAAACTGAACAACACCAACATAAGAAATTCAGAGAAAGTCTATTCGTGTGACCAGGAGAGGCAGAGTGCCCTGGAAGAGGCCCAGCAGAATCCCCGTGAGGGTATTGTCATCCCTGAATGTGCCCCTGGGGGACTCTATAAGCCAGTGCAATGCCACCAGTCCACTGGCTACTGCTGGTGTGTGCTGGTGGACACAGGGCGCCCGCTGCCTGGGACCTCCACACGCTACGTGATGCCCAGTTGTGAGAGCGACGCCAGGGCCAAGACTACAGAGGCGGATGACCCCTTCAAGGACAGGGAGCTACCAGGCTGTCCAGAAGGGAAGAAAATGGAGTTTATCACCAGCCTACTGGATGCTCTCACCACTGACATGGTTCAGGCCATTAACTCAGCAGCGCCCACTGGAGGTGGGAGGTTCTCAGAGCCAGACCCCAGCCACACCCTGGAGGAGCGGGTAGTGCACTGGTATTTCAGCCAGCTGGACAGCAATAGCAGCAACGACATTAACAAGCGGGAGATGAAGCCCTTCAAGCGCTACGTGAAGAAGAAAGCCAAGCCCAAGAAATGTGCCCGGCGTTTCACCGACTACTGTGACCTGAACAAAGACAAGGTCATTTCACTGCCTGAGCTGAAGGGCTGCCTGGGTGTTAGCAAAGAAGTAGGACGCCTCGTCTAAGGAGCAGAAAACCCAAGGGCAGGTGGAGAGTCCAGGGAGGCAGGATGGATCACCAGACACCTAACCTTCAGCGTTGCCCATGGCCCTGCCACATCCCGTGTAACATAAGTGGTGCCCACCATGTTTGCACTTTTAATAACTCTTACTTGCGTGTTTTGTTTTTGGTTTCATTTTAAAACACCAATATCTAATACCACAGTGGGAAAAGGAAAGGGAAGAAAGACTTTATTCTCTCTCTTATTGTAAGTTTTTGGATCTGCTACTGACAACTTTTAGAGGGTTTTGGGGGGGTGGGGGAGGGTGTTGTTGGGGCTGAGAAGAAAGAGATTTATATGCTGTATATAAATATATATGTAAATTGTATAGTTCTTTTGTACAGGCATTGGCATTGCTGTTTGTTTATTTCTCTCCCTCTGCCTGCTGTGGGTGGTGGGCACTCTGGACACATAGTCCAGCTTTCTAAAATCCAGGACTCTATCCTGGGCCTACTAAACTTCTGTTTGGAGACTGACCCTTGTGTATAAAGACGGGAGTCCTGCAATTGTACTGCGGACTCCACGAGTTCTTTTCTGGTGGGAGGACTATATTGCCCCATGCCATTAGTTGTCAAAATTGATAAGTCACTTGGCTCTCGGCCTTGTCCAGGGAGGTTGGGCTAAGGAGAGATGGAAACTGCCCTGGGAGAGGAAGGGAGTCCAGATCCCATGAATAGCCCACACAGGTACCGGCTCTCAGAGGGTCCGTGCATTCCTGCTCTCCGGACCCCCAAAGGGCCCAGCATTGGTGGGTGCACCAGTATCTTAGTGACCCTCGGAGCAAATTATCCACAAAGGATTTGCATTACGTCACTCGAAACGTTTTCATCCATGCTTAGCATCTACTCTGTATAACGCATGAGAGGGGAGGCAAAGAAGAAAAAGACACACAGAAGGGCCTTTAAAAAAGTAGATATTTAATATCTAAGCAGGGGAGGGGACAGGACAGAAAGCCTGCACTGAGGGGTGCGGTGCCAACAGGGAAACTCTTCACCTCCCTGCAAACCTACCAGTGAGGCTCCCAGAGACGCAGCTGTCTCAGTGCCAGGGGCAGATTGGGTGTGACCTCTCCACTCCTCCATCTCCTGCTGTTGTCCTAGTGGCTATCACAGGCCTGGGTGGGTGGGTTGGGGGAGGTGTCAGTCACCTTGTTGGTAACACTAAAGTTGTTTTGTTGGTTTTTTAAAAACCCAATACTGAGGTTCTTCCTGTTCCCTCAAGTTTTCTTATGGGCTTCCAGGCTTTAAGCTAATTCCAGAAGTAAAACTGATCTTGGGTTTCCTATTCTGCCTCCCCTAGAAGGGCAGGGGTGATAACCCAGCTACAGGGAAATCCCGGCCCAGCTTTCCACAGGCATCACAGGCATCTTCCGCGGATTCTAGGGTGGGCTGCCCAGCCTTCTGGTCTGAGGCGCAGCTCCCTCTGCCCAGGTGCTGTGCCTATTCAAGTGGCCTTCAGGCAGAGCAGCAAGTGGCCCTTAGCGCCCCTTCCCATAAGCAGCTGTGGTGGCAGTGAGGGAGGTTGGGTAGCCCTGGACTGGTCCCCTCCTCAGATCACCCTTGCAAATCTGGCCTCATCTTGTATTCCAACCCGACATCCCTAAAAGTACCTCCACCCGTTCCGGGTCTGGAAGGCGTTGGCACCACAAGCACTGTCCCTGTGGGAGGAGCACAACCTTCTCGGGACAGGATCTGATGGGGTCTTGGGCTAAAGGAGGTCCCTGCTGTCCTGGAGAAAGTCCTAGAGGTTATCTCAGGAATGACTGGTGGCCCTGCCCCAACGTGGAAAGGTGGGAAGGAAGCCTTCTCCCATTAGCCCCAATGAGAGAACTCAACGTGCCGGAGCTGAGTGGGCCTTGCACGAGACACTGGCCCCACTTTCAGGCCTGGAGGAAGCATGCACACATGGAGACGGCGCCTGCCTGTAGATGTTTGGATCTTCGAGATCTCCCCAGGCATCTTGTCTCCCACAGGATCGTGTGTGTAGGTGGTGTTGTGTGGTTTTCCTTTGTGAAGGAGAGAGGGAAACTATTTGTAGCTTGTTTTATAAAAAATAAAAAATGGGTAAATCTTG\n",
            "NM_001424411.1\n",
            "NM_001424411.1 Homo sapiens NK2 homeobox 2 (NKX2-2), transcript variant 2, mRNA\n",
            "ATAGAGGACGCTTTGTGCAGTGCAGGGGGTGTCTAGAAGGCCCGAAAGCAGAAACGAAAGCCCCCAAAAACCTGCCTTAAATGGCCGAGCCGATCAATGCTGGGATTGTGGGGTATTTCTTTTAAAAATCTGCCCACGTCTCGCCGGAGAGGAAACCGCTTAAGGGCGCCGGAGCCCTTAACCCGCGATGATCTTCAGTGCCACTTCCCCCCCCAAATTCTCACCCACACTATTGCACGGTCTGGCTGCCGGGGCGCCCCCTCAGGACTCAAGCTCCAAGTCCCCGGAGCCCTCGGCCGACGAGTCACCGGACAATGACAAGGAGACCCCGGGCGGCGGGGGGGACGCCGGCAAGAAGCGAAAGCGGCGAGTGCTTTTCTCCAAGGCGCAGACCTACGAGCTGGAGCGGCGCTTTCGGCAGCAGCGGTACCTGTCGGCGCCCGAGCGCGAACACCTGGCCAGCCTCATCCGCCTCACGCCCACGCAGGTCAAGATCTGGTTCCAGAACCACCGCTACAAGATGAAGCGCGCCCGGGCCGAGAAAGGTATGGAGGTGACGCCCCTGCCCTCGCCGCGCCGGGTGGCCGTGCCCGTCTTGGTCAGGGACGGCAAACCATGTCACGCGCTCAAAGCCCAGGACCTGGCAGCCGCCACCTTCCAGGCGGGCATTCCCTTTTCTGCCTACAGCGCGCAGTCGCTGCAGCACATGCAGTACAACGCCCAGTACAGCTCGGCCAGCACCCCCCAGTACCCGACAGCACACCCCCTGGTCCAGGCCCAGCAGTGGACTTGGTGAGCGCCGCCCCAACGAGACTCGCGGCCCCAGGCCCAGGCCCCACCCCGGCGGCGGTGGCGGCGAGGAGGCCTCGGTCCTTATGGTGGTTATTATTATTATTATAATTATTATTATGGAGTCGAGTTGACTCTCGGCTCCACTAGGGAGGCGCCGGGAGGTTGCCTGCGTCTCCTTGGAGTGGCAGATTCCACCCACCCAGCTCTGCCCATGCCTCTCCTTCTGAACCTTGGGAGAGGGCTGAACTCTACGCCGTGTTTACAGAATGTTTGCGCAGCTTCGCTTCTTTGCCTCTCCCCGGGGGGACCAAACCGTCCCAGCGTTAATGTCGTCACTTGAAAACGAGAAAAAGACCGACCCCCCACCCCTGCTTTCGTGCATTTTGTAAAATATGTTTGTGTGAGTAGCGATATTGTCAGCCGTCTTCTAAAGCAAGTGGAGAACACTTTAAAAATACAGAGAATTTCTTCCTTTTTTTAAAAAAAAATAAGAAAATGCTAAATATTTATGGCCATGTAAACGTTCTGACAACTGGTGGCAGATTTCGCTTTTCGTTGTAAATATCGGTGGTGATTGTTGCCAAAATGACCTTCAGGACCGGCCTGTTTCCCGTCTGGGTCCAACTCCTTTCTTTGTGGCTTGTTTGGGTTTGTTTTTTGTTTTGTTTTTGTTTTTGCGTTTTCCCCTGCTTTCTTCCTTTCTCTTTTTATTTTATTGTGCAAACATTTCTCAAATATGGAAAAGAAAACCCTGTAGGCAGGGAGCCCTCTGCCCTGTCCTCCGGGCCTTCAGCCCCGAACTTGGAGCTCAGCTATTCGGCGCGGTTCCCCAACAGCGCCGGGCGCAGAAAGCTTTCGATTTTTTAAATAAGAATTTTAATAAAAATCCTGTGTTTAAAAAAGAAAAAAA\n",
            "NM_001424412.1\n",
            "NM_001424412.1 Homo sapiens NK2 homeobox 2 (NKX2-2), transcript variant 3, mRNA\n",
            "GCCGGCCGCGTCGAGCCGCCGCCCGACCGCCCGCGACTCCGCAGCCGCCCGCGACTCGGGATAAAGAGCGGCCGGGACCTGCGCGCTCGCCCAGCCGAGGCTCCAGCGGCGCAGTCGCGCTCCAGGTTCGTGAGTGGAGCCCAGCCTTATATGGACTGATCGCTCGGGCAATGGCCCATTTTTTCCTCGCCACCAGCCGCCACCGCGCGCCGAGCGGCCGCCGGAGCCCGAGCTGACGCCGCCTTGGCACCCCTCCTGGAGTTAGAAACTAAGGCCGGGGCCCGCGGCGCTCGGCGCGCAGGCCGCCCGGCTTCCTGCGTCCATTTCCGCGTGCTTTCAAAGAAGACAGAGAGAGGCACTGGGTTGGGCTTCATTTTTTTCCTCCCCATCCCCAGTTTCTTTCTCTTTTTAAAAATAATAATTATCCCAATAATTAAAGCCAATTCCCCCCTCCCCTCCCCCAGTCCCTCCCCCCAACTCCCCCCTCCCCCGCCCGCCGGGGCAGGGGAGCGCCACGAATTGACCAAGTGAAGCTACAACTTTGCGACATAAATTTTGGGGTCTCGAACCATGTCGCTGACCAACACAAAGACGGGGTTTTCGGTCAAGGACATCTTAGACCTGCCGGACACCAACGATGAGGAGGGCTCTGTGGCCGAAGGTCCGGAGGAAGAGAACGAGGGGCCCGAGCCAGCCAAGAGGGCCGGGCCGCTGGGGCAGGGCGCCCTGGACGCGGTGCAGAGCCTGCCCCTGAAGAACCCCTTCTACGACAGCAGCGACAACCCGTACACGCGCTGGCTGGCCAGCACCGAGGGCCTTCAGTACTCCCTGCACGGTCTGGCTGCCGGGGCGCCCCCTCAGGACTCAAGCTCCAAGTCCCCGGAGCCCTCGGCCGACGAGTCACCGGACAATGACAAGGAGACCCCGGGCGGCGGGGGGGACGCCGGCAAGAAGCGAAAGCGGCGAGTGCTTTTCTCCAAGGCGCAGACCTACGAGCTGGAGCGGCGCTTTCGGCAGCAGCGGTACCTGTCGGCGCCCGAGCGCGAACACCTGGCCAGCCTCATCCGCCTCACGCCCACGCAGGTCAAGATCTGGTTCCAGAACCACCGCTACAAGATGAAGCGCGCCCGGGCCGAGAAAGGTATGGAGGTGACGCCCCTGCCCTCGCCGCGCCGGGTGGCCGTGCCCGTCTTGGTCAGGGACGGCAAACCATGTCACGCGCTCAAAGCCCAGGACCTGGCAGCCGCCACCTTCCAGGCGGGCATTCCCTTTTCTGCCTACAGCGCGCAGTCGCTGCAGCACATGCAGTACAACGCCCAGTACAGCTCGGCCAGCACCCCCCAGTACCCGACAGCACACCCCCTGGTCCAGGCCCAGCAGTGGACTTGGTGAGCGCCGCCCCAACGAGACTCGCGGCCCCAGGCCCAGGCCCCACCCCGGCGGCGGTGGCGGCGAGGAGGCCTCGGTCCTTATGGTGGTTATTATTATTATTATAATTATTATTATGGAGTCGAGTTGACTCTCGGCTCCACTAGGGAGGCGCCGGGAGGTTGCCTGCGTCTCCTTGGAGTGGCAGATTCCACCCACCCAGCTCTGCCCATGCCTCTCCTTCTGAACCTTGGGAGAGGGCTGAACTCTACGCCGTGTTTACAGAATGTTTGCGCAGCTTCGCTTCTTTGCCTCTCCCCGGGGGGACCAAACCGTCCCAGCGTTAATGTCGTCACTTGAAAACGAGAAAAAGACCGACCCCCCACCCCTGCTTTCGTGCATTTTGTAAAATATGTTTGTGTGAGTAGCGATATTGTCAGCCGTCTTCTAAAGCAAGTGGAGAACACTTTAAAAATACAGAGAATTTCTTCCTTTTTTTAAAAAAAAATAAGAAAATGCTAAATATTTATGGCCATGTAAACGTTCTGACAACTGGTGGCAGATTTCGCTTTTCGTTGTAAATATCGGTGGTGATTGTTGCCAAAATGACCTTCAGGACCGGCCTGTTTCCCGTCTGGGTCCAACTCCTTTCTTTGTGGCTTGTTTGGGTTTGTTTTTTGTTTTGTTTTTGTTTTTGCGTTTTCCCCTGCTTTCTTCCTTTCTCTTTTTATTTTATTGTGCAAACATTTCTCAAATATGGAAAAGAAAACCCTGTAGGCAGGGAGCCCTCTGCCCTGTCCTCCGGGCCTTCAGCCCCGAACTTGGAGCTCAGCTATTCGGCGCGGTTCCCCAACAGCGCCGGGCGCAGAAAGCTTTCGATTTTTTAAATAAGAATTTTAATAAAAATCCTGTGTTTAAAAAAGAAAAAAA\n",
            "NR_186145.1\n",
            "NR_186145.1 Homo sapiens Pvt1 oncogene (PVT1), transcript variant 27, long non-coding RNA\n",
            "CCCGCGCTCCTCCGGGCAGAGCGCGTGTGGCGGCCGAGCACATGGGCCCGCGGGCCGGGCGGGCTCGGGGCGGCCGGGACGAGGAGGGGCGACGACGAGCTGCGAGCAAAGATGTGCCCCGGGACCCCCGGCACCTTCCAGTGGATTTCCTTGCGGAAAGGATGTTGGCGGTCCCTGTGACCTGTGGAGACACGGCCAGATCTGCCCTCCAGACCATAGCTGTCTGCAGTGCAGGAAGCCAACTATTAAGGGGAAACAAAAGTGTTCTTAGGAGTCCTGCTGTCACTGTGGATTGAGCCGGTGAAGCCCTGAGGGATTTCATCGCTGAGGTGGATGGAGAAGCAGCTGGGGGCCTTGGCTGTAAGGACCCCTAAGGGCCTGATCTTTTGGCCAGAAGGAGATTAAAAAGATGCCCCTCAAGATGGCTGTGCCTGTCAGCTGCATGGAGCTTCGTTCAAGTATTTTCTGAGCCTGATGGATTTACAGTGATCTTCAGTGGTCTGGGGAATAACGCTGGTGGAACCATGCACTGGAATGACACACGCCCGGCACATTTCAGGATACTAAAAGTGGTTTTAAGGGAGGCTGTGGCTGAATGCCTCATGGATTCTTACAGCTTGGATGTCCATGGGGGACGAAGGACTGCAGCTGGCTGAGAGGGTTGAGATCTCTGTTTACTTAGATCTCTGCCAACTTCCTTTGGGTCTCCCTATGGAATGTAAGACCCCGACTCTTCCTGGTGAAGCATCTGATGCACGTTCCATCCGGCGCTCAGCTGGGCTTGAGCTGACCATACTCCCTGGAGCCTTCTCCCGAGGTGCGCGGGTGACCTTGGCACATACAGCCATCATGATGGTACTTTAAGTGGAGGCTGAATCATCTCCCCTTTGAGCTGCTTGGCACGTGGCTCCCTTGGTGTTCCCCTTTTACTGCCAGGACACTGAGATTTGGAGAGAATCCTGTTACACCTGGGATTTAGGCACTTTCAATCTGAAAAAATACATATCCTTTCAGCACTCTGGACGGACTTGAGAACTGTCCTTACGTGACCTAAAGCTGGAGTATTTTGAGATTGGAGAATTAAGGCCAACAGAGATTTTGAGAAACACATTGAAGGATCTGTTAACACTTGATATACCCAATAAAAGCAGTGGTTGTGCCAGTGCTGATCTGTCTTGATGTGAATGTGAACAATGGGAACCTGAGCTGAGCAGTTAATGCTAGGGTGACAGAAACTGGACCTCTCCCAAGACATGTGACAGAGTAATACAGCAGCCAACTTCTTCGCCAAATTAAAGTTTTACAAGATTTAACCTGTCATCAAGACCTGGGATTTTGGTGAGCCAGTCTTGGTGCTCTGTGTTCACCTGGTTCATCTGAGGAGCTGCATCTACCCTGCCCATGCCATAGATCCTGCCCTGTTTGCTTCTCCTGTTGCTGCTAGTGGACATGAGGTAACCACAGCCTAGTTCTGTGATAAGCTCTTCACACCTGTACCCATATGGACTGTGGGAGAGTTTCTCTGATATGGACTGTGATGCGGGTTTGGGTAACTCCACGCAAGACTGTCTTTACCTGCCTTTGAAGGACAGAATAACGGGCTCCCAGATTCACAAGCCCCACCAAGAGGATCACCCCAGGAACGCTTGGAGGCTGAGGAGTTCACTGAGGCTACTGCATCTTGAGACTCAGGATGAAGACCCAGCTTGGGGCTGTCAAAGGTTTTTTGCATGTCTGACACCCATGACTCCACCTGGACCTTATGGCTCCACCCAGAAGCAATTCAGCCCAACAGGAGGACAGCTTCAACCCATTACGATTTCATCTCTGCCCCAACCACTCAGCAGCAAGCACCTGTTACCTGTCCACCCCCACCCCTTCCCCCAAACTGCCTTTGAAAAATCCCTAACCTATGAGCTTTGAATAAGATGAGTACGAACTTCATCGCCCACGTGGCGTGGCCGGCCTCGTGTCTATTAAATTCTTTTTCTACTACAA\n"
          ]
        }
      ]
    },
    {
      "cell_type": "code",
      "source": [
        "from Bio.SeqUtils import nt_search\n",
        "\n",
        "def calculate_kmer_frequency(sequence, k):\n",
        "    kmer_counts = {}\n",
        "    for i in range(len(sequence) - k + 1):\n",
        "        kmer = sequence[i:i+k]\n",
        "        if kmer in kmer_counts:\n",
        "            kmer_counts[kmer] += 1\n",
        "        else:\n",
        "            kmer_counts[kmer] = 1\n",
        "    return kmer_counts\n",
        "\n"
      ],
      "metadata": {
        "id": "XTbF1tKzC0yA"
      },
      "execution_count": 10,
      "outputs": []
    },
    {
      "cell_type": "code",
      "source": [
        "kmer_features = []\n",
        "\n",
        "for record in fasta_records:\n",
        "    sequence = str(record.seq)  # Ensure sequence is converted to string if not already\n",
        "    kmer_freq = calculate_kmer_frequency(sequence, k)\n",
        "    kmer_features.append(kmer_freq)\n"
      ],
      "metadata": {
        "id": "og0ZEeJUC3s6"
      },
      "execution_count": 11,
      "outputs": []
    },
    {
      "cell_type": "code",
      "source": [
        "import pandas as pd\n",
        "\n",
        "df = pd.DataFrame(kmer_features).fillna(0)\n",
        "print(\"Feature extraction completed.\")\n",
        "print(df.head())\n"
      ],
      "metadata": {
        "colab": {
          "base_uri": "https://localhost:8080/"
        },
        "id": "j_u89f1tD0Fw",
        "outputId": "1fc4b70c-bf1f-4c0c-ef7f-d35fcbf29d17"
      },
      "execution_count": 12,
      "outputs": [
        {
          "output_type": "stream",
          "name": "stdout",
          "text": [
            "Feature extraction completed.\n",
            "   AGGCGT  GGCGTC  GCGTCC  CGTCCA  GTCCAA  TCCAAC  CCAACC  CAACCT  AACCTG  \\\n",
            "0     2.0     1.0     1.0     1.0     1.0     2.0     2.0     3.0     1.0   \n",
            "1     2.0     1.0     1.0     1.0     1.0     2.0     2.0     3.0     1.0   \n",
            "2     0.0     0.0     0.0     0.0     1.0     1.0     0.0     0.0     1.0   \n",
            "3     0.0     0.0     1.0     1.0     1.0     1.0     0.0     0.0     0.0   \n",
            "4     0.0     0.0     0.0     0.0     0.0     0.0     1.0     0.0     2.0   \n",
            "\n",
            "   ACCTGC  ...  TTCGTA  TCGTAC  CATTCG  ACGTCG  GCGTAC  TGGTCG  CATCGG  \\\n",
            "0     1.0  ...     0.0     0.0     0.0     0.0     0.0     0.0     0.0   \n",
            "1     1.0  ...     0.0     0.0     0.0     0.0     0.0     0.0     0.0   \n",
            "2     1.0  ...     0.0     0.0     0.0     0.0     0.0     0.0     0.0   \n",
            "3     2.0  ...     0.0     0.0     0.0     0.0     0.0     0.0     0.0   \n",
            "4     1.0  ...     0.0     0.0     0.0     0.0     0.0     0.0     0.0   \n",
            "\n",
            "   CGTACG  TACGCG  GTACGC  \n",
            "0     0.0     0.0     0.0  \n",
            "1     0.0     0.0     0.0  \n",
            "2     0.0     0.0     0.0  \n",
            "3     0.0     0.0     0.0  \n",
            "4     0.0     0.0     0.0  \n",
            "\n",
            "[5 rows x 4096 columns]\n"
          ]
        }
      ]
    },
    {
      "cell_type": "code",
      "source": [
        "from sklearn.ensemble import RandomForestClassifier\n",
        "from sklearn.model_selection import train_test_split, GridSearchCV\n",
        "from sklearn.metrics import accuracy_score\n",
        "\n",
        "# Dummy labels (replace with your actual labels)\n",
        "labels = np.random.randint(0, 2, size=len(fasta_records))\n",
        "\n",
        "# Split data into training and testing sets\n",
        "X_train, X_test, y_train, y_test = train_test_split(df, labels, test_size=0.2, random_state=42)\n",
        "\n",
        "# Initialize Random Forest classifier\n",
        "rf = RandomForestClassifier(random_state=42)\n",
        "\n",
        "# Define parameter grid for GridSearchCV\n",
        "param_grid = {\n",
        "    'n_estimators': [100, 200, 300],\n",
        "    'max_depth': [None, 10, 20],\n",
        "    'min_samples_split': [2, 5, 10],\n",
        "    'min_samples_leaf': [1, 2, 4],\n",
        "    'bootstrap': [True, False]\n",
        "}\n",
        "\n",
        "# Perform GridSearchCV for hyperparameter tuning\n",
        "grid_search = GridSearchCV(estimator=rf, param_grid=param_grid, cv=5, scoring='accuracy', verbose=1, n_jobs=-1)\n",
        "grid_search.fit(X_train, y_train)\n",
        "\n",
        "# Retrieve best model and its accuracy\n",
        "best_rf = grid_search.best_estimator_\n",
        "best_params = grid_search.best_params_\n",
        "best_score = grid_search.best_score_\n",
        "\n",
        "print(f\"Best parameters found: {best_params}\")\n",
        "print(f\"Best cross-validation accuracy: {best_score}\")\n",
        "\n",
        "# Evaluate the best model on the test set\n",
        "y_pred = best_rf.predict(X_test)\n",
        "test_accuracy = accuracy_score(y_test, y_pred)\n",
        "print(f\"Test set accuracy: {test_accuracy}\")\n"
      ],
      "metadata": {
        "colab": {
          "base_uri": "https://localhost:8080/"
        },
        "id": "PRC7UiXsD2b_",
        "outputId": "f60e138e-243d-47c0-daa3-489b8f45b706"
      },
      "execution_count": 13,
      "outputs": [
        {
          "output_type": "stream",
          "name": "stdout",
          "text": [
            "Fitting 5 folds for each of 162 candidates, totalling 810 fits\n",
            "Best parameters found: {'bootstrap': True, 'max_depth': 10, 'min_samples_leaf': 1, 'min_samples_split': 2, 'n_estimators': 100}\n",
            "Best cross-validation accuracy: 0.5425000000000001\n",
            "Test set accuracy: 0.42\n"
          ]
        }
      ]
    },
    {
      "cell_type": "code",
      "source": [
        "from sklearn.ensemble import RandomForestClassifier\n",
        "from sklearn.decomposition import PCA\n",
        "from sklearn.model_selection import GridSearchCV\n",
        "from sklearn.metrics import accuracy_score\n",
        "\n",
        "# Assuming you have preprocessed data in X_train, X_test, y_train, y_test\n",
        "\n",
        "# Step 1: Perform PCA for feature reduction\n",
        "n_components = 100  # Number of principal components to keep\n",
        "pca = PCA(n_components=n_components, random_state=42)\n",
        "\n",
        "X_train_pca = pca.fit_transform(X_train)\n",
        "X_test_pca = pca.transform(X_test)\n",
        "\n",
        "# Step 2: Hyperparameter tuning using GridSearchCV\n",
        "param_grid = {\n",
        "    'n_estimators': [50, 100, 200],\n",
        "    'max_depth': [5, 10, 20, None],\n",
        "    'min_samples_split': [2, 5, 10],\n",
        "    'min_samples_leaf': [1, 2, 4],\n",
        "    'bootstrap': [True, False]\n",
        "}\n",
        "\n",
        "rf = RandomForestClassifier(random_state=42)\n",
        "\n",
        "grid_search = GridSearchCV(estimator=rf, param_grid=param_grid, cv=5, scoring='accuracy', verbose=2, n_jobs=-1)\n",
        "grid_search.fit(X_train_pca, y_train)\n",
        "\n",
        "best_params = grid_search.best_params_\n",
        "print(\"Best parameters found:\", best_params)\n",
        "\n",
        "# Step 3: Evaluate on test set\n",
        "best_rf = grid_search.best_estimator_\n",
        "y_pred = best_rf.predict(X_test_pca)\n",
        "test_accuracy = accuracy_score(y_test, y_pred)\n",
        "print(\"Test set accuracy:\", test_accuracy)\n"
      ],
      "metadata": {
        "colab": {
          "base_uri": "https://localhost:8080/"
        },
        "id": "BlLPeyQzEJu-",
        "outputId": "1e0d2eaf-5619-4716-c915-9543ee34dbe4"
      },
      "execution_count": 14,
      "outputs": [
        {
          "output_type": "stream",
          "name": "stdout",
          "text": [
            "Fitting 5 folds for each of 216 candidates, totalling 1080 fits\n",
            "Best parameters found: {'bootstrap': True, 'max_depth': 10, 'min_samples_leaf': 1, 'min_samples_split': 2, 'n_estimators': 100}\n",
            "Test set accuracy: 0.52\n"
          ]
        }
      ]
    },
    {
      "cell_type": "code",
      "source": [
        "print(df.columns)\n"
      ],
      "metadata": {
        "colab": {
          "base_uri": "https://localhost:8080/"
        },
        "id": "TKql0e0CH7Qu",
        "outputId": "aa8aa25f-e87d-4917-d78e-97352f46e23a"
      },
      "execution_count": 16,
      "outputs": [
        {
          "output_type": "stream",
          "name": "stdout",
          "text": [
            "Index(['AGGCGT', 'GGCGTC', 'GCGTCC', 'CGTCCA', 'GTCCAA', 'TCCAAC', 'CCAACC',\n",
            "       'CAACCT', 'AACCTG', 'ACCTGC',\n",
            "       ...\n",
            "       'TTCGTA', 'TCGTAC', 'CATTCG', 'ACGTCG', 'GCGTAC', 'TGGTCG', 'CATCGG',\n",
            "       'CGTACG', 'TACGCG', 'GTACGC'],\n",
            "      dtype='object', length=4096)\n"
          ]
        }
      ]
    },
    {
      "cell_type": "code",
      "source": [
        "from sklearn.ensemble import RandomForestClassifier\n",
        "from sklearn.decomposition import PCA\n",
        "from sklearn.model_selection import GridSearchCV\n",
        "from sklearn.metrics import accuracy_score\n",
        "from sklearn.datasets import make_classification\n",
        "from sklearn.model_selection import train_test_split\n",
        "\n",
        "# Generate sample data (replace with your actual data loading)\n",
        "X, y = make_classification(n_samples=1000, n_features=100, n_informative=10, n_classes=2, random_state=42)\n",
        "X_train, X_test, y_train, y_test = train_test_split(X, y, test_size=0.2, random_state=42)\n",
        "\n",
        "# Step 1: Perform PCA for feature reduction\n",
        "n_components = 50  # Number of principal components to keep\n",
        "pca = PCA(n_components=n_components, random_state=42)\n",
        "\n",
        "X_train_pca = pca.fit_transform(X_train)\n",
        "X_test_pca = pca.transform(X_test)\n",
        "\n",
        "# Step 2: Hyperparameter tuning using GridSearchCV\n",
        "param_grid = {\n",
        "    'n_estimators': [100, 200, 300],\n",
        "    'max_depth': [None, 10, 20, 30],\n",
        "    'min_samples_split': [2, 5, 10],\n",
        "    'min_samples_leaf': [1, 2, 4],\n",
        "    'bootstrap': [True, False]\n",
        "}\n",
        "\n",
        "rf = RandomForestClassifier(random_state=42)\n",
        "\n",
        "grid_search = GridSearchCV(estimator=rf, param_grid=param_grid, cv=5, scoring='accuracy', verbose=2, n_jobs=-1)\n",
        "grid_search.fit(X_train_pca, y_train)\n",
        "\n",
        "best_params = grid_search.best_params_\n",
        "print(\"Best parameters found:\", best_params)\n",
        "\n",
        "# Step 3: Evaluate on test set\n",
        "best_rf = grid_search.best_estimator_\n",
        "y_pred = best_rf.predict(X_test_pca)\n",
        "test_accuracy = accuracy_score(y_test, y_pred)\n",
        "print(\"Test set accuracy:\", test_accuracy)\n",
        "\n"
      ],
      "metadata": {
        "colab": {
          "base_uri": "https://localhost:8080/"
        },
        "id": "2KYmBkS9KTIp",
        "outputId": "09c43111-3b6a-4b06-e5bb-edc7e0609752"
      },
      "execution_count": 19,
      "outputs": [
        {
          "output_type": "stream",
          "name": "stdout",
          "text": [
            "Fitting 5 folds for each of 216 candidates, totalling 1080 fits\n",
            "Best parameters found: {'bootstrap': False, 'max_depth': None, 'min_samples_leaf': 1, 'min_samples_split': 2, 'n_estimators': 100}\n",
            "Test set accuracy: 0.91\n"
          ]
        }
      ]
    },
    {
      "cell_type": "code",
      "source": [
        "#Code for Deep Learning with TensorFlow/Keras\n",
        "import numpy as np\n",
        "import tensorflow as tf\n",
        "from sklearn.datasets import make_classification\n",
        "from sklearn.model_selection import train_test_split\n",
        "from sklearn.metrics import accuracy_score\n",
        "\n",
        "# Generate sample data (replace with your actual data loading)\n",
        "X, y = make_classification(n_samples=1000, n_features=20, n_informative=10, n_classes=2, random_state=42)\n",
        "X_train, X_test, y_train, y_test = train_test_split(X, y, test_size=0.2, random_state=42)\n",
        "\n",
        "# Step 1: Build the neural network model\n",
        "model = tf.keras.Sequential([\n",
        "    tf.keras.layers.Dense(64, activation='relu', input_shape=(X_train.shape[1],)),\n",
        "    tf.keras.layers.Dropout(0.5),\n",
        "    tf.keras.layers.Dense(32, activation='relu'),\n",
        "    tf.keras.layers.Dropout(0.3),\n",
        "    tf.keras.layers.Dense(1, activation='sigmoid')  # Output layer with sigmoid for binary classification\n",
        "])\n",
        "\n",
        "# Compile the model\n",
        "model.compile(optimizer=tf.keras.optimizers.Adam(learning_rate=0.001),\n",
        "              loss='binary_crossentropy',\n",
        "              metrics=['accuracy'])\n",
        "\n",
        "# Step 2: Train the model\n",
        "model.fit(X_train, y_train, epochs=50, batch_size=32, verbose=1)\n",
        "\n",
        "# Step 3: Evaluate the model on test data\n",
        "y_pred_proba = model.predict(X_test)\n",
        "y_pred = (y_pred_proba > 0.5).astype(int).flatten()  # Convert probabilities to binary predictions\n",
        "\n",
        "test_accuracy = accuracy_score(y_test, y_pred)\n",
        "print(\"Test set accuracy:\", test_accuracy)\n"
      ],
      "metadata": {
        "colab": {
          "base_uri": "https://localhost:8080/"
        },
        "id": "HSPzo2CHLB_b",
        "outputId": "bd1fd02e-d790-4940-bc33-a5c8146269d0"
      },
      "execution_count": 21,
      "outputs": [
        {
          "output_type": "stream",
          "name": "stdout",
          "text": [
            "Epoch 1/50\n",
            "25/25 [==============================] - 1s 3ms/step - loss: 0.9363 - accuracy: 0.4963\n",
            "Epoch 2/50\n",
            "25/25 [==============================] - 0s 3ms/step - loss: 0.7526 - accuracy: 0.5913\n",
            "Epoch 3/50\n",
            "25/25 [==============================] - 0s 3ms/step - loss: 0.6173 - accuracy: 0.6513\n",
            "Epoch 4/50\n",
            "25/25 [==============================] - 0s 3ms/step - loss: 0.5119 - accuracy: 0.7387\n",
            "Epoch 5/50\n",
            "25/25 [==============================] - 0s 3ms/step - loss: 0.4623 - accuracy: 0.7788\n",
            "Epoch 6/50\n",
            "25/25 [==============================] - 0s 2ms/step - loss: 0.4585 - accuracy: 0.7763\n",
            "Epoch 7/50\n",
            "25/25 [==============================] - 0s 3ms/step - loss: 0.4455 - accuracy: 0.7900\n",
            "Epoch 8/50\n",
            "25/25 [==============================] - 0s 2ms/step - loss: 0.4068 - accuracy: 0.8175\n",
            "Epoch 9/50\n",
            "25/25 [==============================] - 0s 3ms/step - loss: 0.3940 - accuracy: 0.8213\n",
            "Epoch 10/50\n",
            "25/25 [==============================] - 0s 2ms/step - loss: 0.3891 - accuracy: 0.8225\n",
            "Epoch 11/50\n",
            "25/25 [==============================] - 0s 3ms/step - loss: 0.3549 - accuracy: 0.8450\n",
            "Epoch 12/50\n",
            "25/25 [==============================] - 0s 4ms/step - loss: 0.3194 - accuracy: 0.8587\n",
            "Epoch 13/50\n",
            "25/25 [==============================] - 0s 3ms/step - loss: 0.3099 - accuracy: 0.8712\n",
            "Epoch 14/50\n",
            "25/25 [==============================] - 0s 3ms/step - loss: 0.3313 - accuracy: 0.8600\n",
            "Epoch 15/50\n",
            "25/25 [==============================] - 0s 2ms/step - loss: 0.2883 - accuracy: 0.8775\n",
            "Epoch 16/50\n",
            "25/25 [==============================] - 0s 2ms/step - loss: 0.2795 - accuracy: 0.8838\n",
            "Epoch 17/50\n",
            "25/25 [==============================] - 0s 3ms/step - loss: 0.2757 - accuracy: 0.8875\n",
            "Epoch 18/50\n",
            "25/25 [==============================] - 0s 3ms/step - loss: 0.2789 - accuracy: 0.8863\n",
            "Epoch 19/50\n",
            "25/25 [==============================] - 0s 3ms/step - loss: 0.2851 - accuracy: 0.8875\n",
            "Epoch 20/50\n",
            "25/25 [==============================] - 0s 3ms/step - loss: 0.2619 - accuracy: 0.8900\n",
            "Epoch 21/50\n",
            "25/25 [==============================] - 0s 3ms/step - loss: 0.2547 - accuracy: 0.9025\n",
            "Epoch 22/50\n",
            "25/25 [==============================] - 0s 3ms/step - loss: 0.2573 - accuracy: 0.8863\n",
            "Epoch 23/50\n",
            "25/25 [==============================] - 0s 4ms/step - loss: 0.2405 - accuracy: 0.8913\n",
            "Epoch 24/50\n",
            "25/25 [==============================] - 0s 4ms/step - loss: 0.2450 - accuracy: 0.9137\n",
            "Epoch 25/50\n",
            "25/25 [==============================] - 0s 4ms/step - loss: 0.2339 - accuracy: 0.9150\n",
            "Epoch 26/50\n",
            "25/25 [==============================] - 0s 3ms/step - loss: 0.2318 - accuracy: 0.9112\n",
            "Epoch 27/50\n",
            "25/25 [==============================] - 0s 3ms/step - loss: 0.2097 - accuracy: 0.9125\n",
            "Epoch 28/50\n",
            "25/25 [==============================] - 0s 2ms/step - loss: 0.2285 - accuracy: 0.9038\n",
            "Epoch 29/50\n",
            "25/25 [==============================] - 0s 3ms/step - loss: 0.2145 - accuracy: 0.9212\n",
            "Epoch 30/50\n",
            "25/25 [==============================] - 0s 2ms/step - loss: 0.2164 - accuracy: 0.9175\n",
            "Epoch 31/50\n",
            "25/25 [==============================] - 0s 2ms/step - loss: 0.2067 - accuracy: 0.9237\n",
            "Epoch 32/50\n",
            "25/25 [==============================] - 0s 2ms/step - loss: 0.2018 - accuracy: 0.9137\n",
            "Epoch 33/50\n",
            "25/25 [==============================] - 0s 3ms/step - loss: 0.2011 - accuracy: 0.9150\n",
            "Epoch 34/50\n",
            "25/25 [==============================] - 0s 4ms/step - loss: 0.2057 - accuracy: 0.9187\n",
            "Epoch 35/50\n",
            "25/25 [==============================] - 0s 3ms/step - loss: 0.2146 - accuracy: 0.9175\n",
            "Epoch 36/50\n",
            "25/25 [==============================] - 0s 3ms/step - loss: 0.2046 - accuracy: 0.9262\n",
            "Epoch 37/50\n",
            "25/25 [==============================] - 0s 3ms/step - loss: 0.2007 - accuracy: 0.9150\n",
            "Epoch 38/50\n",
            "25/25 [==============================] - 0s 2ms/step - loss: 0.1783 - accuracy: 0.9250\n",
            "Epoch 39/50\n",
            "25/25 [==============================] - 0s 2ms/step - loss: 0.1648 - accuracy: 0.9375\n",
            "Epoch 40/50\n",
            "25/25 [==============================] - 0s 2ms/step - loss: 0.1937 - accuracy: 0.9325\n",
            "Epoch 41/50\n",
            "25/25 [==============================] - 0s 2ms/step - loss: 0.1878 - accuracy: 0.9225\n",
            "Epoch 42/50\n",
            "25/25 [==============================] - 0s 2ms/step - loss: 0.1810 - accuracy: 0.9300\n",
            "Epoch 43/50\n",
            "25/25 [==============================] - 0s 2ms/step - loss: 0.1595 - accuracy: 0.9400\n",
            "Epoch 44/50\n",
            "25/25 [==============================] - 0s 2ms/step - loss: 0.1872 - accuracy: 0.9250\n",
            "Epoch 45/50\n",
            "25/25 [==============================] - 0s 2ms/step - loss: 0.1545 - accuracy: 0.9400\n",
            "Epoch 46/50\n",
            "25/25 [==============================] - 0s 2ms/step - loss: 0.1580 - accuracy: 0.9425\n",
            "Epoch 47/50\n",
            "25/25 [==============================] - 0s 2ms/step - loss: 0.1575 - accuracy: 0.9450\n",
            "Epoch 48/50\n",
            "25/25 [==============================] - 0s 2ms/step - loss: 0.1657 - accuracy: 0.9500\n",
            "Epoch 49/50\n",
            "25/25 [==============================] - 0s 2ms/step - loss: 0.1619 - accuracy: 0.9438\n",
            "Epoch 50/50\n",
            "25/25 [==============================] - 0s 3ms/step - loss: 0.1575 - accuracy: 0.9400\n",
            "7/7 [==============================] - 0s 2ms/step\n",
            "Test set accuracy: 0.935\n"
          ]
        }
      ]
    },
    {
      "cell_type": "code",
      "source": [],
      "metadata": {
        "id": "XxVTbIEvWTYG"
      },
      "execution_count": null,
      "outputs": []
    }
  ]
}