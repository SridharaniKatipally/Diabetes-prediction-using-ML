{
  "nbformat": 4,
  "nbformat_minor": 0,
  "metadata": {
    "colab": {
      "provenance": [],
      "authorship_tag": "ABX9TyObJi3zf65SSiSq8XXjDcxJ",
      "include_colab_link": true
    },
    "kernelspec": {
      "name": "python3",
      "display_name": "Python 3"
    },
    "language_info": {
      "name": "python"
    }
  },
  "cells": [
    {
      "cell_type": "markdown",
      "metadata": {
        "id": "view-in-github",
        "colab_type": "text"
      },
      "source": [
        "<a href=\"https://colab.research.google.com/github/SridharaniKatipally/Diabetes-prediction-using-ML/blob/main/diabetes(new).ipynb\" target=\"_parent\"><img src=\"https://colab.research.google.com/assets/colab-badge.svg\" alt=\"Open In Colab\"/></a>"
      ]
    },
    {
      "cell_type": "code",
      "execution_count": 16,
      "metadata": {
        "id": "gwLWXwEJtK4M"
      },
      "outputs": [],
      "source": [
        "from sklearn.model_selection import StratifiedKFold, GridSearchCV\n",
        "from imblearn.over_sampling import SMOTE\n",
        "from imblearn.under_sampling import RandomUnderSampler\n",
        "from imblearn.combine import SMOTEENN\n",
        "from sklearn.preprocessing import StandardScaler, LabelEncoder\n",
        "from sklearn.ensemble import RandomForestClassifier\n",
        "from sklearn.metrics import accuracy_score, confusion_matrix, classification_report, roc_auc_score\n",
        "import matplotlib.pyplot as plt\n",
        "import seaborn as sns"
      ]
    },
    {
      "cell_type": "code",
      "source": [
        "# Load the dataset\n",
        "file_path = '/content/Dataset of Diabetes .csv'\n",
        "data = pd.read_csv(file_path)"
      ],
      "metadata": {
        "id": "vbACeL8jtbxS"
      },
      "execution_count": 17,
      "outputs": []
    },
    {
      "cell_type": "code",
      "source": [
        "data.head()\n"
      ],
      "metadata": {
        "colab": {
          "base_uri": "https://localhost:8080/",
          "height": 206
        },
        "id": "mDFnI9ZItmpW",
        "outputId": "e872bdab-ff6c-4603-e4cd-9647714cf61c"
      },
      "execution_count": 18,
      "outputs": [
        {
          "output_type": "execute_result",
          "data": {
            "text/plain": [
              "    ID  No_Pation Gender  AGE  Urea  Cr  HbA1c  Chol   TG  HDL  LDL  VLDL  \\\n",
              "0  502      17975      F   50   4.7  46    4.9   4.2  0.9  2.4  1.4   0.5   \n",
              "1  735      34221      M   26   4.5  62    4.9   3.7  1.4  1.1  2.1   0.6   \n",
              "2  420      47975      F   50   4.7  46    4.9   4.2  0.9  2.4  1.4   0.5   \n",
              "3  680      87656      F   50   4.7  46    4.9   4.2  0.9  2.4  1.4   0.5   \n",
              "4  504      34223      M   33   7.1  46    4.9   4.9  1.0  0.8  2.0   0.4   \n",
              "\n",
              "    BMI CLASS  \n",
              "0  24.0     N  \n",
              "1  23.0     N  \n",
              "2  24.0     N  \n",
              "3  24.0     N  \n",
              "4  21.0     N  "
            ],
            "text/html": [
              "\n",
              "  <div id=\"df-b0f70d95-2f2c-46cd-bd6d-f68a11b4be8d\" class=\"colab-df-container\">\n",
              "    <div>\n",
              "<style scoped>\n",
              "    .dataframe tbody tr th:only-of-type {\n",
              "        vertical-align: middle;\n",
              "    }\n",
              "\n",
              "    .dataframe tbody tr th {\n",
              "        vertical-align: top;\n",
              "    }\n",
              "\n",
              "    .dataframe thead th {\n",
              "        text-align: right;\n",
              "    }\n",
              "</style>\n",
              "<table border=\"1\" class=\"dataframe\">\n",
              "  <thead>\n",
              "    <tr style=\"text-align: right;\">\n",
              "      <th></th>\n",
              "      <th>ID</th>\n",
              "      <th>No_Pation</th>\n",
              "      <th>Gender</th>\n",
              "      <th>AGE</th>\n",
              "      <th>Urea</th>\n",
              "      <th>Cr</th>\n",
              "      <th>HbA1c</th>\n",
              "      <th>Chol</th>\n",
              "      <th>TG</th>\n",
              "      <th>HDL</th>\n",
              "      <th>LDL</th>\n",
              "      <th>VLDL</th>\n",
              "      <th>BMI</th>\n",
              "      <th>CLASS</th>\n",
              "    </tr>\n",
              "  </thead>\n",
              "  <tbody>\n",
              "    <tr>\n",
              "      <th>0</th>\n",
              "      <td>502</td>\n",
              "      <td>17975</td>\n",
              "      <td>F</td>\n",
              "      <td>50</td>\n",
              "      <td>4.7</td>\n",
              "      <td>46</td>\n",
              "      <td>4.9</td>\n",
              "      <td>4.2</td>\n",
              "      <td>0.9</td>\n",
              "      <td>2.4</td>\n",
              "      <td>1.4</td>\n",
              "      <td>0.5</td>\n",
              "      <td>24.0</td>\n",
              "      <td>N</td>\n",
              "    </tr>\n",
              "    <tr>\n",
              "      <th>1</th>\n",
              "      <td>735</td>\n",
              "      <td>34221</td>\n",
              "      <td>M</td>\n",
              "      <td>26</td>\n",
              "      <td>4.5</td>\n",
              "      <td>62</td>\n",
              "      <td>4.9</td>\n",
              "      <td>3.7</td>\n",
              "      <td>1.4</td>\n",
              "      <td>1.1</td>\n",
              "      <td>2.1</td>\n",
              "      <td>0.6</td>\n",
              "      <td>23.0</td>\n",
              "      <td>N</td>\n",
              "    </tr>\n",
              "    <tr>\n",
              "      <th>2</th>\n",
              "      <td>420</td>\n",
              "      <td>47975</td>\n",
              "      <td>F</td>\n",
              "      <td>50</td>\n",
              "      <td>4.7</td>\n",
              "      <td>46</td>\n",
              "      <td>4.9</td>\n",
              "      <td>4.2</td>\n",
              "      <td>0.9</td>\n",
              "      <td>2.4</td>\n",
              "      <td>1.4</td>\n",
              "      <td>0.5</td>\n",
              "      <td>24.0</td>\n",
              "      <td>N</td>\n",
              "    </tr>\n",
              "    <tr>\n",
              "      <th>3</th>\n",
              "      <td>680</td>\n",
              "      <td>87656</td>\n",
              "      <td>F</td>\n",
              "      <td>50</td>\n",
              "      <td>4.7</td>\n",
              "      <td>46</td>\n",
              "      <td>4.9</td>\n",
              "      <td>4.2</td>\n",
              "      <td>0.9</td>\n",
              "      <td>2.4</td>\n",
              "      <td>1.4</td>\n",
              "      <td>0.5</td>\n",
              "      <td>24.0</td>\n",
              "      <td>N</td>\n",
              "    </tr>\n",
              "    <tr>\n",
              "      <th>4</th>\n",
              "      <td>504</td>\n",
              "      <td>34223</td>\n",
              "      <td>M</td>\n",
              "      <td>33</td>\n",
              "      <td>7.1</td>\n",
              "      <td>46</td>\n",
              "      <td>4.9</td>\n",
              "      <td>4.9</td>\n",
              "      <td>1.0</td>\n",
              "      <td>0.8</td>\n",
              "      <td>2.0</td>\n",
              "      <td>0.4</td>\n",
              "      <td>21.0</td>\n",
              "      <td>N</td>\n",
              "    </tr>\n",
              "  </tbody>\n",
              "</table>\n",
              "</div>\n",
              "    <div class=\"colab-df-buttons\">\n",
              "\n",
              "  <div class=\"colab-df-container\">\n",
              "    <button class=\"colab-df-convert\" onclick=\"convertToInteractive('df-b0f70d95-2f2c-46cd-bd6d-f68a11b4be8d')\"\n",
              "            title=\"Convert this dataframe to an interactive table.\"\n",
              "            style=\"display:none;\">\n",
              "\n",
              "  <svg xmlns=\"http://www.w3.org/2000/svg\" height=\"24px\" viewBox=\"0 -960 960 960\">\n",
              "    <path d=\"M120-120v-720h720v720H120Zm60-500h600v-160H180v160Zm220 220h160v-160H400v160Zm0 220h160v-160H400v160ZM180-400h160v-160H180v160Zm440 0h160v-160H620v160ZM180-180h160v-160H180v160Zm440 0h160v-160H620v160Z\"/>\n",
              "  </svg>\n",
              "    </button>\n",
              "\n",
              "  <style>\n",
              "    .colab-df-container {\n",
              "      display:flex;\n",
              "      gap: 12px;\n",
              "    }\n",
              "\n",
              "    .colab-df-convert {\n",
              "      background-color: #E8F0FE;\n",
              "      border: none;\n",
              "      border-radius: 50%;\n",
              "      cursor: pointer;\n",
              "      display: none;\n",
              "      fill: #1967D2;\n",
              "      height: 32px;\n",
              "      padding: 0 0 0 0;\n",
              "      width: 32px;\n",
              "    }\n",
              "\n",
              "    .colab-df-convert:hover {\n",
              "      background-color: #E2EBFA;\n",
              "      box-shadow: 0px 1px 2px rgba(60, 64, 67, 0.3), 0px 1px 3px 1px rgba(60, 64, 67, 0.15);\n",
              "      fill: #174EA6;\n",
              "    }\n",
              "\n",
              "    .colab-df-buttons div {\n",
              "      margin-bottom: 4px;\n",
              "    }\n",
              "\n",
              "    [theme=dark] .colab-df-convert {\n",
              "      background-color: #3B4455;\n",
              "      fill: #D2E3FC;\n",
              "    }\n",
              "\n",
              "    [theme=dark] .colab-df-convert:hover {\n",
              "      background-color: #434B5C;\n",
              "      box-shadow: 0px 1px 3px 1px rgba(0, 0, 0, 0.15);\n",
              "      filter: drop-shadow(0px 1px 2px rgba(0, 0, 0, 0.3));\n",
              "      fill: #FFFFFF;\n",
              "    }\n",
              "  </style>\n",
              "\n",
              "    <script>\n",
              "      const buttonEl =\n",
              "        document.querySelector('#df-b0f70d95-2f2c-46cd-bd6d-f68a11b4be8d button.colab-df-convert');\n",
              "      buttonEl.style.display =\n",
              "        google.colab.kernel.accessAllowed ? 'block' : 'none';\n",
              "\n",
              "      async function convertToInteractive(key) {\n",
              "        const element = document.querySelector('#df-b0f70d95-2f2c-46cd-bd6d-f68a11b4be8d');\n",
              "        const dataTable =\n",
              "          await google.colab.kernel.invokeFunction('convertToInteractive',\n",
              "                                                    [key], {});\n",
              "        if (!dataTable) return;\n",
              "\n",
              "        const docLinkHtml = 'Like what you see? Visit the ' +\n",
              "          '<a target=\"_blank\" href=https://colab.research.google.com/notebooks/data_table.ipynb>data table notebook</a>'\n",
              "          + ' to learn more about interactive tables.';\n",
              "        element.innerHTML = '';\n",
              "        dataTable['output_type'] = 'display_data';\n",
              "        await google.colab.output.renderOutput(dataTable, element);\n",
              "        const docLink = document.createElement('div');\n",
              "        docLink.innerHTML = docLinkHtml;\n",
              "        element.appendChild(docLink);\n",
              "      }\n",
              "    </script>\n",
              "  </div>\n",
              "\n",
              "\n",
              "<div id=\"df-0c3be18f-c10f-4457-93d4-b9044fbe0466\">\n",
              "  <button class=\"colab-df-quickchart\" onclick=\"quickchart('df-0c3be18f-c10f-4457-93d4-b9044fbe0466')\"\n",
              "            title=\"Suggest charts\"\n",
              "            style=\"display:none;\">\n",
              "\n",
              "<svg xmlns=\"http://www.w3.org/2000/svg\" height=\"24px\"viewBox=\"0 0 24 24\"\n",
              "     width=\"24px\">\n",
              "    <g>\n",
              "        <path d=\"M19 3H5c-1.1 0-2 .9-2 2v14c0 1.1.9 2 2 2h14c1.1 0 2-.9 2-2V5c0-1.1-.9-2-2-2zM9 17H7v-7h2v7zm4 0h-2V7h2v10zm4 0h-2v-4h2v4z\"/>\n",
              "    </g>\n",
              "</svg>\n",
              "  </button>\n",
              "\n",
              "<style>\n",
              "  .colab-df-quickchart {\n",
              "      --bg-color: #E8F0FE;\n",
              "      --fill-color: #1967D2;\n",
              "      --hover-bg-color: #E2EBFA;\n",
              "      --hover-fill-color: #174EA6;\n",
              "      --disabled-fill-color: #AAA;\n",
              "      --disabled-bg-color: #DDD;\n",
              "  }\n",
              "\n",
              "  [theme=dark] .colab-df-quickchart {\n",
              "      --bg-color: #3B4455;\n",
              "      --fill-color: #D2E3FC;\n",
              "      --hover-bg-color: #434B5C;\n",
              "      --hover-fill-color: #FFFFFF;\n",
              "      --disabled-bg-color: #3B4455;\n",
              "      --disabled-fill-color: #666;\n",
              "  }\n",
              "\n",
              "  .colab-df-quickchart {\n",
              "    background-color: var(--bg-color);\n",
              "    border: none;\n",
              "    border-radius: 50%;\n",
              "    cursor: pointer;\n",
              "    display: none;\n",
              "    fill: var(--fill-color);\n",
              "    height: 32px;\n",
              "    padding: 0;\n",
              "    width: 32px;\n",
              "  }\n",
              "\n",
              "  .colab-df-quickchart:hover {\n",
              "    background-color: var(--hover-bg-color);\n",
              "    box-shadow: 0 1px 2px rgba(60, 64, 67, 0.3), 0 1px 3px 1px rgba(60, 64, 67, 0.15);\n",
              "    fill: var(--button-hover-fill-color);\n",
              "  }\n",
              "\n",
              "  .colab-df-quickchart-complete:disabled,\n",
              "  .colab-df-quickchart-complete:disabled:hover {\n",
              "    background-color: var(--disabled-bg-color);\n",
              "    fill: var(--disabled-fill-color);\n",
              "    box-shadow: none;\n",
              "  }\n",
              "\n",
              "  .colab-df-spinner {\n",
              "    border: 2px solid var(--fill-color);\n",
              "    border-color: transparent;\n",
              "    border-bottom-color: var(--fill-color);\n",
              "    animation:\n",
              "      spin 1s steps(1) infinite;\n",
              "  }\n",
              "\n",
              "  @keyframes spin {\n",
              "    0% {\n",
              "      border-color: transparent;\n",
              "      border-bottom-color: var(--fill-color);\n",
              "      border-left-color: var(--fill-color);\n",
              "    }\n",
              "    20% {\n",
              "      border-color: transparent;\n",
              "      border-left-color: var(--fill-color);\n",
              "      border-top-color: var(--fill-color);\n",
              "    }\n",
              "    30% {\n",
              "      border-color: transparent;\n",
              "      border-left-color: var(--fill-color);\n",
              "      border-top-color: var(--fill-color);\n",
              "      border-right-color: var(--fill-color);\n",
              "    }\n",
              "    40% {\n",
              "      border-color: transparent;\n",
              "      border-right-color: var(--fill-color);\n",
              "      border-top-color: var(--fill-color);\n",
              "    }\n",
              "    60% {\n",
              "      border-color: transparent;\n",
              "      border-right-color: var(--fill-color);\n",
              "    }\n",
              "    80% {\n",
              "      border-color: transparent;\n",
              "      border-right-color: var(--fill-color);\n",
              "      border-bottom-color: var(--fill-color);\n",
              "    }\n",
              "    90% {\n",
              "      border-color: transparent;\n",
              "      border-bottom-color: var(--fill-color);\n",
              "    }\n",
              "  }\n",
              "</style>\n",
              "\n",
              "  <script>\n",
              "    async function quickchart(key) {\n",
              "      const quickchartButtonEl =\n",
              "        document.querySelector('#' + key + ' button');\n",
              "      quickchartButtonEl.disabled = true;  // To prevent multiple clicks.\n",
              "      quickchartButtonEl.classList.add('colab-df-spinner');\n",
              "      try {\n",
              "        const charts = await google.colab.kernel.invokeFunction(\n",
              "            'suggestCharts', [key], {});\n",
              "      } catch (error) {\n",
              "        console.error('Error during call to suggestCharts:', error);\n",
              "      }\n",
              "      quickchartButtonEl.classList.remove('colab-df-spinner');\n",
              "      quickchartButtonEl.classList.add('colab-df-quickchart-complete');\n",
              "    }\n",
              "    (() => {\n",
              "      let quickchartButtonEl =\n",
              "        document.querySelector('#df-0c3be18f-c10f-4457-93d4-b9044fbe0466 button');\n",
              "      quickchartButtonEl.style.display =\n",
              "        google.colab.kernel.accessAllowed ? 'block' : 'none';\n",
              "    })();\n",
              "  </script>\n",
              "</div>\n",
              "\n",
              "    </div>\n",
              "  </div>\n"
            ],
            "application/vnd.google.colaboratory.intrinsic+json": {
              "type": "dataframe",
              "variable_name": "data",
              "summary": "{\n  \"name\": \"data\",\n  \"rows\": 1000,\n  \"fields\": [\n    {\n      \"column\": \"ID\",\n      \"properties\": {\n        \"dtype\": \"number\",\n        \"std\": 240,\n        \"min\": 1,\n        \"max\": 800,\n        \"num_unique_values\": 800,\n        \"samples\": [\n          537,\n          745,\n          7\n        ],\n        \"semantic_type\": \"\",\n        \"description\": \"\"\n      }\n    },\n    {\n      \"column\": \"No_Pation\",\n      \"properties\": {\n        \"dtype\": \"number\",\n        \"std\": 3380757,\n        \"min\": 123,\n        \"max\": 75435657,\n        \"num_unique_values\": 961,\n        \"samples\": [\n          24089,\n          24105,\n          34348\n        ],\n        \"semantic_type\": \"\",\n        \"description\": \"\"\n      }\n    },\n    {\n      \"column\": \"Gender\",\n      \"properties\": {\n        \"dtype\": \"category\",\n        \"num_unique_values\": 3,\n        \"samples\": [\n          \"F\",\n          \"M\",\n          \"f\"\n        ],\n        \"semantic_type\": \"\",\n        \"description\": \"\"\n      }\n    },\n    {\n      \"column\": \"AGE\",\n      \"properties\": {\n        \"dtype\": \"number\",\n        \"std\": 8,\n        \"min\": 20,\n        \"max\": 79,\n        \"num_unique_values\": 50,\n        \"samples\": [\n          44,\n          68,\n          28\n        ],\n        \"semantic_type\": \"\",\n        \"description\": \"\"\n      }\n    },\n    {\n      \"column\": \"Urea\",\n      \"properties\": {\n        \"dtype\": \"number\",\n        \"std\": 2.9351654415245694,\n        \"min\": 0.5,\n        \"max\": 38.9,\n        \"num_unique_values\": 110,\n        \"samples\": [\n          10.4,\n          4.6,\n          2.0\n        ],\n        \"semantic_type\": \"\",\n        \"description\": \"\"\n      }\n    },\n    {\n      \"column\": \"Cr\",\n      \"properties\": {\n        \"dtype\": \"number\",\n        \"std\": 59,\n        \"min\": 6,\n        \"max\": 800,\n        \"num_unique_values\": 113,\n        \"samples\": [\n          41,\n          47,\n          97\n        ],\n        \"semantic_type\": \"\",\n        \"description\": \"\"\n      }\n    },\n    {\n      \"column\": \"HbA1c\",\n      \"properties\": {\n        \"dtype\": \"number\",\n        \"std\": 2.534003122773574,\n        \"min\": 0.9,\n        \"max\": 16.0,\n        \"num_unique_values\": 111,\n        \"samples\": [\n          10.0,\n          4.3,\n          5.1\n        ],\n        \"semantic_type\": \"\",\n        \"description\": \"\"\n      }\n    },\n    {\n      \"column\": \"Chol\",\n      \"properties\": {\n        \"dtype\": \"number\",\n        \"std\": 1.301737518921602,\n        \"min\": 0.0,\n        \"max\": 10.3,\n        \"num_unique_values\": 77,\n        \"samples\": [\n          3.6,\n          2.1,\n          0.5\n        ],\n        \"semantic_type\": \"\",\n        \"description\": \"\"\n      }\n    },\n    {\n      \"column\": \"TG\",\n      \"properties\": {\n        \"dtype\": \"number\",\n        \"std\": 1.40117602111303,\n        \"min\": 0.3,\n        \"max\": 13.8,\n        \"num_unique_values\": 69,\n        \"samples\": [\n          2.7,\n          0.9,\n          3.6\n        ],\n        \"semantic_type\": \"\",\n        \"description\": \"\"\n      }\n    },\n    {\n      \"column\": \"HDL\",\n      \"properties\": {\n        \"dtype\": \"number\",\n        \"std\": 0.6604135701085976,\n        \"min\": 0.2,\n        \"max\": 9.9,\n        \"num_unique_values\": 48,\n        \"samples\": [\n          1.08,\n          0.2,\n          6.6\n        ],\n        \"semantic_type\": \"\",\n        \"description\": \"\"\n      }\n    },\n    {\n      \"column\": \"LDL\",\n      \"properties\": {\n        \"dtype\": \"number\",\n        \"std\": 1.1151017477377605,\n        \"min\": 0.3,\n        \"max\": 9.9,\n        \"num_unique_values\": 65,\n        \"samples\": [\n          0.96,\n          1.04,\n          1.4\n        ],\n        \"semantic_type\": \"\",\n        \"description\": \"\"\n      }\n    },\n    {\n      \"column\": \"VLDL\",\n      \"properties\": {\n        \"dtype\": \"number\",\n        \"std\": 3.663599305310267,\n        \"min\": 0.1,\n        \"max\": 35.0,\n        \"num_unique_values\": 60,\n        \"samples\": [\n          0.5,\n          0.8,\n          2.2\n        ],\n        \"semantic_type\": \"\",\n        \"description\": \"\"\n      }\n    },\n    {\n      \"column\": \"BMI\",\n      \"properties\": {\n        \"dtype\": \"number\",\n        \"std\": 4.962388112126598,\n        \"min\": 19.0,\n        \"max\": 47.75,\n        \"num_unique_values\": 64,\n        \"samples\": [\n          36.11,\n          37.62,\n          24.0\n        ],\n        \"semantic_type\": \"\",\n        \"description\": \"\"\n      }\n    },\n    {\n      \"column\": \"CLASS\",\n      \"properties\": {\n        \"dtype\": \"category\",\n        \"num_unique_values\": 5,\n        \"samples\": [\n          \"N \",\n          \"Y \",\n          \"P\"\n        ],\n        \"semantic_type\": \"\",\n        \"description\": \"\"\n      }\n    }\n  ]\n}"
            }
          },
          "metadata": {},
          "execution_count": 18
        }
      ]
    },
    {
      "cell_type": "code",
      "source": [
        "# Encode categorical variables\n",
        "label_encoder = LabelEncoder()\n",
        "data['Gender'] = label_encoder.fit_transform(data['Gender'])\n",
        "data['CLASS'] = label_encoder.fit_transform(data['CLASS'])"
      ],
      "metadata": {
        "id": "S9247nBhtwpt"
      },
      "execution_count": 19,
      "outputs": []
    },
    {
      "cell_type": "code",
      "source": [
        "# Define features and target variable\n",
        "X = data.drop(['ID', 'No_Pation', 'CLASS'], axis=1)\n",
        "y = data['CLASS']\n"
      ],
      "metadata": {
        "id": "ILZ08ZaetzwW"
      },
      "execution_count": 20,
      "outputs": []
    },
    {
      "cell_type": "code",
      "source": [
        "# Check the class distribution\n",
        "class_counts = y.value_counts()\n",
        "print(class_counts)"
      ],
      "metadata": {
        "colab": {
          "base_uri": "https://localhost:8080/"
        },
        "id": "VodFzTvovosE",
        "outputId": "dd8841fc-a8b8-464d-8cbd-11ed7c956991"
      },
      "execution_count": 21,
      "outputs": [
        {
          "output_type": "stream",
          "name": "stdout",
          "text": [
            "CLASS\n",
            "3    840\n",
            "0    102\n",
            "2     53\n",
            "4      4\n",
            "1      1\n",
            "Name: count, dtype: int64\n"
          ]
        }
      ]
    },
    {
      "cell_type": "code",
      "source": [
        "# Remove the extremely small class\n",
        "data = data[y != 1]\n",
        "X = data.drop(['ID', 'No_Pation', 'CLASS'], axis=1)\n",
        "y = data['CLASS']"
      ],
      "metadata": {
        "id": "tj5Pc66qt4cV"
      },
      "execution_count": 24,
      "outputs": []
    },
    {
      "cell_type": "code",
      "source": [
        "# Check the class distribution again\n",
        "class_counts = y.value_counts()\n",
        "print(class_counts)\n"
      ],
      "metadata": {
        "colab": {
          "base_uri": "https://localhost:8080/"
        },
        "id": "Vau9kKkGt8Wm",
        "outputId": "d42c3f4b-e2e3-458f-d839-daeeea85ee10"
      },
      "execution_count": 25,
      "outputs": [
        {
          "output_type": "stream",
          "name": "stdout",
          "text": [
            "CLASS\n",
            "3    840\n",
            "0    102\n",
            "2     53\n",
            "4      4\n",
            "Name: count, dtype: int64\n"
          ]
        }
      ]
    },
    {
      "cell_type": "code",
      "source": [
        "# Handle class imbalance with SMOTE (with adjusted k_neighbors) and RandomUnderSampler\n",
        "smote = SMOTE(random_state=42, k_neighbors=1)\n",
        "X_smote, y_smote = smote.fit_resample(X, y)\n",
        "\n",
        "under = RandomUnderSampler(random_state=42)\n",
        "X_resampled, y_resampled = under.fit_resample(X_smote, y_smote)\n"
      ],
      "metadata": {
        "id": "R1g7XDtnud9d"
      },
      "execution_count": 26,
      "outputs": []
    },
    {
      "cell_type": "code",
      "source": [
        "# Split the data into training and testing sets\n",
        "X_train, X_test, y_train, y_test = train_test_split(X_resampled, y_resampled, test_size=0.2, random_state=42)"
      ],
      "metadata": {
        "id": "fAW6gPILumKJ"
      },
      "execution_count": 27,
      "outputs": []
    },
    {
      "cell_type": "code",
      "source": [
        "# Normalize/Standardize continuous features\n",
        "scaler = StandardScaler()\n",
        "X_train = scaler.fit_transform(X_train)\n",
        "X_test = scaler.transform(X_test)"
      ],
      "metadata": {
        "id": "3gbBhRQfupUr"
      },
      "execution_count": 28,
      "outputs": []
    },
    {
      "cell_type": "code",
      "source": [
        "# Initialize and train the Random Forest model with StratifiedKFold\n",
        "rf = RandomForestClassifier(random_state=42)\n",
        "param_grid = {\n",
        "    'n_estimators': [100, 200, 300],\n",
        "    'max_depth': [None, 10, 20, 30],\n",
        "    'min_samples_split': [2, 5, 10],\n",
        "    'min_samples_leaf': [1, 2, 4]\n",
        "}\n",
        "strat_kfold = StratifiedKFold(n_splits=3)\n",
        "grid_search = GridSearchCV(estimator=rf, param_grid=param_grid, cv=strat_kfold, n_jobs=-1, verbose=2)\n",
        "grid_search.fit(X_train, y_train)"
      ],
      "metadata": {
        "colab": {
          "base_uri": "https://localhost:8080/",
          "height": 134
        },
        "id": "ZUB62-t1uslF",
        "outputId": "b478ecad-5ff2-49f6-be89-6b051569758a"
      },
      "execution_count": 29,
      "outputs": [
        {
          "output_type": "stream",
          "name": "stdout",
          "text": [
            "Fitting 3 folds for each of 108 candidates, totalling 324 fits\n"
          ]
        },
        {
          "output_type": "execute_result",
          "data": {
            "text/plain": [
              "GridSearchCV(cv=StratifiedKFold(n_splits=3, random_state=None, shuffle=False),\n",
              "             estimator=RandomForestClassifier(random_state=42), n_jobs=-1,\n",
              "             param_grid={'max_depth': [None, 10, 20, 30],\n",
              "                         'min_samples_leaf': [1, 2, 4],\n",
              "                         'min_samples_split': [2, 5, 10],\n",
              "                         'n_estimators': [100, 200, 300]},\n",
              "             verbose=2)"
            ],
            "text/html": [
              "<style>#sk-container-id-2 {color: black;background-color: white;}#sk-container-id-2 pre{padding: 0;}#sk-container-id-2 div.sk-toggleable {background-color: white;}#sk-container-id-2 label.sk-toggleable__label {cursor: pointer;display: block;width: 100%;margin-bottom: 0;padding: 0.3em;box-sizing: border-box;text-align: center;}#sk-container-id-2 label.sk-toggleable__label-arrow:before {content: \"▸\";float: left;margin-right: 0.25em;color: #696969;}#sk-container-id-2 label.sk-toggleable__label-arrow:hover:before {color: black;}#sk-container-id-2 div.sk-estimator:hover label.sk-toggleable__label-arrow:before {color: black;}#sk-container-id-2 div.sk-toggleable__content {max-height: 0;max-width: 0;overflow: hidden;text-align: left;background-color: #f0f8ff;}#sk-container-id-2 div.sk-toggleable__content pre {margin: 0.2em;color: black;border-radius: 0.25em;background-color: #f0f8ff;}#sk-container-id-2 input.sk-toggleable__control:checked~div.sk-toggleable__content {max-height: 200px;max-width: 100%;overflow: auto;}#sk-container-id-2 input.sk-toggleable__control:checked~label.sk-toggleable__label-arrow:before {content: \"▾\";}#sk-container-id-2 div.sk-estimator input.sk-toggleable__control:checked~label.sk-toggleable__label {background-color: #d4ebff;}#sk-container-id-2 div.sk-label input.sk-toggleable__control:checked~label.sk-toggleable__label {background-color: #d4ebff;}#sk-container-id-2 input.sk-hidden--visually {border: 0;clip: rect(1px 1px 1px 1px);clip: rect(1px, 1px, 1px, 1px);height: 1px;margin: -1px;overflow: hidden;padding: 0;position: absolute;width: 1px;}#sk-container-id-2 div.sk-estimator {font-family: monospace;background-color: #f0f8ff;border: 1px dotted black;border-radius: 0.25em;box-sizing: border-box;margin-bottom: 0.5em;}#sk-container-id-2 div.sk-estimator:hover {background-color: #d4ebff;}#sk-container-id-2 div.sk-parallel-item::after {content: \"\";width: 100%;border-bottom: 1px solid gray;flex-grow: 1;}#sk-container-id-2 div.sk-label:hover label.sk-toggleable__label {background-color: #d4ebff;}#sk-container-id-2 div.sk-serial::before {content: \"\";position: absolute;border-left: 1px solid gray;box-sizing: border-box;top: 0;bottom: 0;left: 50%;z-index: 0;}#sk-container-id-2 div.sk-serial {display: flex;flex-direction: column;align-items: center;background-color: white;padding-right: 0.2em;padding-left: 0.2em;position: relative;}#sk-container-id-2 div.sk-item {position: relative;z-index: 1;}#sk-container-id-2 div.sk-parallel {display: flex;align-items: stretch;justify-content: center;background-color: white;position: relative;}#sk-container-id-2 div.sk-item::before, #sk-container-id-2 div.sk-parallel-item::before {content: \"\";position: absolute;border-left: 1px solid gray;box-sizing: border-box;top: 0;bottom: 0;left: 50%;z-index: -1;}#sk-container-id-2 div.sk-parallel-item {display: flex;flex-direction: column;z-index: 1;position: relative;background-color: white;}#sk-container-id-2 div.sk-parallel-item:first-child::after {align-self: flex-end;width: 50%;}#sk-container-id-2 div.sk-parallel-item:last-child::after {align-self: flex-start;width: 50%;}#sk-container-id-2 div.sk-parallel-item:only-child::after {width: 0;}#sk-container-id-2 div.sk-dashed-wrapped {border: 1px dashed gray;margin: 0 0.4em 0.5em 0.4em;box-sizing: border-box;padding-bottom: 0.4em;background-color: white;}#sk-container-id-2 div.sk-label label {font-family: monospace;font-weight: bold;display: inline-block;line-height: 1.2em;}#sk-container-id-2 div.sk-label-container {text-align: center;}#sk-container-id-2 div.sk-container {/* jupyter's `normalize.less` sets `[hidden] { display: none; }` but bootstrap.min.css set `[hidden] { display: none !important; }` so we also need the `!important` here to be able to override the default hidden behavior on the sphinx rendered scikit-learn.org. See: https://github.com/scikit-learn/scikit-learn/issues/21755 */display: inline-block !important;position: relative;}#sk-container-id-2 div.sk-text-repr-fallback {display: none;}</style><div id=\"sk-container-id-2\" class=\"sk-top-container\"><div class=\"sk-text-repr-fallback\"><pre>GridSearchCV(cv=StratifiedKFold(n_splits=3, random_state=None, shuffle=False),\n",
              "             estimator=RandomForestClassifier(random_state=42), n_jobs=-1,\n",
              "             param_grid={&#x27;max_depth&#x27;: [None, 10, 20, 30],\n",
              "                         &#x27;min_samples_leaf&#x27;: [1, 2, 4],\n",
              "                         &#x27;min_samples_split&#x27;: [2, 5, 10],\n",
              "                         &#x27;n_estimators&#x27;: [100, 200, 300]},\n",
              "             verbose=2)</pre><b>In a Jupyter environment, please rerun this cell to show the HTML representation or trust the notebook. <br />On GitHub, the HTML representation is unable to render, please try loading this page with nbviewer.org.</b></div><div class=\"sk-container\" hidden><div class=\"sk-item sk-dashed-wrapped\"><div class=\"sk-label-container\"><div class=\"sk-label sk-toggleable\"><input class=\"sk-toggleable__control sk-hidden--visually\" id=\"sk-estimator-id-4\" type=\"checkbox\" ><label for=\"sk-estimator-id-4\" class=\"sk-toggleable__label sk-toggleable__label-arrow\">GridSearchCV</label><div class=\"sk-toggleable__content\"><pre>GridSearchCV(cv=StratifiedKFold(n_splits=3, random_state=None, shuffle=False),\n",
              "             estimator=RandomForestClassifier(random_state=42), n_jobs=-1,\n",
              "             param_grid={&#x27;max_depth&#x27;: [None, 10, 20, 30],\n",
              "                         &#x27;min_samples_leaf&#x27;: [1, 2, 4],\n",
              "                         &#x27;min_samples_split&#x27;: [2, 5, 10],\n",
              "                         &#x27;n_estimators&#x27;: [100, 200, 300]},\n",
              "             verbose=2)</pre></div></div></div><div class=\"sk-parallel\"><div class=\"sk-parallel-item\"><div class=\"sk-item\"><div class=\"sk-label-container\"><div class=\"sk-label sk-toggleable\"><input class=\"sk-toggleable__control sk-hidden--visually\" id=\"sk-estimator-id-5\" type=\"checkbox\" ><label for=\"sk-estimator-id-5\" class=\"sk-toggleable__label sk-toggleable__label-arrow\">estimator: RandomForestClassifier</label><div class=\"sk-toggleable__content\"><pre>RandomForestClassifier(random_state=42)</pre></div></div></div><div class=\"sk-serial\"><div class=\"sk-item\"><div class=\"sk-estimator sk-toggleable\"><input class=\"sk-toggleable__control sk-hidden--visually\" id=\"sk-estimator-id-6\" type=\"checkbox\" ><label for=\"sk-estimator-id-6\" class=\"sk-toggleable__label sk-toggleable__label-arrow\">RandomForestClassifier</label><div class=\"sk-toggleable__content\"><pre>RandomForestClassifier(random_state=42)</pre></div></div></div></div></div></div></div></div></div></div>"
            ]
          },
          "metadata": {},
          "execution_count": 29
        }
      ]
    },
    {
      "cell_type": "code",
      "source": [
        "# Best model\n",
        "best_rf = grid_search.best_estimator_"
      ],
      "metadata": {
        "id": "xl7ryvPluvbb"
      },
      "execution_count": 30,
      "outputs": []
    },
    {
      "cell_type": "code",
      "source": [
        "# Predictions\n",
        "y_pred = best_rf.predict(X_test)\n",
        "y_pred_prob = best_rf.predict_proba(X_test)[:, 1]"
      ],
      "metadata": {
        "id": "Y5FjYygzu4QF"
      },
      "execution_count": 31,
      "outputs": []
    },
    {
      "cell_type": "code",
      "source": [
        "# Evaluation\n",
        "print(\"Accuracy:\", accuracy_score(y_test, y_pred))\n",
        "print(\"Classification Report:\\n\", classification_report(y_test, y_pred))\n",
        "\n"
      ],
      "metadata": {
        "colab": {
          "base_uri": "https://localhost:8080/"
        },
        "id": "VqSHeeecu6zE",
        "outputId": "bdb7fed1-9114-41bb-f103-858a9ba538ff"
      },
      "execution_count": 36,
      "outputs": [
        {
          "output_type": "stream",
          "name": "stdout",
          "text": [
            "Accuracy: 0.9940476190476191\n",
            "Classification Report:\n",
            "               precision    recall  f1-score   support\n",
            "\n",
            "           0       0.99      1.00      0.99       193\n",
            "           2       1.00      1.00      1.00       164\n",
            "           3       1.00      0.97      0.99       160\n",
            "           4       0.99      1.00      0.99       155\n",
            "\n",
            "    accuracy                           0.99       672\n",
            "   macro avg       0.99      0.99      0.99       672\n",
            "weighted avg       0.99      0.99      0.99       672\n",
            "\n"
          ]
        }
      ]
    },
    {
      "cell_type": "code",
      "source": [
        "# Confusion Matrix\n",
        "conf_matrix = confusion_matrix(y_test, y_pred)\n",
        "sns.heatmap(conf_matrix, annot=True, fmt='d', cmap='Blues')\n",
        "plt.xlabel('Predicted')\n",
        "plt.ylabel('Actual')\n",
        "plt.title('Confusion Matrix')\n",
        "plt.show()"
      ],
      "metadata": {
        "colab": {
          "base_uri": "https://localhost:8080/",
          "height": 472
        },
        "id": "PyrvK3z0z7ma",
        "outputId": "edade42a-0489-439a-922a-1f48a2db67cb"
      },
      "execution_count": 37,
      "outputs": [
        {
          "output_type": "display_data",
          "data": {
            "text/plain": [
              "<Figure size 640x480 with 2 Axes>"
            ],
            "image/png": "[encoded data removed]"
          },
          "metadata": {}
        }
      ]
    },
    {
      "cell_type": "code",
      "source": [
        "# Feature Importance\n",
        "importances = best_rf.feature_importances_\n",
        "feature_names = X.columns\n",
        "feature_importances = pd.DataFrame({'Feature': feature_names, 'Importance': importances}).sort_values(by='Importance', ascending=False)"
      ],
      "metadata": {
        "id": "NEnNi1630FC-"
      },
      "execution_count": 38,
      "outputs": []
    },
    {
      "cell_type": "code",
      "source": [
        "plt.figure(figsize=(10, 6))\n",
        "sns.barplot(x='Importance', y='Feature', data=feature_importances)\n",
        "plt.title('Feature Importances')\n",
        "plt.show()"
      ],
      "metadata": {
        "colab": {
          "base_uri": "https://localhost:8080/",
          "height": 564
        },
        "id": "N3P3jhXo0PEj",
        "outputId": "9fbc721c-4d65-429f-d130-6ca61ea1be86"
      },
      "execution_count": 39,
      "outputs": [
        {
          "output_type": "display_data",
          "data": {
            "text/plain": [
              "<Figure size 1000x600 with 1 Axes>"
            ],
            "image/png": "[encoded data removed]"
          },
          "metadata": {}
        }
      ]
    },
    {
      "cell_type": "code",
      "source": [
        "import pandas as pd\n",
        "from sklearn.model_selection import StratifiedKFold, GridSearchCV, train_test_split\n",
        "from imblearn.over_sampling import SMOTE\n",
        "from imblearn.under_sampling import RandomUnderSampler\n",
        "from sklearn.preprocessing import StandardScaler, LabelEncoder\n",
        "from sklearn.svm import SVC\n",
        "from sklearn.metrics import accuracy_score, confusion_matrix, classification_report, roc_auc_score\n",
        "import matplotlib.pyplot as plt\n",
        "import seaborn as sns"
      ],
      "metadata": {
        "id": "Y58MgBxY1kna"
      },
      "execution_count": 40,
      "outputs": []
    },
    {
      "cell_type": "code",
      "source": [
        "# Load the dataset\n",
        "file_path = '/content/Dataset of Diabetes .csv'\n",
        "data = pd.read_csv(file_path)"
      ],
      "metadata": {
        "id": "Uur3Iwc44q_F"
      },
      "execution_count": 41,
      "outputs": []
    },
    {
      "cell_type": "code",
      "source": [
        "# Encode categorical variables\n",
        "label_encoder = LabelEncoder()\n",
        "data['Gender'] = label_encoder.fit_transform(data['Gender'])\n",
        "data['CLASS'] = label_encoder.fit_transform(data['CLASS'])"
      ],
      "metadata": {
        "id": "LeKA-eN_4zNw"
      },
      "execution_count": 42,
      "outputs": []
    },
    {
      "cell_type": "code",
      "source": [
        "# Define features and target variable\n",
        "X = data.drop(['ID', 'No_Pation', 'CLASS'], axis=1)\n",
        "y = data['CLASS']"
      ],
      "metadata": {
        "id": "dh3TtXM3412X"
      },
      "execution_count": 43,
      "outputs": []
    },
    {
      "cell_type": "code",
      "source": [
        "# Check the class distribution\n",
        "class_counts = y.value_counts()\n",
        "print(\"Class distribution before removing class 1:\\n\", class_counts)"
      ],
      "metadata": {
        "colab": {
          "base_uri": "https://localhost:8080/"
        },
        "id": "_UbeYvON439s",
        "outputId": "b8dbafff-9e84-4321-df03-f0d46f9bcc16"
      },
      "execution_count": 44,
      "outputs": [
        {
          "output_type": "stream",
          "name": "stdout",
          "text": [
            "Class distribution before removing class 1:\n",
            " CLASS\n",
            "3    840\n",
            "0    102\n",
            "2     53\n",
            "4      4\n",
            "1      1\n",
            "Name: count, dtype: int64\n"
          ]
        }
      ]
    },
    {
      "cell_type": "code",
      "source": [
        "# Handle class imbalance with SMOTE (with adjusted k_neighbors) and RandomUnderSampler\n",
        "smote = SMOTE(random_state=42, k_neighbors=1)\n",
        "X_smote, y_smote = smote.fit_resample(X, y)\n",
        "\n",
        "under = RandomUnderSampler(random_state=42)\n",
        "X_resampled, y_resampled = under.fit_resample(X_smote, y_smote)"
      ],
      "metadata": {
        "id": "Hz8gOD6D49QR"
      },
      "execution_count": 48,
      "outputs": []
    },
    {
      "cell_type": "code",
      "source": [
        "# Split the data into training and testing sets\n",
        "X_train, X_test, y_train, y_test = train_test_split(X_resampled, y_resampled, test_size=0.2, random_state=42)\n"
      ],
      "metadata": {
        "id": "kYSNEfC_5AeT"
      },
      "execution_count": 49,
      "outputs": []
    },
    {
      "cell_type": "code",
      "source": [
        "# Normalize/Standardize continuous features\n",
        "scaler = StandardScaler()\n",
        "X_train = scaler.fit_transform(X_train)\n",
        "X_test = scaler.transform(X_test)"
      ],
      "metadata": {
        "id": "ylQZ_kT65EE_"
      },
      "execution_count": 50,
      "outputs": []
    },
    {
      "cell_type": "code",
      "source": [
        "\n",
        "# Initialize and train the SVM model with StratifiedKFold\n",
        "svm = SVC(probability=True, random_state=42)\n",
        "param_grid = {\n",
        "    'C': [0.1, 1, 10, 100],\n",
        "    'gamma': ['scale', 'auto'],\n",
        "    'kernel': ['linear', 'rbf', 'poly', 'sigmoid']\n",
        "}\n",
        "strat_kfold = StratifiedKFold(n_splits=3)\n",
        "grid_search = GridSearchCV(estimator=svm, param_grid=param_grid, cv=strat_kfold, n_jobs=-1, verbose=2)\n",
        "grid_search.fit(X_train, y_train)"
      ],
      "metadata": {
        "colab": {
          "base_uri": "https://localhost:8080/",
          "height": 134
        },
        "id": "kyvsR-S75WY3",
        "outputId": "140ef0f9-016d-4d25-9d88-b654d0a7dbfe"
      },
      "execution_count": 51,
      "outputs": [
        {
          "output_type": "stream",
          "name": "stdout",
          "text": [
            "Fitting 3 folds for each of 32 candidates, totalling 96 fits\n"
          ]
        },
        {
          "output_type": "execute_result",
          "data": {
            "text/plain": [
              "GridSearchCV(cv=StratifiedKFold(n_splits=3, random_state=None, shuffle=False),\n",
              "             estimator=SVC(probability=True, random_state=42), n_jobs=-1,\n",
              "             param_grid={'C': [0.1, 1, 10, 100], 'gamma': ['scale', 'auto'],\n",
              "                         'kernel': ['linear', 'rbf', 'poly', 'sigmoid']},\n",
              "             verbose=2)"
            ],
            "text/html": [
              "<style>#sk-container-id-3 {color: black;background-color: white;}#sk-container-id-3 pre{padding: 0;}#sk-container-id-3 div.sk-toggleable {background-color: white;}#sk-container-id-3 label.sk-toggleable__label {cursor: pointer;display: block;width: 100%;margin-bottom: 0;padding: 0.3em;box-sizing: border-box;text-align: center;}#sk-container-id-3 label.sk-toggleable__label-arrow:before {content: \"▸\";float: left;margin-right: 0.25em;color: #696969;}#sk-container-id-3 label.sk-toggleable__label-arrow:hover:before {color: black;}#sk-container-id-3 div.sk-estimator:hover label.sk-toggleable__label-arrow:before {color: black;}#sk-container-id-3 div.sk-toggleable__content {max-height: 0;max-width: 0;overflow: hidden;text-align: left;background-color: #f0f8ff;}#sk-container-id-3 div.sk-toggleable__content pre {margin: 0.2em;color: black;border-radius: 0.25em;background-color: #f0f8ff;}#sk-container-id-3 input.sk-toggleable__control:checked~div.sk-toggleable__content {max-height: 200px;max-width: 100%;overflow: auto;}#sk-container-id-3 input.sk-toggleable__control:checked~label.sk-toggleable__label-arrow:before {content: \"▾\";}#sk-container-id-3 div.sk-estimator input.sk-toggleable__control:checked~label.sk-toggleable__label {background-color: #d4ebff;}#sk-container-id-3 div.sk-label input.sk-toggleable__control:checked~label.sk-toggleable__label {background-color: #d4ebff;}#sk-container-id-3 input.sk-hidden--visually {border: 0;clip: rect(1px 1px 1px 1px);clip: rect(1px, 1px, 1px, 1px);height: 1px;margin: -1px;overflow: hidden;padding: 0;position: absolute;width: 1px;}#sk-container-id-3 div.sk-estimator {font-family: monospace;background-color: #f0f8ff;border: 1px dotted black;border-radius: 0.25em;box-sizing: border-box;margin-bottom: 0.5em;}#sk-container-id-3 div.sk-estimator:hover {background-color: #d4ebff;}#sk-container-id-3 div.sk-parallel-item::after {content: \"\";width: 100%;border-bottom: 1px solid gray;flex-grow: 1;}#sk-container-id-3 div.sk-label:hover label.sk-toggleable__label {background-color: #d4ebff;}#sk-container-id-3 div.sk-serial::before {content: \"\";position: absolute;border-left: 1px solid gray;box-sizing: border-box;top: 0;bottom: 0;left: 50%;z-index: 0;}#sk-container-id-3 div.sk-serial {display: flex;flex-direction: column;align-items: center;background-color: white;padding-right: 0.2em;padding-left: 0.2em;position: relative;}#sk-container-id-3 div.sk-item {position: relative;z-index: 1;}#sk-container-id-3 div.sk-parallel {display: flex;align-items: stretch;justify-content: center;background-color: white;position: relative;}#sk-container-id-3 div.sk-item::before, #sk-container-id-3 div.sk-parallel-item::before {content: \"\";position: absolute;border-left: 1px solid gray;box-sizing: border-box;top: 0;bottom: 0;left: 50%;z-index: -1;}#sk-container-id-3 div.sk-parallel-item {display: flex;flex-direction: column;z-index: 1;position: relative;background-color: white;}#sk-container-id-3 div.sk-parallel-item:first-child::after {align-self: flex-end;width: 50%;}#sk-container-id-3 div.sk-parallel-item:last-child::after {align-self: flex-start;width: 50%;}#sk-container-id-3 div.sk-parallel-item:only-child::after {width: 0;}#sk-container-id-3 div.sk-dashed-wrapped {border: 1px dashed gray;margin: 0 0.4em 0.5em 0.4em;box-sizing: border-box;padding-bottom: 0.4em;background-color: white;}#sk-container-id-3 div.sk-label label {font-family: monospace;font-weight: bold;display: inline-block;line-height: 1.2em;}#sk-container-id-3 div.sk-label-container {text-align: center;}#sk-container-id-3 div.sk-container {/* jupyter's `normalize.less` sets `[hidden] { display: none; }` but bootstrap.min.css set `[hidden] { display: none !important; }` so we also need the `!important` here to be able to override the default hidden behavior on the sphinx rendered scikit-learn.org. See: https://github.com/scikit-learn/scikit-learn/issues/21755 */display: inline-block !important;position: relative;}#sk-container-id-3 div.sk-text-repr-fallback {display: none;}</style><div id=\"sk-container-id-3\" class=\"sk-top-container\"><div class=\"sk-text-repr-fallback\"><pre>GridSearchCV(cv=StratifiedKFold(n_splits=3, random_state=None, shuffle=False),\n",
              "             estimator=SVC(probability=True, random_state=42), n_jobs=-1,\n",
              "             param_grid={&#x27;C&#x27;: [0.1, 1, 10, 100], &#x27;gamma&#x27;: [&#x27;scale&#x27;, &#x27;auto&#x27;],\n",
              "                         &#x27;kernel&#x27;: [&#x27;linear&#x27;, &#x27;rbf&#x27;, &#x27;poly&#x27;, &#x27;sigmoid&#x27;]},\n",
              "             verbose=2)</pre><b>In a Jupyter environment, please rerun this cell to show the HTML representation or trust the notebook. <br />On GitHub, the HTML representation is unable to render, please try loading this page with nbviewer.org.</b></div><div class=\"sk-container\" hidden><div class=\"sk-item sk-dashed-wrapped\"><div class=\"sk-label-container\"><div class=\"sk-label sk-toggleable\"><input class=\"sk-toggleable__control sk-hidden--visually\" id=\"sk-estimator-id-7\" type=\"checkbox\" ><label for=\"sk-estimator-id-7\" class=\"sk-toggleable__label sk-toggleable__label-arrow\">GridSearchCV</label><div class=\"sk-toggleable__content\"><pre>GridSearchCV(cv=StratifiedKFold(n_splits=3, random_state=None, shuffle=False),\n",
              "             estimator=SVC(probability=True, random_state=42), n_jobs=-1,\n",
              "             param_grid={&#x27;C&#x27;: [0.1, 1, 10, 100], &#x27;gamma&#x27;: [&#x27;scale&#x27;, &#x27;auto&#x27;],\n",
              "                         &#x27;kernel&#x27;: [&#x27;linear&#x27;, &#x27;rbf&#x27;, &#x27;poly&#x27;, &#x27;sigmoid&#x27;]},\n",
              "             verbose=2)</pre></div></div></div><div class=\"sk-parallel\"><div class=\"sk-parallel-item\"><div class=\"sk-item\"><div class=\"sk-label-container\"><div class=\"sk-label sk-toggleable\"><input class=\"sk-toggleable__control sk-hidden--visually\" id=\"sk-estimator-id-8\" type=\"checkbox\" ><label for=\"sk-estimator-id-8\" class=\"sk-toggleable__label sk-toggleable__label-arrow\">estimator: SVC</label><div class=\"sk-toggleable__content\"><pre>SVC(probability=True, random_state=42)</pre></div></div></div><div class=\"sk-serial\"><div class=\"sk-item\"><div class=\"sk-estimator sk-toggleable\"><input class=\"sk-toggleable__control sk-hidden--visually\" id=\"sk-estimator-id-9\" type=\"checkbox\" ><label for=\"sk-estimator-id-9\" class=\"sk-toggleable__label sk-toggleable__label-arrow\">SVC</label><div class=\"sk-toggleable__content\"><pre>SVC(probability=True, random_state=42)</pre></div></div></div></div></div></div></div></div></div></div>"
            ]
          },
          "metadata": {},
          "execution_count": 51
        }
      ]
    },
    {
      "cell_type": "code",
      "source": [
        "\n",
        "# Best model\n",
        "best_svm = grid_search.best_estimator_"
      ],
      "metadata": {
        "id": "t-xGx-z05aKQ"
      },
      "execution_count": 52,
      "outputs": []
    },
    {
      "cell_type": "code",
      "source": [
        "# Predictions\n",
        "y_pred = best_svm.predict(X_test)\n",
        "y_pred_prob = best_svm.predict_proba(X_test)[:, 1]"
      ],
      "metadata": {
        "id": "UgyBUAli5q56"
      },
      "execution_count": 53,
      "outputs": []
    },
    {
      "cell_type": "code",
      "source": [
        "\n",
        "# Evaluation\n",
        "print(\"Accuracy of SVM:\", accuracy_score(y_test, y_pred))\n",
        "print(\"Classification Report:\\n\", classification_report(y_test, y_pred))\n"
      ],
      "metadata": {
        "colab": {
          "base_uri": "https://localhost:8080/"
        },
        "id": "ayQ0FIEc5u_m",
        "outputId": "89453604-e180-4538-9aa4-042fd6c5a3eb"
      },
      "execution_count": 59,
      "outputs": [
        {
          "output_type": "stream",
          "name": "stdout",
          "text": [
            "Accuracy of SVM: 0.9895833333333334\n",
            "Classification Report:\n",
            "               precision    recall  f1-score   support\n",
            "\n",
            "           0       0.99      1.00      1.00       193\n",
            "           2       0.99      1.00      0.99       164\n",
            "           3       1.00      0.96      0.98       160\n",
            "           4       0.97      1.00      0.99       155\n",
            "\n",
            "    accuracy                           0.99       672\n",
            "   macro avg       0.99      0.99      0.99       672\n",
            "weighted avg       0.99      0.99      0.99       672\n",
            "\n"
          ]
        }
      ]
    },
    {
      "cell_type": "code",
      "source": [
        "# Confusion Matrix\n",
        "conf_matrix = confusion_matrix(y_test, y_pred)\n",
        "sns.heatmap(conf_matrix, annot=True, fmt='d', cmap='Blues')\n",
        "plt.xlabel('Predicted')\n",
        "plt.ylabel('Actual')\n",
        "plt.title('Confusion Matrix')\n",
        "plt.show()\n"
      ],
      "metadata": {
        "colab": {
          "base_uri": "https://localhost:8080/",
          "height": 472
        },
        "id": "IJgvUV3P5yBf",
        "outputId": "cd62ce27-b5d9-4c5a-fdf4-ec26300c5e40"
      },
      "execution_count": 58,
      "outputs": [
        {
          "output_type": "display_data",
          "data": {
            "text/plain": [
              "<Figure size 640x480 with 2 Axes>"
            ],
            "image/png": "[encoded data removed]"
          },
          "metadata": {}
        }
      ]
    },
    {
      "cell_type": "code",
      "source": [
        "#Extreme Gradient Boosting (XGBoost)\n",
        "import pandas as pd\n",
        "from sklearn.model_selection import StratifiedKFold, GridSearchCV, train_test_split\n",
        "from imblearn.over_sampling import SMOTE\n",
        "from imblearn.under_sampling import RandomUnderSampler\n",
        "from sklearn.preprocessing import StandardScaler, LabelEncoder\n",
        "from xgboost import XGBClassifier\n",
        "from sklearn.metrics import accuracy_score, confusion_matrix, classification_report, roc_auc_score\n",
        "import matplotlib.pyplot as plt\n",
        "import seaborn as sns"
      ],
      "metadata": {
        "id": "vkwYWjIw6OYr"
      },
      "execution_count": 65,
      "outputs": []
    },
    {
      "cell_type": "code",
      "source": [
        "# Load the dataset\n",
        "file_path = '/content/Dataset of Diabetes .csv'\n",
        "data = pd.read_csv(file_path)"
      ],
      "metadata": {
        "id": "aroY-tPc8GhX"
      },
      "execution_count": 66,
      "outputs": []
    },
    {
      "cell_type": "code",
      "source": [
        "# Encode categorical variables\n",
        "label_encoder = LabelEncoder()\n",
        "data['Gender'] = label_encoder.fit_transform(data['Gender'])\n",
        "data['CLASS'] = label_encoder.fit_transform(data['CLASS'])"
      ],
      "metadata": {
        "id": "3aWb2GCo8bJg"
      },
      "execution_count": 67,
      "outputs": []
    },
    {
      "cell_type": "code",
      "source": [
        "# Define features and target variable\n",
        "X = data.drop(['ID', 'No_Pation', 'CLASS'], axis=1)\n",
        "y = data['CLASS']"
      ],
      "metadata": {
        "id": "4gisMai284QB"
      },
      "execution_count": 68,
      "outputs": []
    },
    {
      "cell_type": "code",
      "source": [
        "\n",
        "# Check the class distribution\n",
        "class_counts = y.value_counts()\n",
        "print(\"Class distribution before removing class 1:\\n\", class_counts)"
      ],
      "metadata": {
        "colab": {
          "base_uri": "https://localhost:8080/"
        },
        "id": "6ZrLHU2U86Zf",
        "outputId": "28168fc0-0cd7-4114-9b2d-9d670299f9c6"
      },
      "execution_count": 69,
      "outputs": [
        {
          "output_type": "stream",
          "name": "stdout",
          "text": [
            "Class distribution before removing class 1:\n",
            " CLASS\n",
            "3    840\n",
            "0    102\n",
            "2     53\n",
            "4      4\n",
            "1      1\n",
            "Name: count, dtype: int64\n"
          ]
        }
      ]
    },
    {
      "cell_type": "code",
      "source": [
        "# Remove the extremely small class\n",
        "data = data[y != 1]\n",
        "X = data.drop(['ID', 'No_Pation', 'CLASS'], axis=1)\n",
        "y = data['CLASS']"
      ],
      "metadata": {
        "id": "lcZJ6GUp88e7"
      },
      "execution_count": 70,
      "outputs": []
    },
    {
      "cell_type": "code",
      "source": [
        "# Re-encode the class labels to make them consecutive integers\n",
        "label_encoder = LabelEncoder()\n",
        "y = label_encoder.fit_transform(y)"
      ],
      "metadata": {
        "id": "ULy-vKDy8-4J"
      },
      "execution_count": 71,
      "outputs": []
    },
    {
      "cell_type": "code",
      "source": [
        "# Check the class distribution again\n",
        "class_counts = pd.Series(y).value_counts()\n",
        "print(\"Class distribution after re-encoding:\\n\", class_counts)"
      ],
      "metadata": {
        "colab": {
          "base_uri": "https://localhost:8080/"
        },
        "id": "RNmNu-lB9BJA",
        "outputId": "376cceae-8bdf-489f-b6d7-6810dc206d47"
      },
      "execution_count": 72,
      "outputs": [
        {
          "output_type": "stream",
          "name": "stdout",
          "text": [
            "Class distribution after re-encoding:\n",
            " 2    840\n",
            "0    102\n",
            "1     53\n",
            "3      4\n",
            "Name: count, dtype: int64\n"
          ]
        }
      ]
    },
    {
      "cell_type": "code",
      "source": [
        "# Handle class imbalance with SMOTE (with adjusted k_neighbors) and RandomUnderSampler\n",
        "smote = SMOTE(random_state=42, k_neighbors=1)\n",
        "X_smote, y_smote = smote.fit_resample(X, y)\n",
        "\n",
        "under = RandomUnderSampler(random_state=42)\n",
        "X_resampled, y_resampled = under.fit_resample(X_smote, y_smote)"
      ],
      "metadata": {
        "id": "e_fZB3-L9DUR"
      },
      "execution_count": 74,
      "outputs": []
    },
    {
      "cell_type": "code",
      "source": [
        "# Split the data into training and testing sets\n",
        "X_train, X_test, y_train, y_test = train_test_split(X_resampled, y_resampled, test_size=0.2, random_state=42)"
      ],
      "metadata": {
        "id": "-6klQ2bP9GPE"
      },
      "execution_count": 75,
      "outputs": []
    },
    {
      "cell_type": "code",
      "source": [
        "# Normalize/Standardize continuous features\n",
        "scaler = StandardScaler()\n",
        "X_train = scaler.fit_transform(X_train)\n",
        "X_test = scaler.transform(X_test)"
      ],
      "metadata": {
        "id": "CvRI6Hza9MA2"
      },
      "execution_count": 76,
      "outputs": []
    },
    {
      "cell_type": "code",
      "source": [
        "# Initialize and train the XGBoost model with StratifiedKFold\n",
        "xgb = XGBClassifier(random_state=42, use_label_encoder=False, eval_metric='mlogloss')\n",
        "param_grid = {\n",
        "    'n_estimators': [100, 200, 300],\n",
        "    'learning_rate': [0.01, 0.1, 0.2],\n",
        "    'max_depth': [3, 6, 9],\n",
        "    'subsample': [0.6, 0.8, 1.0],\n",
        "    'colsample_bytree': [0.6, 0.8, 1.0]\n",
        "}\n",
        "strat_kfold = StratifiedKFold(n_splits=3)\n",
        "grid_search = GridSearchCV(estimator=xgb, param_grid=param_grid, cv=strat_kfold, n_jobs=-1, verbose=2)\n",
        "grid_search.fit(X_train, y_train)"
      ],
      "metadata": {
        "colab": {
          "base_uri": "https://localhost:8080/",
          "height": 134
        },
        "id": "TJZdzeGA9OiX",
        "outputId": "01468eaa-3de3-457e-aea7-bcc6669122a1"
      },
      "execution_count": 77,
      "outputs": [
        {
          "output_type": "stream",
          "name": "stdout",
          "text": [
            "Fitting 3 folds for each of 243 candidates, totalling 729 fits\n"
          ]
        },
        {
          "output_type": "execute_result",
          "data": {
            "text/plain": [
              "GridSearchCV(cv=StratifiedKFold(n_splits=3, random_state=None, shuffle=False),\n",
              "             estimator=XGBClassifier(base_score=None, booster=None,\n",
              "                                     callbacks=None, colsample_bylevel=None,\n",
              "                                     colsample_bynode=None,\n",
              "                                     colsample_bytree=None, device=None,\n",
              "                                     early_stopping_rounds=None,\n",
              "                                     enable_categorical=False,\n",
              "                                     eval_metric='mlogloss', feature_types=None,\n",
              "                                     gamma=None, grow_policy=None,\n",
              "                                     impor...\n",
              "                                     max_delta_step=None, max_depth=None,\n",
              "                                     max_leaves=None, min_child_weight=None,\n",
              "                                     missing=nan, monotone_constraints=None,\n",
              "                                     multi_strategy=None, n_estimators=None,\n",
              "                                     n_jobs=None, num_parallel_tree=None,\n",
              "                                     random_state=42, ...),\n",
              "             n_jobs=-1,\n",
              "             param_grid={'colsample_bytree': [0.6, 0.8, 1.0],\n",
              "                         'learning_rate': [0.01, 0.1, 0.2],\n",
              "                         'max_depth': [3, 6, 9],\n",
              "                         'n_estimators': [100, 200, 300],\n",
              "                         'subsample': [0.6, 0.8, 1.0]},\n",
              "             verbose=2)"
            ],
            "text/html": [
              "<style>#sk-container-id-4 {color: black;background-color: white;}#sk-container-id-4 pre{padding: 0;}#sk-container-id-4 div.sk-toggleable {background-color: white;}#sk-container-id-4 label.sk-toggleable__label {cursor: pointer;display: block;width: 100%;margin-bottom: 0;padding: 0.3em;box-sizing: border-box;text-align: center;}#sk-container-id-4 label.sk-toggleable__label-arrow:before {content: \"▸\";float: left;margin-right: 0.25em;color: #696969;}#sk-container-id-4 label.sk-toggleable__label-arrow:hover:before {color: black;}#sk-container-id-4 div.sk-estimator:hover label.sk-toggleable__label-arrow:before {color: black;}#sk-container-id-4 div.sk-toggleable__content {max-height: 0;max-width: 0;overflow: hidden;text-align: left;background-color: #f0f8ff;}#sk-container-id-4 div.sk-toggleable__content pre {margin: 0.2em;color: black;border-radius: 0.25em;background-color: #f0f8ff;}#sk-container-id-4 input.sk-toggleable__control:checked~div.sk-toggleable__content {max-height: 200px;max-width: 100%;overflow: auto;}#sk-container-id-4 input.sk-toggleable__control:checked~label.sk-toggleable__label-arrow:before {content: \"▾\";}#sk-container-id-4 div.sk-estimator input.sk-toggleable__control:checked~label.sk-toggleable__label {background-color: #d4ebff;}#sk-container-id-4 div.sk-label input.sk-toggleable__control:checked~label.sk-toggleable__label {background-color: #d4ebff;}#sk-container-id-4 input.sk-hidden--visually {border: 0;clip: rect(1px 1px 1px 1px);clip: rect(1px, 1px, 1px, 1px);height: 1px;margin: -1px;overflow: hidden;padding: 0;position: absolute;width: 1px;}#sk-container-id-4 div.sk-estimator {font-family: monospace;background-color: #f0f8ff;border: 1px dotted black;border-radius: 0.25em;box-sizing: border-box;margin-bottom: 0.5em;}#sk-container-id-4 div.sk-estimator:hover {background-color: #d4ebff;}#sk-container-id-4 div.sk-parallel-item::after {content: \"\";width: 100%;border-bottom: 1px solid gray;flex-grow: 1;}#sk-container-id-4 div.sk-label:hover label.sk-toggleable__label {background-color: #d4ebff;}#sk-container-id-4 div.sk-serial::before {content: \"\";position: absolute;border-left: 1px solid gray;box-sizing: border-box;top: 0;bottom: 0;left: 50%;z-index: 0;}#sk-container-id-4 div.sk-serial {display: flex;flex-direction: column;align-items: center;background-color: white;padding-right: 0.2em;padding-left: 0.2em;position: relative;}#sk-container-id-4 div.sk-item {position: relative;z-index: 1;}#sk-container-id-4 div.sk-parallel {display: flex;align-items: stretch;justify-content: center;background-color: white;position: relative;}#sk-container-id-4 div.sk-item::before, #sk-container-id-4 div.sk-parallel-item::before {content: \"\";position: absolute;border-left: 1px solid gray;box-sizing: border-box;top: 0;bottom: 0;left: 50%;z-index: -1;}#sk-container-id-4 div.sk-parallel-item {display: flex;flex-direction: column;z-index: 1;position: relative;background-color: white;}#sk-container-id-4 div.sk-parallel-item:first-child::after {align-self: flex-end;width: 50%;}#sk-container-id-4 div.sk-parallel-item:last-child::after {align-self: flex-start;width: 50%;}#sk-container-id-4 div.sk-parallel-item:only-child::after {width: 0;}#sk-container-id-4 div.sk-dashed-wrapped {border: 1px dashed gray;margin: 0 0.4em 0.5em 0.4em;box-sizing: border-box;padding-bottom: 0.4em;background-color: white;}#sk-container-id-4 div.sk-label label {font-family: monospace;font-weight: bold;display: inline-block;line-height: 1.2em;}#sk-container-id-4 div.sk-label-container {text-align: center;}#sk-container-id-4 div.sk-container {/* jupyter's `normalize.less` sets `[hidden] { display: none; }` but bootstrap.min.css set `[hidden] { display: none !important; }` so we also need the `!important` here to be able to override the default hidden behavior on the sphinx rendered scikit-learn.org. See: https://github.com/scikit-learn/scikit-learn/issues/21755 */display: inline-block !important;position: relative;}#sk-container-id-4 div.sk-text-repr-fallback {display: none;}</style><div id=\"sk-container-id-4\" class=\"sk-top-container\"><div class=\"sk-text-repr-fallback\"><pre>GridSearchCV(cv=StratifiedKFold(n_splits=3, random_state=None, shuffle=False),\n",
              "             estimator=XGBClassifier(base_score=None, booster=None,\n",
              "                                     callbacks=None, colsample_bylevel=None,\n",
              "                                     colsample_bynode=None,\n",
              "                                     colsample_bytree=None, device=None,\n",
              "                                     early_stopping_rounds=None,\n",
              "                                     enable_categorical=False,\n",
              "                                     eval_metric=&#x27;mlogloss&#x27;, feature_types=None,\n",
              "                                     gamma=None, grow_policy=None,\n",
              "                                     impor...\n",
              "                                     max_delta_step=None, max_depth=None,\n",
              "                                     max_leaves=None, min_child_weight=None,\n",
              "                                     missing=nan, monotone_constraints=None,\n",
              "                                     multi_strategy=None, n_estimators=None,\n",
              "                                     n_jobs=None, num_parallel_tree=None,\n",
              "                                     random_state=42, ...),\n",
              "             n_jobs=-1,\n",
              "             param_grid={&#x27;colsample_bytree&#x27;: [0.6, 0.8, 1.0],\n",
              "                         &#x27;learning_rate&#x27;: [0.01, 0.1, 0.2],\n",
              "                         &#x27;max_depth&#x27;: [3, 6, 9],\n",
              "                         &#x27;n_estimators&#x27;: [100, 200, 300],\n",
              "                         &#x27;subsample&#x27;: [0.6, 0.8, 1.0]},\n",
              "             verbose=2)</pre><b>In a Jupyter environment, please rerun this cell to show the HTML representation or trust the notebook. <br />On GitHub, the HTML representation is unable to render, please try loading this page with nbviewer.org.</b></div><div class=\"sk-container\" hidden><div class=\"sk-item sk-dashed-wrapped\"><div class=\"sk-label-container\"><div class=\"sk-label sk-toggleable\"><input class=\"sk-toggleable__control sk-hidden--visually\" id=\"sk-estimator-id-10\" type=\"checkbox\" ><label for=\"sk-estimator-id-10\" class=\"sk-toggleable__label sk-toggleable__label-arrow\">GridSearchCV</label><div class=\"sk-toggleable__content\"><pre>GridSearchCV(cv=StratifiedKFold(n_splits=3, random_state=None, shuffle=False),\n",
              "             estimator=XGBClassifier(base_score=None, booster=None,\n",
              "                                     callbacks=None, colsample_bylevel=None,\n",
              "                                     colsample_bynode=None,\n",
              "                                     colsample_bytree=None, device=None,\n",
              "                                     early_stopping_rounds=None,\n",
              "                                     enable_categorical=False,\n",
              "                                     eval_metric=&#x27;mlogloss&#x27;, feature_types=None,\n",
              "                                     gamma=None, grow_policy=None,\n",
              "                                     impor...\n",
              "                                     max_delta_step=None, max_depth=None,\n",
              "                                     max_leaves=None, min_child_weight=None,\n",
              "                                     missing=nan, monotone_constraints=None,\n",
              "                                     multi_strategy=None, n_estimators=None,\n",
              "                                     n_jobs=None, num_parallel_tree=None,\n",
              "                                     random_state=42, ...),\n",
              "             n_jobs=-1,\n",
              "             param_grid={&#x27;colsample_bytree&#x27;: [0.6, 0.8, 1.0],\n",
              "                         &#x27;learning_rate&#x27;: [0.01, 0.1, 0.2],\n",
              "                         &#x27;max_depth&#x27;: [3, 6, 9],\n",
              "                         &#x27;n_estimators&#x27;: [100, 200, 300],\n",
              "                         &#x27;subsample&#x27;: [0.6, 0.8, 1.0]},\n",
              "             verbose=2)</pre></div></div></div><div class=\"sk-parallel\"><div class=\"sk-parallel-item\"><div class=\"sk-item\"><div class=\"sk-label-container\"><div class=\"sk-label sk-toggleable\"><input class=\"sk-toggleable__control sk-hidden--visually\" id=\"sk-estimator-id-11\" type=\"checkbox\" ><label for=\"sk-estimator-id-11\" class=\"sk-toggleable__label sk-toggleable__label-arrow\">estimator: XGBClassifier</label><div class=\"sk-toggleable__content\"><pre>XGBClassifier(base_score=None, booster=None, callbacks=None,\n",
              "              colsample_bylevel=None, colsample_bynode=None,\n",
              "              colsample_bytree=None, device=None, early_stopping_rounds=None,\n",
              "              enable_categorical=False, eval_metric=&#x27;mlogloss&#x27;,\n",
              "              feature_types=None, gamma=None, grow_policy=None,\n",
              "              importance_type=None, interaction_constraints=None,\n",
              "              learning_rate=None, max_bin=None, max_cat_threshold=None,\n",
              "              max_cat_to_onehot=None, max_delta_step=None, max_depth=None,\n",
              "              max_leaves=None, min_child_weight=None, missing=nan,\n",
              "              monotone_constraints=None, multi_strategy=None, n_estimators=None,\n",
              "              n_jobs=None, num_parallel_tree=None, random_state=42, ...)</pre></div></div></div><div class=\"sk-serial\"><div class=\"sk-item\"><div class=\"sk-estimator sk-toggleable\"><input class=\"sk-toggleable__control sk-hidden--visually\" id=\"sk-estimator-id-12\" type=\"checkbox\" ><label for=\"sk-estimator-id-12\" class=\"sk-toggleable__label sk-toggleable__label-arrow\">XGBClassifier</label><div class=\"sk-toggleable__content\"><pre>XGBClassifier(base_score=None, booster=None, callbacks=None,\n",
              "              colsample_bylevel=None, colsample_bynode=None,\n",
              "              colsample_bytree=None, device=None, early_stopping_rounds=None,\n",
              "              enable_categorical=False, eval_metric=&#x27;mlogloss&#x27;,\n",
              "              feature_types=None, gamma=None, grow_policy=None,\n",
              "              importance_type=None, interaction_constraints=None,\n",
              "              learning_rate=None, max_bin=None, max_cat_threshold=None,\n",
              "              max_cat_to_onehot=None, max_delta_step=None, max_depth=None,\n",
              "              max_leaves=None, min_child_weight=None, missing=nan,\n",
              "              monotone_constraints=None, multi_strategy=None, n_estimators=None,\n",
              "              n_jobs=None, num_parallel_tree=None, random_state=42, ...)</pre></div></div></div></div></div></div></div></div></div></div>"
            ]
          },
          "metadata": {},
          "execution_count": 77
        }
      ]
    },
    {
      "cell_type": "code",
      "source": [
        "# Best model\n",
        "best_xgb = grid_search.best_estimator_"
      ],
      "metadata": {
        "id": "ZYHYJ2aZ9Rv6"
      },
      "execution_count": 78,
      "outputs": []
    },
    {
      "cell_type": "code",
      "source": [
        "# Predictions\n",
        "y_pred = best_xgb.predict(X_test)\n",
        "y_pred_prob = best_xgb.predict_proba(X_test)"
      ],
      "metadata": {
        "id": "QaemY5md-WM6"
      },
      "execution_count": 79,
      "outputs": []
    },
    {
      "cell_type": "code",
      "source": [
        "# Evaluation\n",
        "print(\"Accuracy:\", accuracy_score(y_test, y_pred))\n",
        "print(\"Classification Report:\\n\", classification_report(y_test, y_pred))\n",
        "print(\"AUC-ROC:\", roc_auc_score(y_test, y_pred_prob, multi_class='ovr'))"
      ],
      "metadata": {
        "colab": {
          "base_uri": "https://localhost:8080/"
        },
        "id": "iMcx0WiB-ZOc",
        "outputId": "e68f23e7-dba7-4b78-e506-4ac37fb55e7c"
      },
      "execution_count": 80,
      "outputs": [
        {
          "output_type": "stream",
          "name": "stdout",
          "text": [
            "Accuracy: 0.9940476190476191\n",
            "Classification Report:\n",
            "               precision    recall  f1-score   support\n",
            "\n",
            "           0       0.99      1.00      0.99       193\n",
            "           1       1.00      1.00      1.00       164\n",
            "           2       1.00      0.97      0.99       160\n",
            "           3       0.99      1.00      0.99       155\n",
            "\n",
            "    accuracy                           0.99       672\n",
            "   macro avg       0.99      0.99      0.99       672\n",
            "weighted avg       0.99      0.99      0.99       672\n",
            "\n",
            "AUC-ROC: 0.9993897093773139\n"
          ]
        }
      ]
    },
    {
      "cell_type": "code",
      "source": [
        "\n",
        "# Confusion Matrix\n",
        "conf_matrix = confusion_matrix(y_test, y_pred)\n",
        "sns.heatmap(conf_matrix, annot=True, fmt='d', cmap='Blues')\n",
        "plt.xlabel('Predicted')\n",
        "plt.ylabel('Actual')\n",
        "plt.title('Confusion Matrix')\n",
        "plt.show()"
      ],
      "metadata": {
        "colab": {
          "base_uri": "https://localhost:8080/",
          "height": 472
        },
        "id": "GORQPexL-b4I",
        "outputId": "6664ea30-72d6-4b47-e91e-26af34b1d40f"
      },
      "execution_count": 81,
      "outputs": [
        {
          "output_type": "display_data",
          "data": {
            "text/plain": [
              "<Figure size 640x480 with 2 Axes>"
            ],
            "image/png": "[encoded data removed]"
          },
          "metadata": {}
        }
      ]
    },
    {
      "cell_type": "code",
      "source": [
        "#Gradient Boosting Machines (GBM)\n",
        "import pandas as pd\n",
        "from sklearn.model_selection import StratifiedKFold, GridSearchCV, train_test_split\n",
        "from imblearn.over_sampling import SMOTE\n",
        "from imblearn.under_sampling import RandomUnderSampler\n",
        "from sklearn.preprocessing import StandardScaler, LabelEncoder\n",
        "from xgboost import XGBClassifier\n",
        "from sklearn.metrics import accuracy_score, confusion_matrix, classification_report, roc_auc_score\n",
        "import matplotlib.pyplot as plt\n",
        "import seaborn as sns\n",
        "\n",
        "# Load the dataset\n",
        "file_path = '/content/Dataset of Diabetes .csv'\n",
        "data = pd.read_csv(file_path)\n",
        "\n",
        "# Encode categorical variables\n",
        "label_encoder = LabelEncoder()\n",
        "data['Gender'] = label_encoder.fit_transform(data['Gender'])\n",
        "data['CLASS'] = label_encoder.fit_transform(data['CLASS'])\n",
        "\n",
        "# Define features and target variable\n",
        "X = data.drop(['ID', 'No_Pation', 'CLASS'], axis=1)\n",
        "y = data['CLASS']\n",
        "\n",
        "# Check the class distribution\n",
        "class_counts = y.value_counts()\n",
        "print(\"Class distribution before removing class 1:\\n\", class_counts)\n",
        "\n",
        "# Remove the extremely small class\n",
        "data = data[y != 1]\n",
        "X = data.drop(['ID', 'No_Pation', 'CLASS'], axis=1)\n",
        "y = data['CLASS']\n",
        "\n",
        "# Re-encode the class labels to make them consecutive integers\n",
        "label_encoder = LabelEncoder()\n",
        "y = label_encoder.fit_transform(y)\n",
        "\n",
        "# Check the class distribution again\n",
        "class_counts = pd.Series(y).value_counts()\n",
        "print(\"Class distribution after re-encoding:\\n\", class_counts)\n",
        "\n",
        "# Handle class imbalance with SMOTE (with adjusted k_neighbors) and RandomUnderSampler\n",
        "smote = SMOTE(random_state=42, k_neighbors=1)\n",
        "X_smote, y_smote = smote.fit_resample(X, y)\n",
        "\n",
        "under = RandomUnderSampler(random_state=42)\n",
        "X_resampled, y_resampled = under.fit_resample(X_smote, y_smote)\n",
        "\n",
        "# Split the data into training and testing sets\n",
        "X_train, X_test, y_train, y_test = train_test_split(X_resampled, y_resampled, test_size=0.2, random_state=42)\n",
        "\n",
        "# Normalize/Standardize continuous features\n",
        "scaler = StandardScaler()\n",
        "X_train = scaler.fit_transform(X_train)\n",
        "X_test = scaler.transform(X_test)\n",
        "\n",
        "# Initialize and train the XGBoost model with StratifiedKFold\n",
        "xgb = XGBClassifier(random_state=42, use_label_encoder=False, eval_metric='mlogloss')\n",
        "param_grid = {\n",
        "    'n_estimators': [100, 200, 300],\n",
        "    'learning_rate': [0.01, 0.1, 0.2],\n",
        "    'max_depth': [3, 6, 9],\n",
        "    'subsample': [0.6, 0.8, 1.0],\n",
        "    'colsample_bytree': [0.6, 0.8, 1.0]\n",
        "}\n",
        "strat_kfold = StratifiedKFold(n_splits=3)\n",
        "grid_search = GridSearchCV(estimator=xgb, param_grid=param_grid, cv=strat_kfold, n_jobs=-1, verbose=2)\n",
        "grid_search.fit(X_train, y_train)\n",
        "\n",
        "# Best model\n",
        "best_xgb = grid_search.best_estimator_\n",
        "\n",
        "# Predictions\n",
        "y_pred = best_xgb.predict(X_test)\n",
        "y_pred_prob = best_xgb.predict_proba(X_test)\n",
        "\n",
        "# Evaluation\n",
        "print(\"Accuracy:\", accuracy_score(y_test, y_pred))\n",
        "print(\"Classification Report:\\n\", classification_report(y_test, y_pred))\n",
        "print(\"AUC-ROC:\", roc_auc_score(y_test, y_pred_prob, multi_class='ovr'))\n",
        "\n",
        "# Confusion Matrix\n",
        "conf_matrix = confusion_matrix(y_test, y_pred)\n",
        "sns.heatmap(conf_matrix, annot=True, fmt='d', cmap='Blues')\n",
        "plt.xlabel('Predicted')\n",
        "plt.ylabel('Actual')\n",
        "plt.title('Confusion Matrix')\n",
        "plt.show()\n"
      ],
      "metadata": {
        "colab": {
          "base_uri": "https://localhost:8080/",
          "height": 975
        },
        "id": "VUd1CK5w-fz6",
        "outputId": "e8811a99-d572-4e6e-d0b0-04ce2327e4d7"
      },
      "execution_count": 83,
      "outputs": [
        {
          "output_type": "stream",
          "name": "stdout",
          "text": [
            "Class distribution before removing class 1:\n",
            " CLASS\n",
            "3    840\n",
            "0    102\n",
            "2     53\n",
            "4      4\n",
            "1      1\n",
            "Name: count, dtype: int64\n",
            "Class distribution after re-encoding:\n",
            " 2    840\n",
            "0    102\n",
            "1     53\n",
            "3      4\n",
            "Name: count, dtype: int64\n",
            "Fitting 3 folds for each of 243 candidates, totalling 729 fits\n",
            "Accuracy: 0.9940476190476191\n",
            "Classification Report:\n",
            "               precision    recall  f1-score   support\n",
            "\n",
            "           0       0.99      1.00      0.99       193\n",
            "           1       1.00      1.00      1.00       164\n",
            "           2       1.00      0.97      0.99       160\n",
            "           3       0.99      1.00      0.99       155\n",
            "\n",
            "    accuracy                           0.99       672\n",
            "   macro avg       0.99      0.99      0.99       672\n",
            "weighted avg       0.99      0.99      0.99       672\n",
            "\n",
            "AUC-ROC: 0.9993897093773139\n"
          ]
        },
        {
          "output_type": "display_data",
          "data": {
            "text/plain": [
              "<Figure size 640x480 with 2 Axes>"
            ],
            "image/png": "[encoded data removed]"
          },
          "metadata": {}
        }
      ]
    },
    {
      "cell_type": "code",
      "source": [
        "#LightGBM\n",
        "import pandas as pd\n",
        "from sklearn.model_selection import StratifiedKFold, GridSearchCV, train_test_split\n",
        "from imblearn.over_sampling import SMOTE\n",
        "from imblearn.under_sampling import RandomUnderSampler\n",
        "from sklearn.preprocessing import StandardScaler, LabelEncoder\n",
        "from lightgbm import LGBMClassifier\n",
        "from sklearn.metrics import accuracy_score, confusion_matrix, classification_report, roc_auc_score\n",
        "import matplotlib.pyplot as plt\n",
        "import seaborn as sns\n",
        "\n",
        "# Load the dataset\n",
        "file_path = '/content/Dataset of Diabetes .csv'\n",
        "data = pd.read_csv(file_path)\n",
        "\n",
        "# Encode categorical variables\n",
        "label_encoder = LabelEncoder()\n",
        "data['Gender'] = label_encoder.fit_transform(data['Gender'])\n",
        "data['CLASS'] = label_encoder.fit_transform(data['CLASS'])\n",
        "\n",
        "# Define features and target variable\n",
        "X = data.drop(['ID', 'No_Pation', 'CLASS'], axis=1)\n",
        "y = data['CLASS']\n",
        "\n",
        "# Check the class distribution\n",
        "class_counts = y.value_counts()\n",
        "print(\"Class distribution before removing class 1:\\n\", class_counts)\n",
        "\n",
        "# Remove the extremely small class\n",
        "data = data[y != 1]\n",
        "X = data.drop(['ID', 'No_Pation', 'CLASS'], axis=1)\n",
        "y = data['CLASS']\n",
        "\n",
        "# Re-encode the class labels to make them consecutive integers\n",
        "label_encoder = LabelEncoder()\n",
        "y = label_encoder.fit_transform(y)\n",
        "\n",
        "# Check the class distribution again\n",
        "class_counts = pd.Series(y).value_counts()\n",
        "print(\"Class distribution after re-encoding:\\n\", class_counts)\n",
        "\n",
        "# Handle class imbalance with SMOTE (with adjusted k_neighbors) and RandomUnderSampler\n",
        "smote = SMOTE(random_state=42, k_neighbors=1)\n",
        "X_smote, y_smote = smote.fit_resample(X, y)\n",
        "\n",
        "under = RandomUnderSampler(random_state=42)\n",
        "X_resampled, y_resampled = under.fit_resample(X_smote, y_smote)\n",
        "\n",
        "# Split the data into training and testing sets\n",
        "X_train, X_test, y_train, y_test = train_test_split(X_resampled, y_resampled, test_size=0.2, random_state=42)\n",
        "\n",
        "# Normalize/Standardize continuous features\n",
        "scaler = StandardScaler()\n",
        "X_train = scaler.fit_transform(X_train)\n",
        "X_test = scaler.transform(X_test)\n",
        "\n",
        "# Initialize and train the LightGBM model with StratifiedKFold\n",
        "lgbm = LGBMClassifier(random_state=42)\n",
        "param_grid = {\n",
        "    'n_estimators': [100, 200, 300],\n",
        "    'learning_rate': [0.01, 0.1, 0.2],\n",
        "    'max_depth': [3, 6, 9],\n",
        "    'subsample': [0.6, 0.8, 1.0],\n",
        "    'colsample_bytree': [0.6, 0.8, 1.0]\n",
        "}\n",
        "strat_kfold = StratifiedKFold(n_splits=3)\n",
        "grid_search = GridSearchCV(estimator=lgbm, param_grid=param_grid, cv=strat_kfold, n_jobs=-1, verbose=2)\n",
        "grid_search.fit(X_train, y_train)\n",
        "\n",
        "# Best model\n",
        "best_lgbm = grid_search.best_estimator_\n",
        "\n",
        "# Predictions\n",
        "y_pred = best_lgbm.predict(X_test)\n",
        "y_pred_prob = best_lgbm.predict_proba(X_test)\n",
        "\n",
        "# Evaluation\n",
        "print(\"Accuracy:\", accuracy_score(y_test, y_pred))\n",
        "print(\"Classification Report:\\n\", classification_report(y_test, y_pred))\n",
        "print(\"AUC-ROC:\", roc_auc_score(y_test, y_pred_prob, multi_class='ovr'))\n",
        "\n",
        "# Confusion Matrix\n",
        "conf_matrix = confusion_matrix(y_test, y_pred)\n",
        "sns.heatmap(conf_matrix, annot=True, fmt='d', cmap='Blues')\n",
        "plt.xlabel('Predicted')\n",
        "plt.ylabel('Actual')\n",
        "plt.title('Confusion Matrix')\n",
        "plt.show()\n"
      ],
      "metadata": {
        "colab": {
          "base_uri": "https://localhost:8080/",
          "height": 1000
        },
        "id": "WsQMeznpALV1",
        "outputId": "ac3fdaab-ae53-477a-e189-74d389755113"
      },
      "execution_count": 85,
      "outputs": [
        {
          "output_type": "stream",
          "name": "stdout",
          "text": [
            "Class distribution before removing class 1:\n",
            " CLASS\n",
            "3    840\n",
            "0    102\n",
            "2     53\n",
            "4      4\n",
            "1      1\n",
            "Name: count, dtype: int64\n",
            "Class distribution after re-encoding:\n",
            " 2    840\n",
            "0    102\n",
            "1     53\n",
            "3      4\n",
            "Name: count, dtype: int64\n",
            "Fitting 3 folds for each of 243 candidates, totalling 729 fits\n",
            "[LightGBM] [Info] Auto-choosing col-wise multi-threading, the overhead of testing was 0.000322 seconds.\n",
            "You can set `force_col_wise=true` to remove the overhead.\n",
            "[LightGBM] [Info] Total Bins 2203\n",
            "[LightGBM] [Info] Number of data points in the train set: 2688, number of used features: 11\n",
            "[LightGBM] [Info] Start training from score -1.424206\n",
            "[LightGBM] [Info] Start training from score -1.380360\n",
            "[LightGBM] [Info] Start training from score -1.374460\n",
            "[LightGBM] [Info] Start training from score -1.367134\n",
            "[LightGBM] [Warning] No further splits with positive gain, best gain: -inf\n",
            "[LightGBM] [Warning] No further splits with positive gain, best gain: -inf\n",
            "[LightGBM] [Warning] No further splits with positive gain, best gain: -inf\n",
            "[LightGBM] [Warning] No further splits with positive gain, best gain: -inf\n",
            "[LightGBM] [Warning] No further splits with positive gain, best gain: -inf\n",
            "[LightGBM] [Warning] No further splits with positive gain, best gain: -inf\n",
            "[LightGBM] [Warning] No further splits with positive gain, best gain: -inf\n",
            "[LightGBM] [Warning] No further splits with positive gain, best gain: -inf\n",
            "[LightGBM] [Warning] No further splits with positive gain, best gain: -inf\n",
            "[LightGBM] [Warning] No further splits with positive gain, best gain: -inf\n",
            "[LightGBM] [Warning] No further splits with positive gain, best gain: -inf\n",
            "[LightGBM] [Warning] No further splits with positive gain, best gain: -inf\n",
            "[LightGBM] [Warning] No further splits with positive gain, best gain: -inf\n",
            "[LightGBM] [Warning] No further splits with positive gain, best gain: -inf\n",
            "[LightGBM] [Warning] No further splits with positive gain, best gain: -inf\n",
            "[LightGBM] [Warning] No further splits with positive gain, best gain: -inf\n",
            "[LightGBM] [Warning] No further splits with positive gain, best gain: -inf\n",
            "[LightGBM] [Warning] No further splits with positive gain, best gain: -inf\n",
            "[LightGBM] [Warning] No further splits with positive gain, best gain: -inf\n",
            "[LightGBM] [Warning] No further splits with positive gain, best gain: -inf\n",
            "[LightGBM] [Warning] No further splits with positive gain, best gain: -inf\n",
            "[LightGBM] [Warning] No further splits with positive gain, best gain: -inf\n",
            "[LightGBM] [Warning] No further splits with positive gain, best gain: -inf\n",
            "[LightGBM] [Warning] No further splits with positive gain, best gain: -inf\n",
            "[LightGBM] [Warning] No further splits with positive gain, best gain: -inf\n",
            "[LightGBM] [Warning] No further splits with positive gain, best gain: -inf\n",
            "[LightGBM] [Warning] No further splits with positive gain, best gain: -inf\n",
            "[LightGBM] [Warning] No further splits with positive gain, best gain: -inf\n",
            "[LightGBM] [Warning] No further splits with positive gain, best gain: -inf\n",
            "[LightGBM] [Warning] No further splits with positive gain, best gain: -inf\n",
            "[LightGBM] [Warning] No further splits with positive gain, best gain: -inf\n",
            "[LightGBM] [Warning] No further splits with positive gain, best gain: -inf\n",
            "[LightGBM] [Warning] No further splits with positive gain, best gain: -inf\n",
            "[LightGBM] [Warning] No further splits with positive gain, best gain: -inf\n",
            "[LightGBM] [Warning] No further splits with positive gain, best gain: -inf\n",
            "[LightGBM] [Warning] No further splits with positive gain, best gain: -inf\n",
            "[LightGBM] [Warning] No further splits with positive gain, best gain: -inf\n",
            "[LightGBM] [Warning] No further splits with positive gain, best gain: -inf\n",
            "[LightGBM] [Warning] No further splits with positive gain, best gain: -inf\n",
            "[LightGBM] [Warning] No further splits with positive gain, best gain: -inf\n",
            "[LightGBM] [Warning] No further splits with positive gain, best gain: -inf\n",
            "[LightGBM] [Warning] No further splits with positive gain, best gain: -inf\n",
            "[LightGBM] [Warning] No further splits with positive gain, best gain: -inf\n",
            "[LightGBM] [Warning] No further splits with positive gain, best gain: -inf\n",
            "[LightGBM] [Warning] No further splits with positive gain, best gain: -inf\n",
            "[LightGBM] [Warning] No further splits with positive gain, best gain: -inf\n",
            "[LightGBM] [Warning] No further splits with positive gain, best gain: -inf\n",
            "[LightGBM] [Warning] No further splits with positive gain, best gain: -inf\n",
            "[LightGBM] [Warning] No further splits with positive gain, best gain: -inf\n",
            "[LightGBM] [Warning] No further splits with positive gain, best gain: -inf\n",
            "[LightGBM] [Warning] No further splits with positive gain, best gain: -inf\n",
            "[LightGBM] [Warning] No further splits with positive gain, best gain: -inf\n",
            "[LightGBM] [Warning] No further splits with positive gain, best gain: -inf\n",
            "[LightGBM] [Warning] No further splits with positive gain, best gain: -inf\n",
            "[LightGBM] [Warning] No further splits with positive gain, best gain: -inf\n",
            "[LightGBM] [Warning] No further splits with positive gain, best gain: -inf\n",
            "[LightGBM] [Warning] No further splits with positive gain, best gain: -inf\n",
            "[LightGBM] [Warning] No further splits with positive gain, best gain: -inf\n",
            "[LightGBM] [Warning] No further splits with positive gain, best gain: -inf\n",
            "[LightGBM] [Warning] No further splits with positive gain, best gain: -inf\n",
            "[LightGBM] [Warning] No further splits with positive gain, best gain: -inf\n",
            "[LightGBM] [Warning] No further splits with positive gain, best gain: -inf\n",
            "[LightGBM] [Warning] No further splits with positive gain, best gain: -inf\n",
            "[LightGBM] [Warning] No further splits with positive gain, best gain: -inf\n",
            "[LightGBM] [Warning] No further splits with positive gain, best gain: -inf\n",
            "[LightGBM] [Warning] No further splits with positive gain, best gain: -inf\n",
            "[LightGBM] [Warning] No further splits with positive gain, best gain: -inf\n",
            "[LightGBM] [Warning] No further splits with positive gain, best gain: -inf\n",
            "[LightGBM] [Warning] No further splits with positive gain, best gain: -inf\n",
            "[LightGBM] [Warning] No further splits with positive gain, best gain: -inf\n",
            "[LightGBM] [Warning] No further splits with positive gain, best gain: -inf\n",
            "[LightGBM] [Warning] No further splits with positive gain, best gain: -inf\n",
            "[LightGBM] [Warning] No further splits with positive gain, best gain: -inf\n",
            "[LightGBM] [Warning] No further splits with positive gain, best gain: -inf\n",
            "[LightGBM] [Warning] No further splits with positive gain, best gain: -inf\n",
            "[LightGBM] [Warning] No further splits with positive gain, best gain: -inf\n",
            "[LightGBM] [Warning] No further splits with positive gain, best gain: -inf\n",
            "[LightGBM] [Warning] No further splits with positive gain, best gain: -inf\n",
            "[LightGBM] [Warning] No further splits with positive gain, best gain: -inf\n",
            "[LightGBM] [Warning] No further splits with positive gain, best gain: -inf\n",
            "[LightGBM] [Warning] No further splits with positive gain, best gain: -inf\n",
            "[LightGBM] [Warning] No further splits with positive gain, best gain: -inf\n",
            "[LightGBM] [Warning] No further splits with positive gain, best gain: -inf\n",
            "[LightGBM] [Warning] No further splits with positive gain, best gain: -inf\n",
            "[LightGBM] [Warning] No further splits with positive gain, best gain: -inf\n",
            "[LightGBM] [Warning] No further splits with positive gain, best gain: -inf\n",
            "[LightGBM] [Warning] No further splits with positive gain, best gain: -inf\n",
            "[LightGBM] [Warning] No further splits with positive gain, best gain: -inf\n",
            "[LightGBM] [Warning] No further splits with positive gain, best gain: -inf\n",
            "[LightGBM] [Warning] No further splits with positive gain, best gain: -inf\n",
            "[LightGBM] [Warning] No further splits with positive gain, best gain: -inf\n",
            "[LightGBM] [Warning] No further splits with positive gain, best gain: -inf\n",
            "[LightGBM] [Warning] No further splits with positive gain, best gain: -inf\n",
            "[LightGBM] [Warning] No further splits with positive gain, best gain: -inf\n",
            "[LightGBM] [Warning] No further splits with positive gain, best gain: -inf\n",
            "[LightGBM] [Warning] No further splits with positive gain, best gain: -inf\n",
            "[LightGBM] [Warning] No further splits with positive gain, best gain: -inf\n",
            "[LightGBM] [Warning] No further splits with positive gain, best gain: -inf\n",
            "[LightGBM] [Warning] No further splits with positive gain, best gain: -inf\n",
            "[LightGBM] [Warning] No further splits with positive gain, best gain: -inf\n",
            "[LightGBM] [Warning] No further splits with positive gain, best gain: -inf\n",
            "[LightGBM] [Warning] No further splits with positive gain, best gain: -inf\n",
            "[LightGBM] [Warning] No further splits with positive gain, best gain: -inf\n",
            "[LightGBM] [Warning] No further splits with positive gain, best gain: -inf\n",
            "[LightGBM] [Warning] No further splits with positive gain, best gain: -inf\n",
            "[LightGBM] [Warning] No further splits with positive gain, best gain: -inf\n",
            "[LightGBM] [Warning] No further splits with positive gain, best gain: -inf\n",
            "[LightGBM] [Warning] No further splits with positive gain, best gain: -inf\n",
            "[LightGBM] [Warning] No further splits with positive gain, best gain: -inf\n",
            "[LightGBM] [Warning] No further splits with positive gain, best gain: -inf\n",
            "[LightGBM] [Warning] No further splits with positive gain, best gain: -inf\n",
            "[LightGBM] [Warning] No further splits with positive gain, best gain: -inf\n",
            "[LightGBM] [Warning] No further splits with positive gain, best gain: -inf\n",
            "[LightGBM] [Warning] No further splits with positive gain, best gain: -inf\n",
            "[LightGBM] [Warning] No further splits with positive gain, best gain: -inf\n",
            "[LightGBM] [Warning] No further splits with positive gain, best gain: -inf\n",
            "[LightGBM] [Warning] No further splits with positive gain, best gain: -inf\n",
            "[LightGBM] [Warning] No further splits with positive gain, best gain: -inf\n",
            "[LightGBM] [Warning] No further splits with positive gain, best gain: -inf\n",
            "[LightGBM] [Warning] No further splits with positive gain, best gain: -inf\n",
            "[LightGBM] [Warning] No further splits with positive gain, best gain: -inf\n",
            "[LightGBM] [Warning] No further splits with positive gain, best gain: -inf\n",
            "[LightGBM] [Warning] No further splits with positive gain, best gain: -inf\n",
            "[LightGBM] [Warning] No further splits with positive gain, best gain: -inf\n",
            "[LightGBM] [Warning] No further splits with positive gain, best gain: -inf\n",
            "[LightGBM] [Warning] No further splits with positive gain, best gain: -inf\n",
            "[LightGBM] [Warning] No further splits with positive gain, best gain: -inf\n",
            "[LightGBM] [Warning] No further splits with positive gain, best gain: -inf\n",
            "[LightGBM] [Warning] No further splits with positive gain, best gain: -inf\n",
            "[LightGBM] [Warning] No further splits with positive gain, best gain: -inf\n",
            "[LightGBM] [Warning] No further splits with positive gain, best gain: -inf\n",
            "[LightGBM] [Warning] No further splits with positive gain, best gain: -inf\n",
            "[LightGBM] [Warning] No further splits with positive gain, best gain: -inf\n",
            "[LightGBM] [Warning] No further splits with positive gain, best gain: -inf\n",
            "[LightGBM] [Warning] No further splits with positive gain, best gain: -inf\n",
            "[LightGBM] [Warning] No further splits with positive gain, best gain: -inf\n",
            "[LightGBM] [Warning] No further splits with positive gain, best gain: -inf\n",
            "[LightGBM] [Warning] No further splits with positive gain, best gain: -inf\n",
            "[LightGBM] [Warning] No further splits with positive gain, best gain: -inf\n",
            "[LightGBM] [Warning] No further splits with positive gain, best gain: -inf\n",
            "[LightGBM] [Warning] No further splits with positive gain, best gain: -inf\n",
            "[LightGBM] [Warning] No further splits with positive gain, best gain: -inf\n",
            "[LightGBM] [Warning] No further splits with positive gain, best gain: -inf\n",
            "[LightGBM] [Warning] No further splits with positive gain, best gain: -inf\n",
            "[LightGBM] [Warning] No further splits with positive gain, best gain: -inf\n",
            "[LightGBM] [Warning] No further splits with positive gain, best gain: -inf\n",
            "[LightGBM] [Warning] No further splits with positive gain, best gain: -inf\n",
            "[LightGBM] [Warning] No further splits with positive gain, best gain: -inf\n",
            "[LightGBM] [Warning] No further splits with positive gain, best gain: -inf\n",
            "[LightGBM] [Warning] No further splits with positive gain, best gain: -inf\n",
            "[LightGBM] [Warning] No further splits with positive gain, best gain: -inf\n",
            "[LightGBM] [Warning] No further splits with positive gain, best gain: -inf\n",
            "[LightGBM] [Warning] No further splits with positive gain, best gain: -inf\n",
            "[LightGBM] [Warning] No further splits with positive gain, best gain: -inf\n",
            "[LightGBM] [Warning] No further splits with positive gain, best gain: -inf\n",
            "[LightGBM] [Warning] No further splits with positive gain, best gain: -inf\n",
            "[LightGBM] [Warning] No further splits with positive gain, best gain: -inf\n",
            "[LightGBM] [Warning] No further splits with positive gain, best gain: -inf\n",
            "[LightGBM] [Warning] No further splits with positive gain, best gain: -inf\n",
            "[LightGBM] [Warning] No further splits with positive gain, best gain: -inf\n",
            "[LightGBM] [Warning] No further splits with positive gain, best gain: -inf\n",
            "[LightGBM] [Warning] No further splits with positive gain, best gain: -inf\n",
            "[LightGBM] [Warning] No further splits with positive gain, best gain: -inf\n",
            "[LightGBM] [Warning] No further splits with positive gain, best gain: -inf\n",
            "[LightGBM] [Warning] No further splits with positive gain, best gain: -inf\n",
            "[LightGBM] [Warning] No further splits with positive gain, best gain: -inf\n",
            "[LightGBM] [Warning] No further splits with positive gain, best gain: -inf\n",
            "[LightGBM] [Warning] No further splits with positive gain, best gain: -inf\n",
            "[LightGBM] [Warning] No further splits with positive gain, best gain: -inf\n",
            "[LightGBM] [Warning] No further splits with positive gain, best gain: -inf\n",
            "[LightGBM] [Warning] No further splits with positive gain, best gain: -inf\n",
            "[LightGBM] [Warning] No further splits with positive gain, best gain: -inf\n",
            "[LightGBM] [Warning] No further splits with positive gain, best gain: -inf\n",
            "[LightGBM] [Warning] No further splits with positive gain, best gain: -inf\n",
            "[LightGBM] [Warning] No further splits with positive gain, best gain: -inf\n",
            "[LightGBM] [Warning] No further splits with positive gain, best gain: -inf\n",
            "[LightGBM] [Warning] No further splits with positive gain, best gain: -inf\n",
            "[LightGBM] [Warning] No further splits with positive gain, best gain: -inf\n",
            "[LightGBM] [Warning] No further splits with positive gain, best gain: -inf\n",
            "[LightGBM] [Warning] No further splits with positive gain, best gain: -inf\n",
            "[LightGBM] [Warning] No further splits with positive gain, best gain: -inf\n",
            "[LightGBM] [Warning] No further splits with positive gain, best gain: -inf\n",
            "[LightGBM] [Warning] No further splits with positive gain, best gain: -inf\n",
            "[LightGBM] [Warning] No further splits with positive gain, best gain: -inf\n",
            "[LightGBM] [Warning] No further splits with positive gain, best gain: -inf\n",
            "[LightGBM] [Warning] No further splits with positive gain, best gain: -inf\n",
            "[LightGBM] [Warning] No further splits with positive gain, best gain: -inf\n",
            "[LightGBM] [Warning] No further splits with positive gain, best gain: -inf\n",
            "[LightGBM] [Warning] No further splits with positive gain, best gain: -inf\n",
            "[LightGBM] [Warning] No further splits with positive gain, best gain: -inf\n",
            "[LightGBM] [Warning] No further splits with positive gain, best gain: -inf\n",
            "[LightGBM] [Warning] No further splits with positive gain, best gain: -inf\n",
            "[LightGBM] [Warning] No further splits with positive gain, best gain: -inf\n",
            "[LightGBM] [Warning] No further splits with positive gain, best gain: -inf\n",
            "[LightGBM] [Warning] No further splits with positive gain, best gain: -inf\n",
            "[LightGBM] [Warning] No further splits with positive gain, best gain: -inf\n",
            "[LightGBM] [Warning] No further splits with positive gain, best gain: -inf\n",
            "[LightGBM] [Warning] No further splits with positive gain, best gain: -inf\n",
            "[LightGBM] [Warning] No further splits with positive gain, best gain: -inf\n",
            "[LightGBM] [Warning] No further splits with positive gain, best gain: -inf\n",
            "[LightGBM] [Warning] No further splits with positive gain, best gain: -inf\n",
            "[LightGBM] [Warning] No further splits with positive gain, best gain: -inf\n",
            "[LightGBM] [Warning] No further splits with positive gain, best gain: -inf\n",
            "[LightGBM] [Warning] No further splits with positive gain, best gain: -inf\n",
            "[LightGBM] [Warning] No further splits with positive gain, best gain: -inf\n",
            "[LightGBM] [Warning] No further splits with positive gain, best gain: -inf\n",
            "[LightGBM] [Warning] No further splits with positive gain, best gain: -inf\n",
            "[LightGBM] [Warning] No further splits with positive gain, best gain: -inf\n",
            "[LightGBM] [Warning] No further splits with positive gain, best gain: -inf\n",
            "[LightGBM] [Warning] No further splits with positive gain, best gain: -inf\n",
            "[LightGBM] [Warning] No further splits with positive gain, best gain: -inf\n",
            "[LightGBM] [Warning] No further splits with positive gain, best gain: -inf\n",
            "[LightGBM] [Warning] No further splits with positive gain, best gain: -inf\n",
            "[LightGBM] [Warning] No further splits with positive gain, best gain: -inf\n",
            "[LightGBM] [Warning] No further splits with positive gain, best gain: -inf\n",
            "[LightGBM] [Warning] No further splits with positive gain, best gain: -inf\n",
            "[LightGBM] [Warning] No further splits with positive gain, best gain: -inf\n",
            "[LightGBM] [Warning] No further splits with positive gain, best gain: -inf\n",
            "[LightGBM] [Warning] No further splits with positive gain, best gain: -inf\n",
            "[LightGBM] [Warning] No further splits with positive gain, best gain: -inf\n",
            "[LightGBM] [Warning] No further splits with positive gain, best gain: -inf\n",
            "[LightGBM] [Warning] No further splits with positive gain, best gain: -inf\n",
            "[LightGBM] [Warning] No further splits with positive gain, best gain: -inf\n",
            "[LightGBM] [Warning] No further splits with positive gain, best gain: -inf\n",
            "Accuracy: 0.9940476190476191\n",
            "Classification Report:\n",
            "               precision    recall  f1-score   support\n",
            "\n",
            "           0       0.99      1.00      0.99       193\n",
            "           1       1.00      1.00      1.00       164\n",
            "           2       1.00      0.97      0.99       160\n",
            "           3       0.99      1.00      0.99       155\n",
            "\n",
            "    accuracy                           0.99       672\n",
            "   macro avg       0.99      0.99      0.99       672\n",
            "weighted avg       0.99      0.99      0.99       672\n",
            "\n",
            "AUC-ROC: 0.9995282923482997\n"
          ]
        },
        {
          "output_type": "display_data",
          "data": {
            "text/plain": [
              "<Figure size 640x480 with 2 Axes>"
            ],
            "image/png": "[encoded data removed]"
          },
          "metadata": {}
        }
      ]
    },
    {
      "cell_type": "code",
      "source": [
        "!pip install catboost"
      ],
      "metadata": {
        "colab": {
          "base_uri": "https://localhost:8080/"
        },
        "id": "baiqFh93EUi8",
        "outputId": "b701961e-df1c-4104-e628-d2e3e33ee794"
      },
      "execution_count": 2,
      "outputs": [
        {
          "output_type": "stream",
          "name": "stdout",
          "text": [
            "Collecting catboost\n",
            "  Downloading catboost-1.2.5-cp310-cp310-manylinux2014_x86_64.whl (98.2 MB)\n",
            "\u001b[2K     \u001b[90m━━━━━━━━━━━━━━━━━━━━━━━━━━━━━━━━━━━━━━━━\u001b[0m \u001b[32m98.2/98.2 MB\u001b[0m \u001b[31m6.1 MB/s\u001b[0m eta \u001b[36m0:00:00\u001b[0m\n",
            "\u001b[?25hRequirement already satisfied: graphviz in /usr/local/lib/python3.10/dist-packages (from catboost) (0.20.3)\n",
            "Requirement already satisfied: matplotlib in /usr/local/lib/python3.10/dist-packages (from catboost) (3.7.1)\n",
            "Requirement already satisfied: numpy>=1.16.0 in /usr/local/lib/python3.10/dist-packages (from catboost) (1.25.2)\n",
            "Requirement already satisfied: pandas>=0.24 in /usr/local/lib/python3.10/dist-packages (from catboost) (2.0.3)\n",
            "Requirement already satisfied: scipy in /usr/local/lib/python3.10/dist-packages (from catboost) (1.11.4)\n",
            "Requirement already satisfied: plotly in /usr/local/lib/python3.10/dist-packages (from catboost) (5.15.0)\n",
            "Requirement already satisfied: six in /usr/local/lib/python3.10/dist-packages (from catboost) (1.16.0)\n",
            "Requirement already satisfied: python-dateutil>=2.8.2 in /usr/local/lib/python3.10/dist-packages (from pandas>=0.24->catboost) (2.8.2)\n",
            "Requirement already satisfied: pytz>=2020.1 in /usr/local/lib/python3.10/dist-packages (from pandas>=0.24->catboost) (2023.4)\n",
            "Requirement already satisfied: tzdata>=2022.1 in /usr/local/lib/python3.10/dist-packages (from pandas>=0.24->catboost) (2024.1)\n",
            "Requirement already satisfied: contourpy>=1.0.1 in /usr/local/lib/python3.10/dist-packages (from matplotlib->catboost) (1.2.1)\n",
            "Requirement already satisfied: cycler>=0.10 in /usr/local/lib/python3.10/dist-packages (from matplotlib->catboost) (0.12.1)\n",
            "Requirement already satisfied: fonttools>=4.22.0 in /usr/local/lib/python3.10/dist-packages (from matplotlib->catboost) (4.53.0)\n",
            "Requirement already satisfied: kiwisolver>=1.0.1 in /usr/local/lib/python3.10/dist-packages (from matplotlib->catboost) (1.4.5)\n",
            "Requirement already satisfied: packaging>=20.0 in /usr/local/lib/python3.10/dist-packages (from matplotlib->catboost) (24.1)\n",
            "Requirement already satisfied: pillow>=6.2.0 in /usr/local/lib/python3.10/dist-packages (from matplotlib->catboost) (9.4.0)\n",
            "Requirement already satisfied: pyparsing>=2.3.1 in /usr/local/lib/python3.10/dist-packages (from matplotlib->catboost) (3.1.2)\n",
            "Requirement already satisfied: tenacity>=6.2.0 in /usr/local/lib/python3.10/dist-packages (from plotly->catboost) (8.4.1)\n",
            "Installing collected packages: catboost\n",
            "Successfully installed catboost-1.2.5\n"
          ]
        }
      ]
    },
    {
      "cell_type": "code",
      "source": [
        "#CNN\n",
        "import pandas as pd\n",
        "import numpy as np\n",
        "from sklearn.model_selection import train_test_split, StratifiedKFold\n",
        "from sklearn.preprocessing import StandardScaler, LabelEncoder\n",
        "from sklearn.metrics import accuracy_score, confusion_matrix, classification_report, roc_auc_score\n",
        "import matplotlib.pyplot as plt\n",
        "import seaborn as sns\n",
        "import tensorflow as tf\n",
        "from tensorflow.keras.models import Sequential\n",
        "from tensorflow.keras.layers import Dense, Conv1D, Flatten, MaxPooling1D, Dropout, BatchNormalization\n",
        "from tensorflow.keras.callbacks import EarlyStopping, ModelCheckpoint\n",
        "from tensorflow.keras.optimizers import Adam\n",
        "from imblearn.over_sampling import SMOTE\n",
        "from imblearn.under_sampling import RandomUnderSampler\n",
        "\n",
        "# Load the dataset\n",
        "file_path = '/content/Dataset of Diabetes .csv'\n",
        "data = pd.read_csv(file_path)\n",
        "\n",
        "# Encode categorical variables\n",
        "label_encoder = LabelEncoder()\n",
        "data['Gender'] = label_encoder.fit_transform(data['Gender'])\n",
        "data['CLASS'] = label_encoder.fit_transform(data['CLASS'])\n",
        "\n",
        "# Define features and target variable\n",
        "X = data.drop(['ID', 'No_Pation', 'CLASS'], axis=1)\n",
        "y = data['CLASS']\n",
        "\n",
        "# Check the class distribution\n",
        "class_counts = y.value_counts()\n",
        "print(\"Class distribution before removing class 1:\\n\", class_counts)\n",
        "\n",
        "# Remove the extremely small class\n",
        "data = data[y != 1]\n",
        "X = data.drop(['ID', 'No_Pation', 'CLASS'], axis=1)\n",
        "y = data['CLASS']\n",
        "\n",
        "# Re-encode the class labels to make them consecutive integers\n",
        "label_encoder = LabelEncoder()\n",
        "y = label_encoder.fit_transform(y)\n",
        "\n",
        "# Check the class distribution again\n",
        "class_counts = pd.Series(y).value_counts()\n",
        "print(\"Class distribution after re-encoding:\\n\", class_counts)\n",
        "\n",
        "# Handle class imbalance with SMOTE (with adjusted k_neighbors) and RandomUnderSampler\n",
        "smote = SMOTE(random_state=42, k_neighbors=1)\n",
        "X_smote, y_smote = smote.fit_resample(X, y)\n",
        "\n",
        "under = RandomUnderSampler(random_state=42)\n",
        "X_resampled, y_resampled = under.fit_resample(X_smote, y_smote)\n",
        "\n",
        "# Split the data into training and testing sets\n",
        "X_train, X_test, y_train, y_test = train_test_split(X_resampled, y_resampled, test_size=0.2, random_state=42, stratify=y_resampled)\n",
        "\n",
        "# Normalize/Standardize continuous features\n",
        "scaler = StandardScaler()\n",
        "X_train = scaler.fit_transform(X_train)\n",
        "X_test = scaler.transform(X_test)\n",
        "\n",
        "# Reshape input data for CNN\n",
        "X_train = X_train.reshape(X_train.shape[0], X_train.shape[1], 1)\n",
        "X_test = X_test.reshape(X_test.shape[0], X_test.shape[1], 1)\n",
        "\n",
        "# Define the CNN model\n",
        "def create_model(optimizer='adam', learning_rate=0.001, dropout_rate=0.5):\n",
        "    model = Sequential([\n",
        "        Conv1D(filters=64, kernel_size=3, activation='relu', input_shape=(X_train.shape[1], 1), padding='same'),\n",
        "        BatchNormalization(),\n",
        "        MaxPooling1D(pool_size=2),\n",
        "        Dropout(dropout_rate),\n",
        "        Conv1D(filters=32, kernel_size=3, activation='relu', padding='same'),\n",
        "        BatchNormalization(),\n",
        "        MaxPooling1D(pool_size=2),\n",
        "        Dropout(dropout_rate),\n",
        "        Conv1D(filters=16, kernel_size=3, activation='relu', padding='same'),\n",
        "        BatchNormalization(),\n",
        "        MaxPooling1D(pool_size=2),\n",
        "        Dropout(dropout_rate),\n",
        "        Flatten(),\n",
        "        Dense(64, activation='relu'),\n",
        "        Dropout(dropout_rate),\n",
        "        Dense(1, activation='sigmoid')\n",
        "    ])\n",
        "    if optimizer == 'adam':\n",
        "        opt = Adam(learning_rate=learning_rate)\n",
        "    else:\n",
        "        opt = optimizer\n",
        "\n",
        "    model.compile(optimizer=opt, loss='binary_crossentropy', metrics=['accuracy'])\n",
        "    return model\n",
        "\n",
        "# Class weights\n",
        "class_weights = {0: 1, 1: 2, 2: 2, 3: 10}\n",
        "\n",
        "# Callbacks for early stopping and model checkpointing\n",
        "early_stopping = EarlyStopping(monitor='val_loss', patience=10, restore_best_weights=True)\n",
        "model_checkpoint = ModelCheckpoint('best_model.h5', save_best_only=True, monitor='val_loss', mode='min')\n",
        "\n",
        "# Train the model\n",
        "model = create_model()\n",
        "history = model.fit(X_train, y_train, epochs=100, batch_size=32, validation_data=(X_test, y_test), verbose=2,\n",
        "                    callbacks=[early_stopping, model_checkpoint], class_weight=class_weights)\n",
        "\n",
        "# Load the best model\n",
        "model.load_weights('best_model.h5')\n",
        "\n",
        "# Evaluate the model\n",
        "y_pred_prob = model.predict(X_test)\n",
        "y_pred = (y_pred_prob > 0.5).astype(\"int32\")\n",
        "\n",
        "print(\"Accuracy:\", accuracy_score(y_test, y_pred))\n",
        "print(\"Classification Report:\\n\", classification_report(y_test, y_pred))\n",
        "\n",
        "\n",
        "# Confusion Matrix\n",
        "conf_matrix = confusion_matrix(y_test, y_pred)\n",
        "sns.heatmap(conf_matrix, annot=True, fmt='d', cmap='Blues')\n",
        "plt.xlabel('Predicted')\n",
        "plt.ylabel('Actual')\n",
        "plt.title('Confusion Matrix')\n",
        "plt.show()\n",
        "\n",
        "# Plot training & validation accuracy values\n",
        "plt.plot(history.history['accuracy'])\n",
        "plt.plot(history.history['val_accuracy'])\n",
        "plt.title('Model accuracy')\n",
        "plt.ylabel('Accuracy')\n",
        "plt.xlabel('Epoch')\n",
        "plt.legend(['Train', 'Test'], loc='upper left')\n",
        "plt.show()\n",
        "\n",
        "# Plot training & validation loss values\n",
        "plt.plot(history.history['loss'])\n",
        "plt.plot(history.history['val_loss'])\n",
        "plt.title('Model loss')\n",
        "plt.ylabel('Loss')\n",
        "plt.xlabel('Epoch')\n",
        "plt.legend(['Train', 'Test'], loc='upper left')\n",
        "plt.show()\n"
      ],
      "metadata": {
        "colab": {
          "base_uri": "https://localhost:8080/",
          "height": 1000
        },
        "id": "fV4r7MAuEILk",
        "outputId": "5591c871-b740-4e4c-899f-c902e31e9517"
      },
      "execution_count": 11,
      "outputs": [
        {
          "output_type": "stream",
          "name": "stdout",
          "text": [
            "Class distribution before removing class 1:\n",
            " CLASS\n",
            "3    840\n",
            "0    102\n",
            "2     53\n",
            "4      4\n",
            "1      1\n",
            "Name: count, dtype: int64\n",
            "Class distribution after re-encoding:\n",
            " 2    840\n",
            "0    102\n",
            "1     53\n",
            "3      4\n",
            "Name: count, dtype: int64\n",
            "Epoch 1/100\n",
            "84/84 - 4s - loss: -1.8296e+01 - accuracy: 0.2868 - val_loss: -1.6094e+00 - val_accuracy: 0.2500 - 4s/epoch - 51ms/step\n",
            "Epoch 2/100\n"
          ]
        },
        {
          "output_type": "stream",
          "name": "stderr",
          "text": [
            "/usr/local/lib/python3.10/dist-packages/keras/src/engine/training.py:3103: UserWarning: You are saving your model as an HDF5 file via `model.save()`. This file format is considered legacy. We recommend using instead the native Keras format, e.g. `model.save('my_model.keras')`.\n",
            "  saving_api.save_model(\n"
          ]
        },
        {
          "output_type": "stream",
          "name": "stdout",
          "text": [
            "84/84 - 1s - loss: -1.7715e+02 - accuracy: 0.3341 - val_loss: -1.7652e+01 - val_accuracy: 0.2455 - 622ms/epoch - 7ms/step\n",
            "Epoch 3/100\n",
            "84/84 - 1s - loss: -7.3236e+02 - accuracy: 0.3118 - val_loss: -6.4863e+01 - val_accuracy: 0.2500 - 607ms/epoch - 7ms/step\n",
            "Epoch 4/100\n",
            "84/84 - 1s - loss: -1.9702e+03 - accuracy: 0.3092 - val_loss: -2.0117e+02 - val_accuracy: 0.2500 - 626ms/epoch - 7ms/step\n",
            "Epoch 5/100\n",
            "84/84 - 1s - loss: -4.1272e+03 - accuracy: 0.2731 - val_loss: -4.4463e+02 - val_accuracy: 0.2500 - 602ms/epoch - 7ms/step\n",
            "Epoch 6/100\n",
            "84/84 - 1s - loss: -7.5441e+03 - accuracy: 0.2586 - val_loss: -8.8417e+02 - val_accuracy: 0.2500 - 599ms/epoch - 7ms/step\n",
            "Epoch 7/100\n",
            "84/84 - 1s - loss: -1.2543e+04 - accuracy: 0.2530 - val_loss: -1.4933e+03 - val_accuracy: 0.2500 - 607ms/epoch - 7ms/step\n",
            "Epoch 8/100\n",
            "84/84 - 1s - loss: -1.8611e+04 - accuracy: 0.2522 - val_loss: -2.5262e+03 - val_accuracy: 0.2500 - 594ms/epoch - 7ms/step\n",
            "Epoch 9/100\n",
            "84/84 - 1s - loss: -2.7146e+04 - accuracy: 0.2496 - val_loss: -3.4263e+03 - val_accuracy: 0.2500 - 628ms/epoch - 7ms/step\n",
            "Epoch 10/100\n",
            "84/84 - 1s - loss: -3.8149e+04 - accuracy: 0.2496 - val_loss: -4.7900e+03 - val_accuracy: 0.2500 - 644ms/epoch - 8ms/step\n",
            "Epoch 11/100\n",
            "84/84 - 1s - loss: -5.0676e+04 - accuracy: 0.2500 - val_loss: -6.0019e+03 - val_accuracy: 0.2500 - 591ms/epoch - 7ms/step\n",
            "Epoch 12/100\n",
            "84/84 - 1s - loss: -6.5565e+04 - accuracy: 0.2500 - val_loss: -7.8833e+03 - val_accuracy: 0.2500 - 616ms/epoch - 7ms/step\n",
            "Epoch 13/100\n",
            "84/84 - 1s - loss: -8.5296e+04 - accuracy: 0.2504 - val_loss: -9.9810e+03 - val_accuracy: 0.2500 - 587ms/epoch - 7ms/step\n",
            "Epoch 14/100\n",
            "84/84 - 1s - loss: -1.0414e+05 - accuracy: 0.2500 - val_loss: -1.2778e+04 - val_accuracy: 0.2500 - 824ms/epoch - 10ms/step\n",
            "Epoch 15/100\n",
            "84/84 - 1s - loss: -1.2762e+05 - accuracy: 0.2500 - val_loss: -1.5077e+04 - val_accuracy: 0.2500 - 895ms/epoch - 11ms/step\n",
            "Epoch 16/100\n",
            "84/84 - 1s - loss: -1.5447e+05 - accuracy: 0.2500 - val_loss: -1.7616e+04 - val_accuracy: 0.2500 - 938ms/epoch - 11ms/step\n",
            "Epoch 17/100\n",
            "84/84 - 1s - loss: -1.8556e+05 - accuracy: 0.2500 - val_loss: -2.2136e+04 - val_accuracy: 0.2500 - 1s/epoch - 12ms/step\n",
            "Epoch 18/100\n",
            "84/84 - 1s - loss: -2.1569e+05 - accuracy: 0.2500 - val_loss: -2.5025e+04 - val_accuracy: 0.2500 - 755ms/epoch - 9ms/step\n",
            "Epoch 19/100\n",
            "84/84 - 1s - loss: -2.5690e+05 - accuracy: 0.2500 - val_loss: -2.9700e+04 - val_accuracy: 0.2500 - 611ms/epoch - 7ms/step\n",
            "Epoch 20/100\n",
            "84/84 - 1s - loss: -2.9784e+05 - accuracy: 0.2500 - val_loss: -3.3883e+04 - val_accuracy: 0.2500 - 630ms/epoch - 8ms/step\n",
            "Epoch 21/100\n",
            "84/84 - 1s - loss: -3.4180e+05 - accuracy: 0.2500 - val_loss: -3.8102e+04 - val_accuracy: 0.2500 - 624ms/epoch - 7ms/step\n",
            "Epoch 22/100\n",
            "84/84 - 1s - loss: -3.9286e+05 - accuracy: 0.2500 - val_loss: -4.3647e+04 - val_accuracy: 0.2500 - 596ms/epoch - 7ms/step\n",
            "Epoch 23/100\n",
            "84/84 - 1s - loss: -4.4267e+05 - accuracy: 0.2500 - val_loss: -5.0400e+04 - val_accuracy: 0.2500 - 627ms/epoch - 7ms/step\n",
            "Epoch 24/100\n",
            "84/84 - 1s - loss: -4.9086e+05 - accuracy: 0.2500 - val_loss: -5.3671e+04 - val_accuracy: 0.2500 - 608ms/epoch - 7ms/step\n",
            "Epoch 25/100\n",
            "84/84 - 1s - loss: -5.5374e+05 - accuracy: 0.2500 - val_loss: -6.0745e+04 - val_accuracy: 0.2500 - 624ms/epoch - 7ms/step\n",
            "Epoch 26/100\n",
            "84/84 - 1s - loss: -6.1999e+05 - accuracy: 0.2500 - val_loss: -6.8510e+04 - val_accuracy: 0.2500 - 608ms/epoch - 7ms/step\n",
            "Epoch 27/100\n",
            "84/84 - 1s - loss: -6.9004e+05 - accuracy: 0.2500 - val_loss: -7.6835e+04 - val_accuracy: 0.2500 - 606ms/epoch - 7ms/step\n",
            "Epoch 28/100\n",
            "84/84 - 1s - loss: -7.5996e+05 - accuracy: 0.2500 - val_loss: -8.2657e+04 - val_accuracy: 0.2500 - 615ms/epoch - 7ms/step\n",
            "Epoch 29/100\n",
            "84/84 - 1s - loss: -8.2413e+05 - accuracy: 0.2500 - val_loss: -9.0559e+04 - val_accuracy: 0.2500 - 600ms/epoch - 7ms/step\n",
            "Epoch 30/100\n",
            "84/84 - 1s - loss: -8.9771e+05 - accuracy: 0.2500 - val_loss: -9.8727e+04 - val_accuracy: 0.2500 - 626ms/epoch - 7ms/step\n",
            "Epoch 31/100\n",
            "84/84 - 1s - loss: -9.8984e+05 - accuracy: 0.2500 - val_loss: -1.0758e+05 - val_accuracy: 0.2500 - 598ms/epoch - 7ms/step\n",
            "Epoch 32/100\n",
            "84/84 - 1s - loss: -1.0999e+06 - accuracy: 0.2500 - val_loss: -1.1652e+05 - val_accuracy: 0.2500 - 630ms/epoch - 8ms/step\n",
            "Epoch 33/100\n",
            "84/84 - 1s - loss: -1.1818e+06 - accuracy: 0.2500 - val_loss: -1.3048e+05 - val_accuracy: 0.2500 - 651ms/epoch - 8ms/step\n",
            "Epoch 34/100\n",
            "84/84 - 1s - loss: -1.2754e+06 - accuracy: 0.2500 - val_loss: -1.3383e+05 - val_accuracy: 0.2500 - 798ms/epoch - 10ms/step\n",
            "Epoch 35/100\n",
            "84/84 - 1s - loss: -1.3863e+06 - accuracy: 0.2500 - val_loss: -1.4905e+05 - val_accuracy: 0.2500 - 990ms/epoch - 12ms/step\n",
            "Epoch 36/100\n",
            "84/84 - 1s - loss: -1.4844e+06 - accuracy: 0.2500 - val_loss: -1.6117e+05 - val_accuracy: 0.2500 - 1s/epoch - 12ms/step\n",
            "Epoch 37/100\n",
            "84/84 - 1s - loss: -1.5946e+06 - accuracy: 0.2500 - val_loss: -1.7160e+05 - val_accuracy: 0.2500 - 980ms/epoch - 12ms/step\n",
            "Epoch 38/100\n",
            "84/84 - 1s - loss: -1.6786e+06 - accuracy: 0.2500 - val_loss: -1.8457e+05 - val_accuracy: 0.2500 - 794ms/epoch - 9ms/step\n",
            "Epoch 39/100\n",
            "84/84 - 1s - loss: -1.7867e+06 - accuracy: 0.2500 - val_loss: -1.9586e+05 - val_accuracy: 0.2500 - 650ms/epoch - 8ms/step\n",
            "Epoch 40/100\n",
            "84/84 - 1s - loss: -1.9314e+06 - accuracy: 0.2500 - val_loss: -2.1147e+05 - val_accuracy: 0.2500 - 603ms/epoch - 7ms/step\n",
            "Epoch 41/100\n",
            "84/84 - 1s - loss: -2.0479e+06 - accuracy: 0.2500 - val_loss: -2.2404e+05 - val_accuracy: 0.2500 - 636ms/epoch - 8ms/step\n",
            "Epoch 42/100\n",
            "84/84 - 1s - loss: -2.1945e+06 - accuracy: 0.2500 - val_loss: -2.3268e+05 - val_accuracy: 0.2500 - 604ms/epoch - 7ms/step\n",
            "Epoch 43/100\n",
            "84/84 - 1s - loss: -2.3623e+06 - accuracy: 0.2500 - val_loss: -2.4809e+05 - val_accuracy: 0.2500 - 622ms/epoch - 7ms/step\n",
            "Epoch 44/100\n",
            "84/84 - 1s - loss: -2.4672e+06 - accuracy: 0.2500 - val_loss: -2.6370e+05 - val_accuracy: 0.2500 - 625ms/epoch - 7ms/step\n",
            "Epoch 45/100\n",
            "84/84 - 1s - loss: -2.6410e+06 - accuracy: 0.2500 - val_loss: -2.8755e+05 - val_accuracy: 0.2500 - 606ms/epoch - 7ms/step\n",
            "Epoch 46/100\n",
            "84/84 - 1s - loss: -2.8609e+06 - accuracy: 0.2500 - val_loss: -2.9858e+05 - val_accuracy: 0.2500 - 609ms/epoch - 7ms/step\n",
            "Epoch 47/100\n",
            "84/84 - 1s - loss: -2.9764e+06 - accuracy: 0.2500 - val_loss: -3.1623e+05 - val_accuracy: 0.2500 - 594ms/epoch - 7ms/step\n",
            "Epoch 48/100\n",
            "84/84 - 1s - loss: -3.1116e+06 - accuracy: 0.2500 - val_loss: -3.2928e+05 - val_accuracy: 0.2500 - 612ms/epoch - 7ms/step\n",
            "Epoch 49/100\n",
            "84/84 - 1s - loss: -3.2423e+06 - accuracy: 0.2500 - val_loss: -3.5162e+05 - val_accuracy: 0.2500 - 609ms/epoch - 7ms/step\n",
            "Epoch 50/100\n",
            "84/84 - 1s - loss: -3.4918e+06 - accuracy: 0.2500 - val_loss: -3.6119e+05 - val_accuracy: 0.2500 - 597ms/epoch - 7ms/step\n",
            "Epoch 51/100\n",
            "84/84 - 1s - loss: -3.5803e+06 - accuracy: 0.2500 - val_loss: -3.9432e+05 - val_accuracy: 0.2500 - 630ms/epoch - 8ms/step\n",
            "Epoch 52/100\n",
            "84/84 - 1s - loss: -3.8084e+06 - accuracy: 0.2500 - val_loss: -4.0194e+05 - val_accuracy: 0.2500 - 585ms/epoch - 7ms/step\n",
            "Epoch 53/100\n",
            "84/84 - 1s - loss: -3.9762e+06 - accuracy: 0.2500 - val_loss: -4.2246e+05 - val_accuracy: 0.2500 - 618ms/epoch - 7ms/step\n",
            "Epoch 54/100\n",
            "84/84 - 1s - loss: -4.1522e+06 - accuracy: 0.2500 - val_loss: -4.4643e+05 - val_accuracy: 0.2500 - 857ms/epoch - 10ms/step\n",
            "Epoch 55/100\n",
            "84/84 - 1s - loss: -4.3433e+06 - accuracy: 0.2500 - val_loss: -4.7016e+05 - val_accuracy: 0.2500 - 902ms/epoch - 11ms/step\n",
            "Epoch 56/100\n",
            "84/84 - 1s - loss: -4.6454e+06 - accuracy: 0.2500 - val_loss: -4.8901e+05 - val_accuracy: 0.2500 - 985ms/epoch - 12ms/step\n",
            "Epoch 57/100\n",
            "84/84 - 1s - loss: -4.8223e+06 - accuracy: 0.2500 - val_loss: -5.1130e+05 - val_accuracy: 0.2500 - 1s/epoch - 13ms/step\n",
            "Epoch 58/100\n",
            "84/84 - 1s - loss: -4.9797e+06 - accuracy: 0.2500 - val_loss: -5.3307e+05 - val_accuracy: 0.2500 - 770ms/epoch - 9ms/step\n",
            "Epoch 59/100\n",
            "84/84 - 1s - loss: -5.3557e+06 - accuracy: 0.2500 - val_loss: -5.5905e+05 - val_accuracy: 0.2500 - 641ms/epoch - 8ms/step\n",
            "Epoch 60/100\n",
            "84/84 - 1s - loss: -5.4934e+06 - accuracy: 0.2500 - val_loss: -5.7334e+05 - val_accuracy: 0.2500 - 629ms/epoch - 7ms/step\n",
            "Epoch 61/100\n",
            "84/84 - 1s - loss: -5.6771e+06 - accuracy: 0.2500 - val_loss: -5.9827e+05 - val_accuracy: 0.2500 - 618ms/epoch - 7ms/step\n",
            "Epoch 62/100\n",
            "84/84 - 1s - loss: -5.9187e+06 - accuracy: 0.2500 - val_loss: -6.2174e+05 - val_accuracy: 0.2500 - 615ms/epoch - 7ms/step\n",
            "Epoch 63/100\n",
            "84/84 - 1s - loss: -6.2132e+06 - accuracy: 0.2500 - val_loss: -6.5159e+05 - val_accuracy: 0.2500 - 656ms/epoch - 8ms/step\n",
            "Epoch 64/100\n",
            "84/84 - 1s - loss: -6.4011e+06 - accuracy: 0.2500 - val_loss: -6.8505e+05 - val_accuracy: 0.2500 - 619ms/epoch - 7ms/step\n",
            "Epoch 65/100\n",
            "84/84 - 1s - loss: -6.7000e+06 - accuracy: 0.2500 - val_loss: -6.9385e+05 - val_accuracy: 0.2500 - 665ms/epoch - 8ms/step\n",
            "Epoch 66/100\n",
            "84/84 - 1s - loss: -6.7755e+06 - accuracy: 0.2500 - val_loss: -7.3236e+05 - val_accuracy: 0.2500 - 575ms/epoch - 7ms/step\n",
            "Epoch 67/100\n",
            "84/84 - 1s - loss: -7.1351e+06 - accuracy: 0.2500 - val_loss: -7.4877e+05 - val_accuracy: 0.2500 - 608ms/epoch - 7ms/step\n",
            "Epoch 68/100\n",
            "84/84 - 1s - loss: -7.4591e+06 - accuracy: 0.2500 - val_loss: -7.7827e+05 - val_accuracy: 0.2500 - 612ms/epoch - 7ms/step\n",
            "Epoch 69/100\n",
            "84/84 - 1s - loss: -7.6791e+06 - accuracy: 0.2500 - val_loss: -8.1739e+05 - val_accuracy: 0.2500 - 629ms/epoch - 7ms/step\n",
            "Epoch 70/100\n",
            "84/84 - 1s - loss: -7.8488e+06 - accuracy: 0.2500 - val_loss: -8.2890e+05 - val_accuracy: 0.2500 - 653ms/epoch - 8ms/step\n",
            "Epoch 71/100\n",
            "84/84 - 1s - loss: -8.2653e+06 - accuracy: 0.2500 - val_loss: -8.5342e+05 - val_accuracy: 0.2500 - 604ms/epoch - 7ms/step\n",
            "Epoch 72/100\n",
            "84/84 - 1s - loss: -8.5297e+06 - accuracy: 0.2500 - val_loss: -8.9726e+05 - val_accuracy: 0.2500 - 598ms/epoch - 7ms/step\n",
            "Epoch 73/100\n",
            "84/84 - 1s - loss: -8.7777e+06 - accuracy: 0.2500 - val_loss: -9.2703e+05 - val_accuracy: 0.2500 - 616ms/epoch - 7ms/step\n",
            "Epoch 74/100\n",
            "84/84 - 1s - loss: -9.1062e+06 - accuracy: 0.2500 - val_loss: -9.6594e+05 - val_accuracy: 0.2500 - 910ms/epoch - 11ms/step\n",
            "Epoch 75/100\n",
            "84/84 - 1s - loss: -9.4021e+06 - accuracy: 0.2500 - val_loss: -1.0062e+06 - val_accuracy: 0.2500 - 871ms/epoch - 10ms/step\n",
            "Epoch 76/100\n",
            "84/84 - 1s - loss: -9.8142e+06 - accuracy: 0.2500 - val_loss: -1.0319e+06 - val_accuracy: 0.2500 - 963ms/epoch - 11ms/step\n",
            "Epoch 77/100\n",
            "84/84 - 1s - loss: -1.0034e+07 - accuracy: 0.2500 - val_loss: -1.0570e+06 - val_accuracy: 0.2500 - 973ms/epoch - 12ms/step\n",
            "Epoch 78/100\n",
            "84/84 - 1s - loss: -1.0547e+07 - accuracy: 0.2500 - val_loss: -1.0802e+06 - val_accuracy: 0.2500 - 749ms/epoch - 9ms/step\n",
            "Epoch 79/100\n",
            "84/84 - 1s - loss: -1.0789e+07 - accuracy: 0.2500 - val_loss: -1.1287e+06 - val_accuracy: 0.2500 - 599ms/epoch - 7ms/step\n",
            "Epoch 80/100\n",
            "84/84 - 1s - loss: -1.1162e+07 - accuracy: 0.2500 - val_loss: -1.1619e+06 - val_accuracy: 0.2500 - 636ms/epoch - 8ms/step\n",
            "Epoch 81/100\n",
            "84/84 - 1s - loss: -1.1454e+07 - accuracy: 0.2500 - val_loss: -1.2137e+06 - val_accuracy: 0.2500 - 612ms/epoch - 7ms/step\n",
            "Epoch 82/100\n",
            "84/84 - 1s - loss: -1.1722e+07 - accuracy: 0.2500 - val_loss: -1.2472e+06 - val_accuracy: 0.2500 - 620ms/epoch - 7ms/step\n",
            "Epoch 83/100\n",
            "84/84 - 1s - loss: -1.2268e+07 - accuracy: 0.2500 - val_loss: -1.2753e+06 - val_accuracy: 0.2500 - 708ms/epoch - 8ms/step\n",
            "Epoch 84/100\n",
            "84/84 - 1s - loss: -1.2687e+07 - accuracy: 0.2500 - val_loss: -1.3225e+06 - val_accuracy: 0.2500 - 609ms/epoch - 7ms/step\n",
            "Epoch 85/100\n",
            "84/84 - 1s - loss: -1.2718e+07 - accuracy: 0.2500 - val_loss: -1.3408e+06 - val_accuracy: 0.2500 - 641ms/epoch - 8ms/step\n",
            "Epoch 86/100\n",
            "84/84 - 1s - loss: -1.3026e+07 - accuracy: 0.2500 - val_loss: -1.3600e+06 - val_accuracy: 0.2500 - 699ms/epoch - 8ms/step\n",
            "Epoch 87/100\n",
            "84/84 - 1s - loss: -1.3725e+07 - accuracy: 0.2500 - val_loss: -1.4109e+06 - val_accuracy: 0.2500 - 603ms/epoch - 7ms/step\n",
            "Epoch 88/100\n",
            "84/84 - 1s - loss: -1.4012e+07 - accuracy: 0.2500 - val_loss: -1.5100e+06 - val_accuracy: 0.2500 - 596ms/epoch - 7ms/step\n",
            "Epoch 89/100\n",
            "84/84 - 1s - loss: -1.4295e+07 - accuracy: 0.2500 - val_loss: -1.5048e+06 - val_accuracy: 0.2500 - 571ms/epoch - 7ms/step\n",
            "Epoch 90/100\n",
            "84/84 - 1s - loss: -1.4834e+07 - accuracy: 0.2500 - val_loss: -1.5534e+06 - val_accuracy: 0.2500 - 617ms/epoch - 7ms/step\n",
            "Epoch 91/100\n",
            "84/84 - 1s - loss: -1.5575e+07 - accuracy: 0.2500 - val_loss: -1.5838e+06 - val_accuracy: 0.2500 - 695ms/epoch - 8ms/step\n",
            "Epoch 92/100\n",
            "84/84 - 1s - loss: -1.5822e+07 - accuracy: 0.2500 - val_loss: -1.6602e+06 - val_accuracy: 0.2500 - 580ms/epoch - 7ms/step\n",
            "Epoch 93/100\n",
            "84/84 - 1s - loss: -1.6045e+07 - accuracy: 0.2500 - val_loss: -1.7016e+06 - val_accuracy: 0.2500 - 619ms/epoch - 7ms/step\n",
            "Epoch 94/100\n",
            "84/84 - 1s - loss: -1.6884e+07 - accuracy: 0.2500 - val_loss: -1.7420e+06 - val_accuracy: 0.2500 - 855ms/epoch - 10ms/step\n",
            "Epoch 95/100\n",
            "84/84 - 1s - loss: -1.7100e+07 - accuracy: 0.2500 - val_loss: -1.7955e+06 - val_accuracy: 0.2500 - 975ms/epoch - 12ms/step\n",
            "Epoch 96/100\n",
            "84/84 - 1s - loss: -1.7377e+07 - accuracy: 0.2500 - val_loss: -1.8224e+06 - val_accuracy: 0.2500 - 956ms/epoch - 11ms/step\n",
            "Epoch 97/100\n",
            "84/84 - 1s - loss: -1.7653e+07 - accuracy: 0.2500 - val_loss: -1.8477e+06 - val_accuracy: 0.2500 - 916ms/epoch - 11ms/step\n",
            "Epoch 98/100\n",
            "84/84 - 1s - loss: -1.8672e+07 - accuracy: 0.2504 - val_loss: -1.9159e+06 - val_accuracy: 0.2500 - 684ms/epoch - 8ms/step\n",
            "Epoch 99/100\n",
            "84/84 - 1s - loss: -1.8724e+07 - accuracy: 0.2504 - val_loss: -1.9656e+06 - val_accuracy: 0.2500 - 592ms/epoch - 7ms/step\n",
            "Epoch 100/100\n",
            "84/84 - 1s - loss: -1.8948e+07 - accuracy: 0.2500 - val_loss: -2.0134e+06 - val_accuracy: 0.2500 - 608ms/epoch - 7ms/step\n",
            "21/21 [==============================] - 0s 3ms/step\n",
            "Accuracy: 0.25\n",
            "Classification Report:\n",
            "               precision    recall  f1-score   support\n",
            "\n",
            "           0       0.00      0.00      0.00       168\n",
            "           1       0.25      1.00      0.40       168\n",
            "           2       0.00      0.00      0.00       168\n",
            "           3       0.00      0.00      0.00       168\n",
            "\n",
            "    accuracy                           0.25       672\n",
            "   macro avg       0.06      0.25      0.10       672\n",
            "weighted avg       0.06      0.25      0.10       672\n",
            "\n"
          ]
        },
        {
          "output_type": "stream",
          "name": "stderr",
          "text": [
            "/usr/local/lib/python3.10/dist-packages/sklearn/metrics/_classification.py:1344: UndefinedMetricWarning: Precision and F-score are ill-defined and being set to 0.0 in labels with no predicted samples. Use `zero_division` parameter to control this behavior.\n",
            "  _warn_prf(average, modifier, msg_start, len(result))\n",
            "/usr/local/lib/python3.10/dist-packages/sklearn/metrics/_classification.py:1344: UndefinedMetricWarning: Precision and F-score are ill-defined and being set to 0.0 in labels with no predicted samples. Use `zero_division` parameter to control this behavior.\n",
            "  _warn_prf(average, modifier, msg_start, len(result))\n",
            "/usr/local/lib/python3.10/dist-packages/sklearn/metrics/_classification.py:1344: UndefinedMetricWarning: Precision and F-score are ill-defined and being set to 0.0 in labels with no predicted samples. Use `zero_division` parameter to control this behavior.\n",
            "  _warn_prf(average, modifier, msg_start, len(result))\n"
          ]
        },
        {
          "output_type": "display_data",
          "data": {
            "text/plain": [
              "<Figure size 640x480 with 2 Axes>"
            ],
            "image/png": "[encoded data removed]"
          },
          "metadata": {}
        },
        {
          "output_type": "display_data",
          "data": {
            "text/plain": [
              "<Figure size 640x480 with 1 Axes>"
            ],
            "image/png": "[encoded data removed]"
          },
          "metadata": {}
        },
        {
          "output_type": "display_data",
          "data": {
            "text/plain": [
              "<Figure size 640x480 with 1 Axes>"
            ],
            "image/png": "[encoded data removed]"
          },
          "metadata": {}
        }
      ]
    },
    {
      "cell_type": "code",
      "source": [
        "#CatBoost\n",
        "import pandas as pd\n",
        "from sklearn.model_selection import StratifiedKFold, GridSearchCV, train_test_split\n",
        "from imblearn.over_sampling import SMOTE\n",
        "from imblearn.under_sampling import RandomUnderSampler\n",
        "from sklearn.preprocessing import StandardScaler, LabelEncoder\n",
        "from catboost import CatBoostClassifier, Pool # CatBoost is now installed and can be imported\n",
        "from sklearn.metrics import accuracy_score, confusion_matrix, classification_report, roc_auc_score\n",
        "import matplotlib.pyplot as plt\n",
        "import seaborn as sns\n",
        "\n",
        "# Load the dataset\n",
        "file_path = '/content/Dataset of Diabetes .csv'\n",
        "data = pd.read_csv(file_path)\n",
        "\n",
        "# Encode categorical variables\n",
        "label_encoder = LabelEncoder()\n",
        "data['Gender'] = label_encoder.fit_transform(data['Gender'])\n",
        "data['CLASS'] = label_encoder.fit_transform(data['CLASS'])\n",
        "\n",
        "# Define features and target variable\n",
        "X = data.drop(['ID', 'No_Pation', 'CLASS'], axis=1)\n",
        "y = data['CLASS']\n",
        "\n",
        "# Check the class distribution\n",
        "class_counts = y.value_counts()\n",
        "print(\"Class distribution before removing class 1:\\n\", class_counts)\n",
        "\n",
        "# Remove the extremely small class\n",
        "data = data[y != 1]\n",
        "X = data.drop(['ID', 'No_Pation', 'CLASS'], axis=1)\n",
        "y = data['CLASS']\n",
        "\n",
        "# Re-encode the class labels to make them consecutive integers\n",
        "label_encoder = LabelEncoder()\n",
        "y = label_encoder.fit_transform(y)\n",
        "\n",
        "# Check the class distribution again\n",
        "class_counts = pd.Series(y).value_counts()\n",
        "print(\"Class distribution after re-encoding:\\n\", class_counts)\n",
        "\n",
        "# Handle class imbalance with SMOTE (with adjusted k_neighbors) and RandomUnderSampler\n",
        "smote = SMOTE(random_state=42, k_neighbors=1)\n",
        "X_smote, y_smote = smote.fit_resample(X, y)\n",
        "\n",
        "under = RandomUnderSampler(random_state=42)\n",
        "X_resampled, y_resampled = under.fit_resample(X_smote, y_smote)\n",
        "\n",
        "# Split the data into training and testing sets\n",
        "X_train, X_test, y_train, y_test = train_test_split(X_resampled, y_resampled, test_size=0.2, random_state=42)\n",
        "\n",
        "# Initialize and train the CatBoost model with StratifiedKFold\n",
        "catboost = CatBoostClassifier(random_state=42, verbose=0) # Initialize CatBoost model\n",
        "param_grid = {\n",
        "    'iterations': [100, 200, 300],\n",
        "    'learning_rate': [0.01, 0.1, 0.2],\n",
        "    'depth': [3, 6, 9],\n",
        "    # Remove 'subsample' from the parameter grid\n",
        "    'colsample_bylevel': [0.6, 0.8, 1.0]\n",
        "}\n",
        "strat_kfold = StratifiedKFold(n_splits=3)\n",
        "grid_search = GridSearchCV(estimator=catboost, param_grid=param_grid, cv=strat_kfold, n_jobs=-1, verbose=2)\n",
        "grid_search.fit(X_train, y_train, cat_features=['Gender'])  # Specify categorical features here\n",
        "\n",
        "# Best model\n",
        "best_catboost = grid_search.best_estimator_\n",
        "\n",
        "# Predictions\n",
        "y_pred = best_catboost.predict(X_test)\n",
        "y_pred_prob = best_catboost.predict_proba(X_test)[:, 1]\n",
        "\n",
        "# Evaluation\n",
        "print(\"Accuracy:\", accuracy_score(y_test, y_pred))\n",
        "print(\"Classification Report:\\n\", classification_report(y_test, y_pred))"
      ],
      "metadata": {
        "colab": {
          "base_uri": "https://localhost:8080/"
        },
        "id": "fHn6osc8wYHz",
        "outputId": "45ce250a-86ea-4740-a1dd-d16e7482f131"
      },
      "execution_count": 16,
      "outputs": [
        {
          "output_type": "stream",
          "name": "stdout",
          "text": [
            "Class distribution before removing class 1:\n",
            " CLASS\n",
            "3    840\n",
            "0    102\n",
            "2     53\n",
            "4      4\n",
            "1      1\n",
            "Name: count, dtype: int64\n",
            "Class distribution after re-encoding:\n",
            " 2    840\n",
            "0    102\n",
            "1     53\n",
            "3      4\n",
            "Name: count, dtype: int64\n",
            "Fitting 3 folds for each of 81 candidates, totalling 243 fits\n"
          ]
        },
        {
          "output_type": "stream",
          "name": "stderr",
          "text": [
            "/usr/local/lib/python3.10/dist-packages/joblib/externals/loky/backend/fork_exec.py:38: RuntimeWarning: os.fork() was called. os.fork() is incompatible with multithreaded code, and JAX is multithreaded, so this will likely lead to a deadlock.\n",
            "  pid = os.fork()\n"
          ]
        },
        {
          "output_type": "stream",
          "name": "stdout",
          "text": [
            "Accuracy: 0.9925595238095238\n",
            "Classification Report:\n",
            "               precision    recall  f1-score   support\n",
            "\n",
            "           0       0.99      1.00      0.99       193\n",
            "           1       0.99      1.00      1.00       164\n",
            "           2       1.00      0.97      0.98       160\n",
            "           3       0.99      1.00      0.99       155\n",
            "\n",
            "    accuracy                           0.99       672\n",
            "   macro avg       0.99      0.99      0.99       672\n",
            "weighted avg       0.99      0.99      0.99       672\n",
            "\n"
          ]
        }
      ]
    },
    {
      "cell_type": "code",
      "source": [
        "#AdaBoost\n",
        "from sklearn.model_selection import StratifiedKFold, GridSearchCV, train_test_split\n",
        "from imblearn.over_sampling import SMOTE\n",
        "from imblearn.under_sampling import RandomUnderSampler\n",
        "from sklearn.preprocessing import StandardScaler, LabelEncoder\n",
        "from sklearn.ensemble import AdaBoostClassifier\n",
        "from sklearn.metrics import accuracy_score, confusion_matrix, classification_report, roc_auc_score\n",
        "import matplotlib.pyplot as plt\n",
        "import seaborn as sns\n",
        "import pandas as pd\n",
        "\n",
        "# Load the dataset\n",
        "file_path = '/content/Dataset of Diabetes .csv'\n",
        "data = pd.read_csv(file_path)\n",
        "\n",
        "# Encode categorical variables\n",
        "label_encoder = LabelEncoder()\n",
        "data['Gender'] = label_encoder.fit_transform(data['Gender'])\n",
        "data['CLASS'] = label_encoder.fit_transform(data['CLASS'])\n",
        "\n",
        "# Define features and target variable\n",
        "X = data.drop(['ID', 'No_Pation', 'CLASS'], axis=1)\n",
        "y = data['CLASS']\n",
        "\n",
        "# Check the class distribution\n",
        "class_counts = y.value_counts()\n",
        "print(class_counts)\n",
        "\n",
        "# Remove the extremely small class\n",
        "data = data[y != 1]\n",
        "X = data.drop(['ID', 'No_Pation', 'CLASS'], axis=1)\n",
        "y = data['CLASS']\n",
        "\n",
        "# Check the class distribution again\n",
        "class_counts = y.value_counts()\n",
        "print(class_counts)\n",
        "\n",
        "# Handle class imbalance with SMOTE (with adjusted k_neighbors) and RandomUnderSampler\n",
        "smote = SMOTE(random_state=42, k_neighbors=1)\n",
        "X_smote, y_smote = smote.fit_resample(X, y)\n",
        "\n",
        "under = RandomUnderSampler(random_state=42)\n",
        "X_resampled, y_resampled = under.fit_resample(X_smote, y_smote)\n",
        "\n",
        "# Split the data into training and testing sets\n",
        "X_train, X_test, y_train, y_test = train_test_split(X_resampled, y_resampled, test_size=0.2, random_state=42)\n",
        "\n",
        "# Normalize/Standardize continuous features\n",
        "scaler = StandardScaler()\n",
        "X_train = scaler.fit_transform(X_train)\n",
        "X_test = scaler.transform(X_test)\n",
        "\n",
        "# Initialize and train the AdaBoost model with StratifiedKFold\n",
        "adb = AdaBoostClassifier(random_state=42)\n",
        "param_grid = {\n",
        "    'n_estimators': [50, 100, 200],\n",
        "    'learning_rate': [0.01, 0.1, 1]\n",
        "}\n",
        "strat_kfold = StratifiedKFold(n_splits=3)\n",
        "grid_search = GridSearchCV(estimator=adb, param_grid=param_grid, cv=strat_kfold, n_jobs=-1, verbose=2)\n",
        "grid_search.fit(X_train, y_train)\n",
        "\n",
        "# Best model\n",
        "best_adb = grid_search.best_estimator_\n",
        "\n",
        "# Predictions\n",
        "y_pred = best_adb.predict(X_test)\n",
        "y_pred_prob = best_adb.predict_proba(X_test)[:, 1]\n",
        "\n",
        "# Evaluation\n",
        "print(\"Accuracy:\", accuracy_score(y_test, y_pred))\n",
        "print(\"Classification Report:\\n\", classification_report(y_test, y_pred))\n",
        "\n",
        "\n",
        "# Confusion Matrix\n",
        "conf_matrix = confusion_matrix(y_test, y_pred)\n",
        "sns.heatmap(conf_matrix, annot=True, fmt='d', cmap='Blues')\n",
        "plt.xlabel('Predicted')\n",
        "plt.ylabel('Actual')\n",
        "plt.title('Confusion Matrix')\n",
        "plt.show()\n",
        "\n",
        "# Feature Importance\n",
        "importances = best_adb.feature_importances_\n",
        "feature_names = X.columns\n",
        "feature_importances = pd.DataFrame({'Feature': feature_names, 'Importance': importances}).sort_values(by='Importance', ascending=False)\n",
        "\n",
        "plt.figure(figsize=(10, 6))\n",
        "sns.barplot(x='Importance', y='Feature', data=feature_importances)\n",
        "plt.title('Feature Importances')\n",
        "plt.show()\n"
      ],
      "metadata": {
        "colab": {
          "base_uri": "https://localhost:8080/",
          "height": 1000
        },
        "id": "QUlt026GlR83",
        "outputId": "c7b16545-a98f-432a-e901-3ad40aa253cf"
      },
      "execution_count": 19,
      "outputs": [
        {
          "output_type": "stream",
          "name": "stdout",
          "text": [
            "CLASS\n",
            "3    840\n",
            "0    102\n",
            "2     53\n",
            "4      4\n",
            "1      1\n",
            "Name: count, dtype: int64\n",
            "CLASS\n",
            "3    840\n",
            "0    102\n",
            "2     53\n",
            "4      4\n",
            "Name: count, dtype: int64\n",
            "Fitting 3 folds for each of 9 candidates, totalling 27 fits\n",
            "Accuracy: 0.9613095238095238\n",
            "Classification Report:\n",
            "               precision    recall  f1-score   support\n",
            "\n",
            "           0       0.97      1.00      0.99       193\n",
            "           2       0.96      1.00      0.98       164\n",
            "           3       0.94      0.90      0.92       160\n",
            "           4       0.97      0.94      0.95       155\n",
            "\n",
            "    accuracy                           0.96       672\n",
            "   macro avg       0.96      0.96      0.96       672\n",
            "weighted avg       0.96      0.96      0.96       672\n",
            "\n"
          ]
        },
        {
          "output_type": "display_data",
          "data": {
            "text/plain": [
              "<Figure size 640x480 with 2 Axes>"
            ],
            "image/png": "[encoded data removed]"
          },
          "metadata": {}
        },
        {
          "output_type": "display_data",
          "data": {
            "text/plain": [
              "<Figure size 1000x600 with 1 Axes>"
            ],
            "image/png": "[encoded data removed]"
          },
          "metadata": {}
        }
      ]
    },
    {
      "cell_type": "code",
      "source": [
        "# K-Nearest Neighbors (KNN)\n",
        "from sklearn.model_selection import StratifiedKFold, GridSearchCV, train_test_split\n",
        "from imblearn.over_sampling import SMOTE\n",
        "from imblearn.under_sampling import RandomUnderSampler\n",
        "from sklearn.preprocessing import StandardScaler, LabelEncoder\n",
        "from sklearn.neighbors import KNeighborsClassifier\n",
        "from sklearn.metrics import accuracy_score, confusion_matrix, classification_report, roc_auc_score\n",
        "import matplotlib.pyplot as plt\n",
        "import seaborn as sns\n",
        "import pandas as pd\n",
        "\n",
        "# Load the dataset\n",
        "file_path = '/content/Dataset of Diabetes .csv'\n",
        "data = pd.read_csv(file_path)\n",
        "\n",
        "# Encode categorical variables\n",
        "label_encoder = LabelEncoder()\n",
        "data['Gender'] = label_encoder.fit_transform(data['Gender'])\n",
        "data['CLASS'] = label_encoder.fit_transform(data['CLASS'])\n",
        "\n",
        "# Define features and target variable\n",
        "X = data.drop(['ID', 'No_Pation', 'CLASS'], axis=1)\n",
        "y = data['CLASS']\n",
        "\n",
        "# Check the class distribution\n",
        "class_counts = y.value_counts()\n",
        "print(class_counts)\n",
        "\n",
        "# Remove the extremely small class\n",
        "data = data[y != 1]\n",
        "X = data.drop(['ID', 'No_Pation', 'CLASS'], axis=1)\n",
        "y = data['CLASS']\n",
        "\n",
        "# Check the class distribution again\n",
        "class_counts = y.value_counts()\n",
        "print(class_counts)\n",
        "\n",
        "# Handle class imbalance with SMOTE (with adjusted k_neighbors) and RandomUnderSampler\n",
        "smote = SMOTE(random_state=42, k_neighbors=1)\n",
        "X_smote, y_smote = smote.fit_resample(X, y)\n",
        "\n",
        "under = RandomUnderSampler(random_state=42)\n",
        "X_resampled, y_resampled = under.fit_resample(X_smote, y_smote)\n",
        "\n",
        "# Split the data into training and testing sets\n",
        "X_train, X_test, y_train, y_test = train_test_split(X_resampled, y_resampled, test_size=0.2, random_state=42)\n",
        "\n",
        "# Normalize/Standardize continuous features\n",
        "scaler = StandardScaler()\n",
        "X_train = scaler.fit_transform(X_train)\n",
        "X_test = scaler.transform(X_test)\n",
        "\n",
        "# Initialize and train the KNN model with StratifiedKFold\n",
        "knn = KNeighborsClassifier()\n",
        "param_grid = {\n",
        "    'n_neighbors': [3, 5, 7, 9],\n",
        "    'weights': ['uniform', 'distance'],\n",
        "    'metric': ['euclidean', 'manhattan', 'minkowski']\n",
        "}\n",
        "strat_kfold = StratifiedKFold(n_splits=3)\n",
        "grid_search = GridSearchCV(estimator=knn, param_grid=param_grid, cv=strat_kfold, n_jobs=-1, verbose=2)\n",
        "grid_search.fit(X_train, y_train)\n",
        "\n",
        "# Best model\n",
        "best_knn = grid_search.best_estimator_\n",
        "\n",
        "# Predictions\n",
        "y_pred = best_knn.predict(X_test)\n",
        "y_pred_prob = best_knn.predict_proba(X_test)[:, 1]\n",
        "\n",
        "# Evaluation\n",
        "print(\"Accuracy:\", accuracy_score(y_test, y_pred))\n",
        "print(\"Classification Report:\\n\", classification_report(y_test, y_pred))\n",
        "\n",
        "\n",
        "# Confusion Matrix\n",
        "conf_matrix = confusion_matrix(y_test, y_pred)\n",
        "sns.heatmap(conf_matrix, annot=True, fmt='d', cmap='Blues')\n",
        "plt.xlabel('Predicted')\n",
        "plt.ylabel('Actual')\n",
        "plt.title('Confusion Matrix')\n",
        "plt.show()\n",
        "\n",
        "# Feature Importance (not applicable for KNN, but we can analyze feature scaling impact)\n",
        "feature_names = X.columns\n",
        "scaled_features = pd.DataFrame(X_train, columns=feature_names)\n",
        "plt.figure(figsize=(10, 6))\n",
        "sns.boxplot(data=scaled_features)\n",
        "plt.title('Feature Scaling Impact')\n",
        "plt.xticks(rotation=90)\n",
        "plt.show()\n"
      ],
      "metadata": {
        "colab": {
          "base_uri": "https://localhost:8080/",
          "height": 1000
        },
        "id": "DOrIdWAh1YfQ",
        "outputId": "d3392468-dbeb-4dd0-a6fd-c602539d5684"
      },
      "execution_count": 23,
      "outputs": [
        {
          "output_type": "stream",
          "name": "stdout",
          "text": [
            "CLASS\n",
            "3    840\n",
            "0    102\n",
            "2     53\n",
            "4      4\n",
            "1      1\n",
            "Name: count, dtype: int64\n",
            "CLASS\n",
            "3    840\n",
            "0    102\n",
            "2     53\n",
            "4      4\n",
            "Name: count, dtype: int64\n",
            "Fitting 3 folds for each of 24 candidates, totalling 72 fits\n",
            "Accuracy: 0.9851190476190477\n",
            "Classification Report:\n",
            "               precision    recall  f1-score   support\n",
            "\n",
            "           0       0.98      0.99      0.99       193\n",
            "           2       0.97      1.00      0.98       164\n",
            "           3       1.00      0.94      0.97       160\n",
            "           4       0.99      1.00      0.99       155\n",
            "\n",
            "    accuracy                           0.99       672\n",
            "   macro avg       0.99      0.98      0.98       672\n",
            "weighted avg       0.99      0.99      0.99       672\n",
            "\n"
          ]
        },
        {
          "output_type": "display_data",
          "data": {
            "text/plain": [
              "<Figure size 640x480 with 2 Axes>"
            ],
            "image/png": "[encoded data removed]"
          },
          "metadata": {}
        },
        {
          "output_type": "display_data",
          "data": {
            "text/plain": [
              "<Figure size 1000x600 with 1 Axes>"
            ],
            "image/png": "[encoded data removed]"
          },
          "metadata": {}
        }
      ]
    },
    {
      "cell_type": "code",
      "source": [
        "#Logistic Regression\n",
        "from sklearn.model_selection import StratifiedKFold, GridSearchCV, train_test_split\n",
        "from imblearn.over_sampling import SMOTE\n",
        "from imblearn.under_sampling import RandomUnderSampler\n",
        "from sklearn.preprocessing import StandardScaler, LabelEncoder\n",
        "from sklearn.linear_model import LogisticRegression\n",
        "from sklearn.metrics import accuracy_score, confusion_matrix, classification_report, roc_auc_score\n",
        "import matplotlib.pyplot as plt\n",
        "import seaborn as sns\n",
        "import pandas as pd\n",
        "\n",
        "# Load the dataset\n",
        "file_path = '/content/Dataset of Diabetes .csv'\n",
        "data = pd.read_csv(file_path)\n",
        "\n",
        "# Encode categorical variables\n",
        "label_encoder = LabelEncoder()\n",
        "data['Gender'] = label_encoder.fit_transform(data['Gender'])\n",
        "data['CLASS'] = label_encoder.fit_transform(data['CLASS'])\n",
        "\n",
        "# Define features and target variable\n",
        "X = data.drop(['ID', 'No_Pation', 'CLASS'], axis=1)\n",
        "y = data['CLASS']\n",
        "\n",
        "# Check the class distribution\n",
        "class_counts = y.value_counts()\n",
        "print(\"Class distribution before removing class 1:\\n\", class_counts)\n",
        "\n",
        "# Remove the extremely small class\n",
        "data = data[y != 1]\n",
        "X = data.drop(['ID', 'No_Pation', 'CLASS'], axis=1)\n",
        "y = data['CLASS']\n",
        "\n",
        "# Check the class distribution again\n",
        "class_counts = y.value_counts()\n",
        "print(\"Class distribution after removing class 1:\\n\", class_counts)\n",
        "\n",
        "# Handle class imbalance with SMOTE (with adjusted k_neighbors) and RandomUnderSampler\n",
        "smote = SMOTE(random_state=42, k_neighbors=1)\n",
        "X_smote, y_smote = smote.fit_resample(X, y)\n",
        "\n",
        "under = RandomUnderSampler(random_state=42)\n",
        "X_resampled, y_resampled = under.fit_resample(X_smote, y_smote)\n",
        "\n",
        "# Split the data into training and testing sets\n",
        "X_train, X_test, y_train, y_test = train_test_split(X_resampled, y_resampled, test_size=0.2, random_state=42)\n",
        "\n",
        "# Normalize/Standardize continuous features\n",
        "scaler = StandardScaler()\n",
        "X_train = scaler.fit_transform(X_train)\n",
        "X_test = scaler.transform(X_test)\n",
        "\n",
        "# Initialize and train the Logistic Regression model with StratifiedKFold\n",
        "log_reg = LogisticRegression(random_state=42, max_iter=1000)\n",
        "param_grid = {\n",
        "    'C': [0.01, 0.1, 1, 10, 100],\n",
        "    'solver': ['lbfgs', 'liblinear', 'saga']\n",
        "}\n",
        "strat_kfold = StratifiedKFold(n_splits=3)\n",
        "grid_search = GridSearchCV(estimator=log_reg, param_grid=param_grid, cv=strat_kfold, n_jobs=-1, verbose=2)\n",
        "grid_search.fit(X_train, y_train)\n",
        "\n",
        "# Best model\n",
        "best_log_reg = grid_search.best_estimator_\n",
        "\n",
        "# Predictions\n",
        "y_pred = best_log_reg.predict(X_test)\n",
        "y_pred_prob = best_log_reg.predict_proba(X_test)[:, 1]\n",
        "\n",
        "# Evaluation\n",
        "print(\"Accuracy:\", accuracy_score(y_test, y_pred))\n",
        "print(\"Classification Report:\\n\", classification_report(y_test, y_pred))\n",
        "\n",
        "\n",
        "# Confusion Matrix\n",
        "conf_matrix = confusion_matrix(y_test, y_pred)\n",
        "sns.heatmap(conf_matrix, annot=True, fmt='d', cmap='Blues')\n",
        "plt.xlabel('Predicted')\n",
        "plt.ylabel('Actual')\n",
        "plt.title('Confusion Matrix')\n",
        "plt.show()\n"
      ],
      "metadata": {
        "colab": {
          "base_uri": "https://localhost:8080/",
          "height": 1000
        },
        "id": "_W2Y_iTT2QLD",
        "outputId": "554e20b0-ed4f-4fae-c7e8-cc98f762d6ef"
      },
      "execution_count": 22,
      "outputs": [
        {
          "output_type": "stream",
          "name": "stdout",
          "text": [
            "Class distribution before removing class 1:\n",
            " CLASS\n",
            "3    840\n",
            "0    102\n",
            "2     53\n",
            "4      4\n",
            "1      1\n",
            "Name: count, dtype: int64\n",
            "Class distribution after removing class 1:\n",
            " CLASS\n",
            "3    840\n",
            "0    102\n",
            "2     53\n",
            "4      4\n",
            "Name: count, dtype: int64\n",
            "Fitting 3 folds for each of 15 candidates, totalling 45 fits\n"
          ]
        },
        {
          "output_type": "stream",
          "name": "stderr",
          "text": [
            "/usr/local/lib/python3.10/dist-packages/joblib/externals/loky/backend/fork_exec.py:38: RuntimeWarning: os.fork() was called. os.fork() is incompatible with multithreaded code, and JAX is multithreaded, so this will likely lead to a deadlock.\n",
            "  pid = os.fork()\n",
            "/usr/local/lib/python3.10/dist-packages/sklearn/linear_model/_sag.py:350: ConvergenceWarning: The max_iter was reached which means the coef_ did not converge\n",
            "  warnings.warn(\n"
          ]
        },
        {
          "output_type": "stream",
          "name": "stdout",
          "text": [
            "Accuracy: 0.9375\n",
            "Classification Report:\n",
            "               precision    recall  f1-score   support\n",
            "\n",
            "           0       0.99      0.91      0.95       193\n",
            "           2       0.86      0.99      0.92       164\n",
            "           3       0.97      0.86      0.91       160\n",
            "           4       0.94      0.99      0.96       155\n",
            "\n",
            "    accuracy                           0.94       672\n",
            "   macro avg       0.94      0.94      0.94       672\n",
            "weighted avg       0.94      0.94      0.94       672\n",
            "\n"
          ]
        },
        {
          "output_type": "display_data",
          "data": {
            "text/plain": [
              "<Figure size 640x480 with 2 Axes>"
            ],
            "image/png": "[encoded data removed]"
          },
          "metadata": {}
        }
      ]
    },
    {
      "cell_type": "code",
      "source": [
        "#Naive Bayes model\n",
        "from sklearn.model_selection import StratifiedKFold, train_test_split\n",
        "from imblearn.over_sampling import SMOTE\n",
        "from imblearn.under_sampling import RandomUnderSampler\n",
        "from sklearn.preprocessing import StandardScaler, LabelEncoder\n",
        "from sklearn.naive_bayes import GaussianNB\n",
        "from sklearn.metrics import accuracy_score, confusion_matrix, classification_report, roc_auc_score\n",
        "import matplotlib.pyplot as plt\n",
        "import seaborn as sns\n",
        "import pandas as pd\n",
        "\n",
        "# Load the dataset\n",
        "file_path = '/content/Dataset of Diabetes .csv'\n",
        "data = pd.read_csv(file_path)\n",
        "\n",
        "# Encode categorical variables\n",
        "label_encoder = LabelEncoder()\n",
        "data['Gender'] = label_encoder.fit_transform(data['Gender'])\n",
        "data['CLASS'] = label_encoder.fit_transform(data['CLASS'])\n",
        "\n",
        "# Define features and target variable\n",
        "X = data.drop(['ID', 'No_Pation', 'CLASS'], axis=1)\n",
        "y = data['CLASS']\n",
        "\n",
        "# Check the class distribution\n",
        "class_counts = y.value_counts()\n",
        "print(class_counts)\n",
        "\n",
        "# Remove the extremely small class\n",
        "data = data[y != 1]\n",
        "X = data.drop(['ID', 'No_Pation', 'CLASS'], axis=1)\n",
        "y = data['CLASS']\n",
        "\n",
        "# Check the class distribution again\n",
        "class_counts = y.value_counts()\n",
        "print(class_counts)\n",
        "\n",
        "# Handle class imbalance with SMOTE (with adjusted k_neighbors) and RandomUnderSampler\n",
        "smote = SMOTE(random_state=42, k_neighbors=1)\n",
        "X_smote, y_smote = smote.fit_resample(X, y)\n",
        "\n",
        "under = RandomUnderSampler(random_state=42)\n",
        "X_resampled, y_resampled = under.fit_resample(X_smote, y_smote)\n",
        "\n",
        "# Split the data into training and testing sets\n",
        "X_train, X_test, y_train, y_test = train_test_split(X_resampled, y_resampled, test_size=0.2, random_state=42)\n",
        "\n",
        "# Normalize/Standardize continuous features\n",
        "scaler = StandardScaler()\n",
        "X_train = scaler.fit_transform(X_train)\n",
        "X_test = scaler.transform(X_test)\n",
        "\n",
        "# Initialize and train the Naive Bayes model\n",
        "nb = GaussianNB()\n",
        "nb.fit(X_train, y_train)\n",
        "\n",
        "# Predictions\n",
        "y_pred_nb = nb.predict(X_test)\n",
        "y_pred_prob_nb = nb.predict_proba(X_test)[:, 1]\n",
        "\n",
        "# Evaluation\n",
        "print(\"Naive Bayes Model:\")\n",
        "print(\"Accuracy:\", accuracy_score(y_test, y_pred_nb))\n",
        "print(\"Classification Report:\\n\", classification_report(y_test, y_pred_nb))\n",
        "\n",
        "\n",
        "# Confusion Matrix\n",
        "conf_matrix_nb = confusion_matrix(y_test, y_pred_nb)\n",
        "sns.heatmap(conf_matrix_nb, annot=True, fmt='d', cmap='Blues')\n",
        "plt.xlabel('Predicted')\n",
        "plt.ylabel('Actual')\n",
        "plt.title('Naive Bayes Confusion Matrix')\n",
        "plt.show()\n"
      ],
      "metadata": {
        "colab": {
          "base_uri": "https://localhost:8080/",
          "height": 940
        },
        "id": "lR8tzB7u3XJX",
        "outputId": "e3d0ab67-fc6a-49fa-cfde-deb675537cf8"
      },
      "execution_count": 25,
      "outputs": [
        {
          "output_type": "stream",
          "name": "stdout",
          "text": [
            "CLASS\n",
            "3    840\n",
            "0    102\n",
            "2     53\n",
            "4      4\n",
            "1      1\n",
            "Name: count, dtype: int64\n",
            "CLASS\n",
            "3    840\n",
            "0    102\n",
            "2     53\n",
            "4      4\n",
            "Name: count, dtype: int64\n",
            "Naive Bayes Model:\n",
            "Accuracy: 0.9196428571428571\n",
            "Classification Report:\n",
            "               precision    recall  f1-score   support\n",
            "\n",
            "           0       0.95      0.92      0.93       193\n",
            "           2       0.96      0.97      0.96       164\n",
            "           3       0.94      0.79      0.86       160\n",
            "           4       0.84      1.00      0.91       155\n",
            "\n",
            "    accuracy                           0.92       672\n",
            "   macro avg       0.92      0.92      0.92       672\n",
            "weighted avg       0.92      0.92      0.92       672\n",
            "\n"
          ]
        },
        {
          "output_type": "display_data",
          "data": {
            "text/plain": [
              "<Figure size 640x480 with 2 Axes>"
            ],
            "image/png": "[encoded data removed]"
          },
          "metadata": {}
        }
      ]
    },
    {
      "cell_type": "code",
      "source": [
        "#Neural Network (Multilayer Perceptron) model\n",
        "from sklearn.model_selection import StratifiedKFold, train_test_split\n",
        "from imblearn.over_sampling import SMOTE\n",
        "from imblearn.under_sampling import RandomUnderSampler\n",
        "from sklearn.preprocessing import StandardScaler, LabelEncoder\n",
        "from sklearn.neural_network import MLPClassifier\n",
        "from sklearn.metrics import accuracy_score, confusion_matrix, classification_report, roc_auc_score\n",
        "import matplotlib.pyplot as plt\n",
        "import seaborn as sns\n",
        "import pandas as pd\n",
        "\n",
        "# Load the dataset\n",
        "file_path = '/content/Dataset of Diabetes .csv'\n",
        "data = pd.read_csv(file_path)\n",
        "\n",
        "# Encode categorical variables\n",
        "label_encoder = LabelEncoder()\n",
        "data['Gender'] = label_encoder.fit_transform(data['Gender'])\n",
        "data['CLASS'] = label_encoder.fit_transform(data['CLASS'])\n",
        "\n",
        "# Define features and target variable\n",
        "X = data.drop(['ID', 'No_Pation', 'CLASS'], axis=1)\n",
        "y = data['CLASS']\n",
        "\n",
        "# Check the class distribution\n",
        "class_counts = y.value_counts()\n",
        "print(class_counts)\n",
        "\n",
        "# Remove the extremely small class\n",
        "data = data[y != 1]\n",
        "X = data.drop(['ID', 'No_Pation', 'CLASS'], axis=1)\n",
        "y = data['CLASS']\n",
        "\n",
        "# Check the class distribution again\n",
        "class_counts = y.value_counts()\n",
        "print(class_counts)\n",
        "\n",
        "# Handle class imbalance with SMOTE (with adjusted k_neighbors) and RandomUnderSampler\n",
        "smote = SMOTE(random_state=42, k_neighbors=1)\n",
        "X_smote, y_smote = smote.fit_resample(X, y)\n",
        "\n",
        "under = RandomUnderSampler(random_state=42)\n",
        "X_resampled, y_resampled = under.fit_resample(X_smote, y_smote)\n",
        "\n",
        "# Split the data into training and testing sets\n",
        "X_train, X_test, y_train, y_test = train_test_split(X_resampled, y_resampled, test_size=0.2, random_state=42)\n",
        "\n",
        "# Normalize/Standardize continuous features\n",
        "scaler = StandardScaler()\n",
        "X_train = scaler.fit_transform(X_train)\n",
        "X_test = scaler.transform(X_test)\n",
        "\n",
        "# Initialize and train the MLPClassifier (Neural Network)\n",
        "mlp = MLPClassifier(random_state=42)\n",
        "mlp.fit(X_train, y_train)\n",
        "\n",
        "# Predictions\n",
        "y_pred_mlp = mlp.predict(X_test)\n",
        "y_pred_prob_mlp = mlp.predict_proba(X_test)[:, 1]\n",
        "\n",
        "# Evaluation\n",
        "print(\"Neural Network (MLPClassifier) Model:\")\n",
        "print(\"Accuracy:\", accuracy_score(y_test, y_pred_mlp))\n",
        "print(\"Classification Report:\\n\", classification_report(y_test, y_pred_mlp))\n",
        "\n",
        "\n",
        "# Confusion Matrix\n",
        "conf_matrix_mlp = confusion_matrix(y_test, y_pred_mlp)\n",
        "sns.heatmap(conf_matrix_mlp, annot=True, fmt='d', cmap='Blues')\n",
        "plt.xlabel('Predicted')\n",
        "plt.ylabel('Actual')\n",
        "plt.title('Neural Network Confusion Matrix')\n",
        "plt.show()\n"
      ],
      "metadata": {
        "colab": {
          "base_uri": "https://localhost:8080/",
          "height": 995
        },
        "id": "nRickxw37XuH",
        "outputId": "41a677a4-2f5c-4e4e-888f-ea20ebb47f84"
      },
      "execution_count": 27,
      "outputs": [
        {
          "output_type": "stream",
          "name": "stdout",
          "text": [
            "CLASS\n",
            "3    840\n",
            "0    102\n",
            "2     53\n",
            "4      4\n",
            "1      1\n",
            "Name: count, dtype: int64\n",
            "CLASS\n",
            "3    840\n",
            "0    102\n",
            "2     53\n",
            "4      4\n",
            "Name: count, dtype: int64\n"
          ]
        },
        {
          "output_type": "stream",
          "name": "stderr",
          "text": [
            "/usr/local/lib/python3.10/dist-packages/sklearn/neural_network/_multilayer_perceptron.py:686: ConvergenceWarning: Stochastic Optimizer: Maximum iterations (200) reached and the optimization hasn't converged yet.\n",
            "  warnings.warn(\n"
          ]
        },
        {
          "output_type": "stream",
          "name": "stdout",
          "text": [
            "Neural Network (MLPClassifier) Model:\n",
            "Accuracy: 0.9910714285714286\n",
            "Classification Report:\n",
            "               precision    recall  f1-score   support\n",
            "\n",
            "           0       0.99      0.99      0.99       193\n",
            "           2       0.99      1.00      0.99       164\n",
            "           3       0.99      0.97      0.98       160\n",
            "           4       0.99      1.00      0.99       155\n",
            "\n",
            "    accuracy                           0.99       672\n",
            "   macro avg       0.99      0.99      0.99       672\n",
            "weighted avg       0.99      0.99      0.99       672\n",
            "\n"
          ]
        },
        {
          "output_type": "display_data",
          "data": {
            "text/plain": [
              "<Figure size 640x480 with 2 Axes>"
            ],
            "image/png": "[encoded data removed]"
          },
          "metadata": {}
        }
      ]
    },
    {
      "cell_type": "code",
      "source": [
        "#Decision Tree model\n",
        "from sklearn.model_selection import StratifiedKFold, train_test_split\n",
        "from imblearn.over_sampling import SMOTE\n",
        "from imblearn.under_sampling import RandomUnderSampler\n",
        "from sklearn.preprocessing import StandardScaler, LabelEncoder\n",
        "from sklearn.tree import DecisionTreeClassifier\n",
        "from sklearn.metrics import accuracy_score, confusion_matrix, classification_report, roc_auc_score\n",
        "import matplotlib.pyplot as plt\n",
        "import seaborn as sns\n",
        "import pandas as pd\n",
        "\n",
        "# Load the dataset\n",
        "file_path = '/content/Dataset of Diabetes .csv'\n",
        "data = pd.read_csv(file_path)\n",
        "\n",
        "# Encode categorical variables\n",
        "label_encoder = LabelEncoder()\n",
        "data['Gender'] = label_encoder.fit_transform(data['Gender'])\n",
        "data['CLASS'] = label_encoder.fit_transform(data['CLASS'])\n",
        "\n",
        "# Define features and target variable\n",
        "X = data.drop(['ID', 'No_Pation', 'CLASS'], axis=1)\n",
        "y = data['CLASS']\n",
        "\n",
        "# Check the class distribution\n",
        "class_counts = y.value_counts()\n",
        "print(class_counts)\n",
        "\n",
        "# Remove the extremely small class\n",
        "data = data[y != 1]\n",
        "X = data.drop(['ID', 'No_Pation', 'CLASS'], axis=1)\n",
        "y = data['CLASS']\n",
        "\n",
        "# Check the class distribution again\n",
        "class_counts = y.value_counts()\n",
        "print(class_counts)\n",
        "\n",
        "# Handle class imbalance with SMOTE (with adjusted k_neighbors) and RandomUnderSampler\n",
        "smote = SMOTE(random_state=42, k_neighbors=1)\n",
        "X_smote, y_smote = smote.fit_resample(X, y)\n",
        "\n",
        "under = RandomUnderSampler(random_state=42)\n",
        "X_resampled, y_resampled = under.fit_resample(X_smote, y_smote)\n",
        "\n",
        "# Split the data into training and testing sets\n",
        "X_train, X_test, y_train, y_test = train_test_split(X_resampled, y_resampled, test_size=0.2, random_state=42)\n",
        "\n",
        "# Normalize/Standardize continuous features\n",
        "scaler = StandardScaler()\n",
        "X_train = scaler.fit_transform(X_train)\n",
        "X_test = scaler.transform(X_test)\n",
        "\n",
        "# Initialize and train the Decision Tree model\n",
        "dt = DecisionTreeClassifier(random_state=42)\n",
        "dt.fit(X_train, y_train)\n",
        "\n",
        "# Predictions\n",
        "y_pred_dt = dt.predict(X_test)\n",
        "y_pred_prob_dt = dt.predict_proba(X_test)[:, 1]  # Decision trees don't directly provide probabilities\n",
        "\n",
        "# Evaluation\n",
        "print(\"Decision Tree Model:\")\n",
        "print(\"Accuracy:\", accuracy_score(y_test, y_pred_dt))\n",
        "print(\"Classification Report:\\n\", classification_report(y_test, y_pred_dt))\n",
        "# Decision trees don't have predict_proba method for probability scores\n",
        "print(\"AUC-ROC is not applicable for Decision Tree model.\")\n",
        "\n",
        "# Confusion Matrix\n",
        "conf_matrix_dt = confusion_matrix(y_test, y_pred_dt)\n",
        "sns.heatmap(conf_matrix_dt, annot=True, fmt='d', cmap='Blues')\n",
        "plt.xlabel('Predicted')\n",
        "plt.ylabel('Actual')\n",
        "plt.title('Decision Tree Confusion Matrix')\n",
        "plt.show()\n",
        "\n",
        "# Feature Importance\n",
        "importances = dt.feature_importances_\n",
        "feature_names = X.columns\n",
        "feature_importances = pd.DataFrame({'Feature': feature_names, 'Importance': importances}).sort_values(by='Importance', ascending=False)\n",
        "\n",
        "plt.figure(figsize=(10, 6))\n",
        "sns.barplot(x='Importance', y='Feature', data=feature_importances)\n",
        "plt.title('Decision Tree Feature Importances')\n",
        "plt.show()\n"
      ],
      "metadata": {
        "colab": {
          "base_uri": "https://localhost:8080/",
          "height": 1000
        },
        "id": "eB_tlcqA8S-l",
        "outputId": "7310fb27-7ea8-4064-c2b9-5e777697710b"
      },
      "execution_count": 29,
      "outputs": [
        {
          "output_type": "stream",
          "name": "stdout",
          "text": [
            "CLASS\n",
            "3    840\n",
            "0    102\n",
            "2     53\n",
            "4      4\n",
            "1      1\n",
            "Name: count, dtype: int64\n",
            "CLASS\n",
            "3    840\n",
            "0    102\n",
            "2     53\n",
            "4      4\n",
            "Name: count, dtype: int64\n",
            "Decision Tree Model:\n",
            "Accuracy: 0.9910714285714286\n",
            "Classification Report:\n",
            "               precision    recall  f1-score   support\n",
            "\n",
            "           0       0.99      0.99      0.99       193\n",
            "           2       1.00      1.00      1.00       164\n",
            "           3       0.99      0.97      0.98       160\n",
            "           4       0.99      1.00      0.99       155\n",
            "\n",
            "    accuracy                           0.99       672\n",
            "   macro avg       0.99      0.99      0.99       672\n",
            "weighted avg       0.99      0.99      0.99       672\n",
            "\n",
            "AUC-ROC is not applicable for Decision Tree model.\n"
          ]
        },
        {
          "output_type": "display_data",
          "data": {
            "text/plain": [
              "<Figure size 640x480 with 2 Axes>"
            ],
            "image/png": "[encoded data removed]"
          },
          "metadata": {}
        },
        {
          "output_type": "display_data",
          "data": {
            "text/plain": [
              "<Figure size 1000x600 with 1 Axes>"
            ],
            "image/png": "[encoded data removed]"
          },
          "metadata": {}
        }
      ]
    },
    {
      "cell_type": "code",
      "source": [
        "#Gradient Boosting Classifier Model\n",
        "from sklearn.model_selection import train_test_split\n",
        "from imblearn.over_sampling import SMOTE\n",
        "from imblearn.under_sampling import RandomUnderSampler\n",
        "from sklearn.preprocessing import StandardScaler, LabelEncoder\n",
        "from sklearn.ensemble import GradientBoostingClassifier\n",
        "from sklearn.metrics import accuracy_score, confusion_matrix, classification_report, roc_auc_score\n",
        "import matplotlib.pyplot as plt\n",
        "import seaborn as sns\n",
        "import pandas as pd\n",
        "\n",
        "# Load the dataset\n",
        "file_path = '/content/Dataset of Diabetes .csv'\n",
        "data = pd.read_csv(file_path)\n",
        "\n",
        "# Encode categorical variables\n",
        "label_encoder = LabelEncoder()\n",
        "data['Gender'] = label_encoder.fit_transform(data['Gender'])\n",
        "data['CLASS'] = label_encoder.fit_transform(data['CLASS'])\n",
        "\n",
        "# Define features and target variable\n",
        "X = data.drop(['ID', 'No_Pation', 'CLASS'], axis=1)\n",
        "y = data['CLASS']\n",
        "\n",
        "# Check the class distribution\n",
        "class_counts = y.value_counts()\n",
        "print(class_counts)\n",
        "\n",
        "# Remove the extremely small class\n",
        "data = data[y != 1]\n",
        "X = data.drop(['ID', 'No_Pation', 'CLASS'], axis=1)\n",
        "y = data['CLASS']\n",
        "\n",
        "# Check the class distribution again\n",
        "class_counts = y.value_counts()\n",
        "print(class_counts)\n",
        "\n",
        "# Handle class imbalance with SMOTE (with adjusted k_neighbors) and RandomUnderSampler\n",
        "smote = SMOTE(random_state=42, k_neighbors=1)\n",
        "X_smote, y_smote = smote.fit_resample(X, y)\n",
        "\n",
        "under = RandomUnderSampler(random_state=42)\n",
        "X_resampled, y_resampled = under.fit_resample(X_smote, y_smote)\n",
        "\n",
        "# Split the data into training and testing sets\n",
        "X_train, X_test, y_train, y_test = train_test_split(X_resampled, y_resampled, test_size=0.2, random_state=42)\n",
        "\n",
        "# Normalize/Standardize continuous features\n",
        "scaler = StandardScaler()\n",
        "X_train = scaler.fit_transform(X_train)\n",
        "X_test = scaler.transform(X_test)\n",
        "\n",
        "# Initialize and train the Gradient Boosting Classifier model\n",
        "gb = GradientBoostingClassifier(random_state=42)\n",
        "gb.fit(X_train, y_train)\n",
        "\n",
        "# Predictions\n",
        "y_pred_gb = gb.predict(X_test)\n",
        "y_pred_prob_gb = gb.predict_proba(X_test)[:, 1]\n",
        "\n",
        "# Evaluation\n",
        "print(\"Gradient Boosting Classifier Model:\")\n",
        "print(\"Accuracy:\", accuracy_score(y_test, y_pred_gb))\n",
        "print(\"Classification Report:\\n\", classification_report(y_test, y_pred_gb))\n",
        "\n",
        "\n",
        "# Confusion Matrix\n",
        "conf_matrix_gb = confusion_matrix(y_test, y_pred_gb)\n",
        "sns.heatmap(conf_matrix_gb, annot=True, fmt='d', cmap='Blues')\n",
        "plt.xlabel('Predicted')\n",
        "plt.ylabel('Actual')\n",
        "plt.title('Gradient Boosting Classifier Confusion Matrix')\n",
        "plt.show()\n"
      ],
      "metadata": {
        "colab": {
          "base_uri": "https://localhost:8080/",
          "height": 940
        },
        "id": "rcZUM8X_BalK",
        "outputId": "d94d0457-c56c-4a02-916a-7e85d9e191d7"
      },
      "execution_count": 31,
      "outputs": [
        {
          "output_type": "stream",
          "name": "stdout",
          "text": [
            "CLASS\n",
            "3    840\n",
            "0    102\n",
            "2     53\n",
            "4      4\n",
            "1      1\n",
            "Name: count, dtype: int64\n",
            "CLASS\n",
            "3    840\n",
            "0    102\n",
            "2     53\n",
            "4      4\n",
            "Name: count, dtype: int64\n",
            "Gradient Boosting Classifier Model:\n",
            "Accuracy: 0.9940476190476191\n",
            "Classification Report:\n",
            "               precision    recall  f1-score   support\n",
            "\n",
            "           0       0.99      1.00      0.99       193\n",
            "           2       1.00      1.00      1.00       164\n",
            "           3       1.00      0.97      0.99       160\n",
            "           4       0.99      1.00      0.99       155\n",
            "\n",
            "    accuracy                           0.99       672\n",
            "   macro avg       0.99      0.99      0.99       672\n",
            "weighted avg       0.99      0.99      0.99       672\n",
            "\n"
          ]
        },
        {
          "output_type": "display_data",
          "data": {
            "text/plain": [
              "<Figure size 640x480 with 2 Axes>"
            ],
            "image/png": "[encoded data removed]"
          },
          "metadata": {}
        }
      ]
    },
    {
      "cell_type": "code",
      "source": [
        "#K-Means Clustering Model\n",
        "from sklearn.preprocessing import StandardScaler, LabelEncoder\n",
        "from sklearn.cluster import KMeans\n",
        "import matplotlib.pyplot as plt\n",
        "import seaborn as sns\n",
        "import pandas as pd\n",
        "\n",
        "# Load the dataset\n",
        "file_path = '/content/Dataset of Diabetes .csv'\n",
        "data = pd.read_csv(file_path)\n",
        "\n",
        "# Encode categorical variables\n",
        "label_encoder = LabelEncoder()\n",
        "data['Gender'] = label_encoder.fit_transform(data['Gender'])\n",
        "data['CLASS'] = label_encoder.fit_transform(data['CLASS'])\n",
        "\n",
        "# Define features\n",
        "X = data.drop(['ID', 'No_Pation', 'CLASS'], axis=1)\n",
        "\n",
        "# Standardize the features\n",
        "scaler = StandardScaler()\n",
        "X_scaled = scaler.fit_transform(X)\n",
        "\n",
        "# Initialize and fit k-Means clustering model\n",
        "k = 2  # Number of clusters (you can adjust this)\n",
        "kmeans = KMeans(n_clusters=k, random_state=42)\n",
        "kmeans.fit(X_scaled)\n",
        "\n",
        "# Get cluster labels and assign them to original dataset\n",
        "cluster_labels = kmeans.labels_\n",
        "data['Cluster'] = cluster_labels\n",
        "\n",
        "# Visualize the clusters (for 2D or 3D data)\n",
        "# For simplicity, let's assume X has 2 or 3 features for visualization\n",
        "if X.shape[1] == 2:\n",
        "    plt.figure(figsize=(8, 6))\n",
        "    sns.scatterplot(x=X.iloc[:, 0], y=X.iloc[:, 1], hue=cluster_labels, palette='Set1', s=100, alpha=0.8, legend='full')\n",
        "    plt.title('k-Means Clustering')\n",
        "    plt.xlabel('Feature 1')\n",
        "    plt.ylabel('Feature 2')\n",
        "    plt.show()\n",
        "elif X.shape[1] == 3:\n",
        "    from mpl_toolkits.mplot3d import Axes3D\n",
        "    fig = plt.figure(figsize=(10, 8))\n",
        "    ax = fig.add_subplot(111, projection='3d')\n",
        "    ax.scatter(X.iloc[:, 0], X.iloc[:, 1], X.iloc[:, 2], c=cluster_labels, cmap='Set1', s=100, alpha=0.8)\n",
        "    ax.set_title('k-Means Clustering')\n",
        "    ax.set_xlabel('Feature 1')\n",
        "    ax.set_ylabel('Feature 2')\n",
        "    ax.set_zlabel('Feature 3')\n",
        "    plt.show()\n",
        "\n",
        "# Print cluster centers (centroid values)\n",
        "print(\"Cluster Centers:\")\n",
        "print(scaler.inverse_transform(kmeans.cluster_centers_))\n"
      ],
      "metadata": {
        "colab": {
          "base_uri": "https://localhost:8080/"
        },
        "id": "_5gM92PqCEpo",
        "outputId": "7d1bbcc0-fbb7-4c40-e828-5547321e05ed"
      },
      "execution_count": 34,
      "outputs": [
        {
          "output_type": "stream",
          "name": "stderr",
          "text": [
            "/usr/local/lib/python3.10/dist-packages/sklearn/cluster/_kmeans.py:870: FutureWarning: The default value of `n_init` will change from 10 to 'auto' in 1.4. Set the value of `n_init` explicitly to suppress the warning\n",
            "  warnings.warn(\n"
          ]
        },
        {
          "output_type": "stream",
          "name": "stdout",
          "text": [
            "Cluster Centers:\n",
            "[[ 0.47933884 42.65289256  4.60702479 63.58264463  5.55165289  4.72727273\n",
            "   1.91942149  1.2196281   2.70929752  1.34917355 23.61421488]\n",
            " [ 0.59498681 57.          5.29003034 70.65435356  9.15258575  4.90609499\n",
            "   2.48695251  1.2         2.57802111  2.01609499 31.48203166]]\n"
          ]
        }
      ]
    },
    {
      "cell_type": "code",
      "source": [
        "from sklearn.preprocessing import StandardScaler, LabelEncoder\n",
        "from sklearn.cluster import KMeans\n",
        "from sklearn.metrics import silhouette_score\n",
        "import pandas as pd\n",
        "\n",
        "# Load the dataset\n",
        "file_path = '/content/Dataset of Diabetes .csv'\n",
        "data = pd.read_csv(file_path)\n",
        "\n",
        "# Encode categorical variables\n",
        "label_encoder = LabelEncoder()\n",
        "data['Gender'] = label_encoder.fit_transform(data['Gender'])\n",
        "data['CLASS'] = label_encoder.fit_transform(data['CLASS'])\n",
        "\n",
        "# Define features\n",
        "X = data.drop(['ID', 'No_Pation', 'CLASS'], axis=1)\n",
        "\n",
        "# Standardize the features\n",
        "scaler = StandardScaler()\n",
        "X_scaled = scaler.fit_transform(X)\n",
        "\n",
        "# Initialize and fit k-Means clustering model\n",
        "k = 2  # Number of clusters (you can adjust this)\n",
        "kmeans = KMeans(n_clusters=k, random_state=42)\n",
        "kmeans.fit(X_scaled)\n",
        "\n",
        "# Evaluate clustering using silhouette score\n",
        "silhouette_avg = silhouette_score(X_scaled, kmeans.labels_)\n",
        "print(\"Silhouette Score:\", silhouette_avg)\n",
        "\n",
        "# Print cluster centers (centroid values)\n",
        "print(\"Cluster Centers:\")\n",
        "print(scaler.inverse_transform(kmeans.cluster_centers_))  # Inverse transform to original scale\n",
        "\n",
        "# Print Within-Cluster Sum of Squares (WCSS)\n",
        "wcss = kmeans.inertia_\n",
        "print(\"Within-Cluster Sum of Squares (WCSS):\", wcss)\n"
      ],
      "metadata": {
        "colab": {
          "base_uri": "https://localhost:8080/"
        },
        "id": "2GIA5EdsDgQP",
        "outputId": "4aba53c8-7df8-481a-99f0-6fd521940254"
      },
      "execution_count": 35,
      "outputs": [
        {
          "output_type": "stream",
          "name": "stderr",
          "text": [
            "/usr/local/lib/python3.10/dist-packages/sklearn/cluster/_kmeans.py:870: FutureWarning: The default value of `n_init` will change from 10 to 'auto' in 1.4. Set the value of `n_init` explicitly to suppress the warning\n",
            "  warnings.warn(\n"
          ]
        },
        {
          "output_type": "stream",
          "name": "stdout",
          "text": [
            "Silhouette Score: 0.15949506273980926\n",
            "Cluster Centers:\n",
            "[[ 0.47933884 42.65289256  4.60702479 63.58264463  5.55165289  4.72727273\n",
            "   1.91942149  1.2196281   2.70929752  1.34917355 23.61421488]\n",
            " [ 0.59498681 57.          5.29003034 70.65435356  9.15258575  4.90609499\n",
            "   2.48695251  1.2         2.57802111  2.01609499 31.48203166]]\n",
            "Within-Cluster Sum of Squares (WCSS): 9614.68268592302\n"
          ]
        }
      ]
    },
    {
      "cell_type": "code",
      "source": [
        "#Bagging (Bootstrap Aggregating) model\n",
        "from sklearn.model_selection import train_test_split\n",
        "from sklearn.ensemble import RandomForestClassifier, BaggingClassifier\n",
        "from sklearn.metrics import accuracy_score, confusion_matrix, classification_report, roc_auc_score\n",
        "from sklearn.preprocessing import StandardScaler, LabelEncoder\n",
        "import matplotlib.pyplot as plt\n",
        "import seaborn as sns\n",
        "import pandas as pd\n",
        "\n",
        "# Load the dataset\n",
        "file_path = '/content/Dataset of Diabetes .csv'\n",
        "data = pd.read_csv(file_path)\n",
        "\n",
        "# Encode categorical variables\n",
        "label_encoder = LabelEncoder()\n",
        "data['Gender'] = label_encoder.fit_transform(data['Gender'])\n",
        "data['CLASS'] = label_encoder.fit_transform(data['CLASS'])\n",
        "\n",
        "# Define features and target variable\n",
        "X = data.drop(['ID', 'No_Pation', 'CLASS'], axis=1)\n",
        "y = data['CLASS']\n",
        "\n",
        "# Split the data into training and testing sets\n",
        "X_train, X_test, y_train, y_test = train_test_split(X, y, test_size=0.2, random_state=42)\n",
        "\n",
        "# Normalize/Standardize continuous features\n",
        "scaler = StandardScaler()\n",
        "X_train = scaler.fit_transform(X_train)\n",
        "X_test = scaler.transform(X_test)\n",
        "\n",
        "# Initialize and train the Random Forest model\n",
        "rf_base = RandomForestClassifier(random_state=42)\n",
        "rf_base.fit(X_train, y_train)\n",
        "\n",
        "# Predictions using the base Random Forest model\n",
        "y_pred_base = rf_base.predict(X_test)\n",
        "y_pred_prob_base = rf_base.predict_proba(X_test)[:, 1]\n",
        "\n",
        "# Evaluation of base Random Forest model\n",
        "print(\"Base Random Forest Model:\")\n",
        "print(\"Accuracy:\", accuracy_score(y_test, y_pred_base))\n",
        "print(\"Classification Report:\\n\", classification_report(y_test, y_pred_base))\n",
        "\n",
        "\n",
        "# Confusion Matrix\n",
        "conf_matrix_base = confusion_matrix(y_test, y_pred_base)\n",
        "sns.heatmap(conf_matrix_base, annot=True, fmt='d', cmap='Blues')\n",
        "plt.xlabel('Predicted')\n",
        "plt.ylabel('Actual')\n",
        "plt.title('Confusion Matrix - Base Random Forest Model')\n",
        "plt.show()\n",
        "\n",
        "# Bagging (Bootstrap Aggregating) with Random Forest base estimator\n",
        "bagging_rf = BaggingClassifier(base_estimator=rf_base, n_estimators=10, random_state=42)\n",
        "bagging_rf.fit(X_train, y_train)\n",
        "\n",
        "# Predictions using the Bagging model\n",
        "y_pred_bagging = bagging_rf.predict(X_test)\n",
        "y_pred_prob_bagging = bagging_rf.predict_proba(X_test)[:, 1]\n",
        "\n",
        "# Evaluation of Bagging model\n",
        "print(\"Bagging Model with Random Forest Base Estimator:\")\n",
        "print(\"Accuracy:\", accuracy_score(y_test, y_pred_bagging))\n",
        "print(\"Classification Report:\\n\", classification_report(y_test, y_pred_bagging))\n",
        "\n",
        "\n",
        "# Confusion Matrix\n",
        "conf_matrix_bagging = confusion_matrix(y_test, y_pred_bagging)\n",
        "sns.heatmap(conf_matrix_bagging, annot=True, fmt='d', cmap='Blues')\n",
        "plt.xlabel('Predicted')\n",
        "plt.ylabel('Actual')\n",
        "plt.title('Confusion Matrix - Bagging Model with Random Forest Base Estimator')\n",
        "plt.show()\n"
      ],
      "metadata": {
        "colab": {
          "base_uri": "https://localhost:8080/",
          "height": 1000
        },
        "id": "UuYA669OEYMn",
        "outputId": "fb01e6fb-f49b-401e-893b-e95bf90a619d"
      },
      "execution_count": 37,
      "outputs": [
        {
          "output_type": "stream",
          "name": "stdout",
          "text": [
            "Base Random Forest Model:\n",
            "Accuracy: 0.985\n",
            "Classification Report:\n",
            "               precision    recall  f1-score   support\n",
            "\n",
            "           0       0.95      0.95      0.95        21\n",
            "           2       1.00      1.00      1.00         6\n",
            "           3       0.99      0.99      0.99       172\n",
            "           4       0.00      0.00      0.00         1\n",
            "\n",
            "    accuracy                           0.98       200\n",
            "   macro avg       0.74      0.74      0.74       200\n",
            "weighted avg       0.98      0.98      0.98       200\n",
            "\n"
          ]
        },
        {
          "output_type": "stream",
          "name": "stderr",
          "text": [
            "/usr/local/lib/python3.10/dist-packages/sklearn/metrics/_classification.py:1344: UndefinedMetricWarning: Precision and F-score are ill-defined and being set to 0.0 in labels with no predicted samples. Use `zero_division` parameter to control this behavior.\n",
            "  _warn_prf(average, modifier, msg_start, len(result))\n",
            "/usr/local/lib/python3.10/dist-packages/sklearn/metrics/_classification.py:1344: UndefinedMetricWarning: Precision and F-score are ill-defined and being set to 0.0 in labels with no predicted samples. Use `zero_division` parameter to control this behavior.\n",
            "  _warn_prf(average, modifier, msg_start, len(result))\n",
            "/usr/local/lib/python3.10/dist-packages/sklearn/metrics/_classification.py:1344: UndefinedMetricWarning: Precision and F-score are ill-defined and being set to 0.0 in labels with no predicted samples. Use `zero_division` parameter to control this behavior.\n",
            "  _warn_prf(average, modifier, msg_start, len(result))\n"
          ]
        },
        {
          "output_type": "display_data",
          "data": {
            "text/plain": [
              "<Figure size 640x480 with 2 Axes>"
            ],
            "image/png": "[encoded data removed]"
          },
          "metadata": {}
        },
        {
          "output_type": "stream",
          "name": "stderr",
          "text": [
            "/usr/local/lib/python3.10/dist-packages/sklearn/ensemble/_base.py:166: FutureWarning: `base_estimator` was renamed to `estimator` in version 1.2 and will be removed in 1.4.\n",
            "  warnings.warn(\n"
          ]
        },
        {
          "output_type": "stream",
          "name": "stdout",
          "text": [
            "Bagging Model with Random Forest Base Estimator:\n",
            "Accuracy: 0.985\n",
            "Classification Report:\n",
            "               precision    recall  f1-score   support\n",
            "\n",
            "           0       0.95      0.95      0.95        21\n",
            "           2       1.00      1.00      1.00         6\n",
            "           3       0.99      0.99      0.99       172\n",
            "           4       0.00      0.00      0.00         1\n",
            "\n",
            "    accuracy                           0.98       200\n",
            "   macro avg       0.74      0.74      0.74       200\n",
            "weighted avg       0.98      0.98      0.98       200\n",
            "\n"
          ]
        },
        {
          "output_type": "stream",
          "name": "stderr",
          "text": [
            "/usr/local/lib/python3.10/dist-packages/sklearn/metrics/_classification.py:1344: UndefinedMetricWarning: Precision and F-score are ill-defined and being set to 0.0 in labels with no predicted samples. Use `zero_division` parameter to control this behavior.\n",
            "  _warn_prf(average, modifier, msg_start, len(result))\n",
            "/usr/local/lib/python3.10/dist-packages/sklearn/metrics/_classification.py:1344: UndefinedMetricWarning: Precision and F-score are ill-defined and being set to 0.0 in labels with no predicted samples. Use `zero_division` parameter to control this behavior.\n",
            "  _warn_prf(average, modifier, msg_start, len(result))\n",
            "/usr/local/lib/python3.10/dist-packages/sklearn/metrics/_classification.py:1344: UndefinedMetricWarning: Precision and F-score are ill-defined and being set to 0.0 in labels with no predicted samples. Use `zero_division` parameter to control this behavior.\n",
            "  _warn_prf(average, modifier, msg_start, len(result))\n"
          ]
        },
        {
          "output_type": "display_data",
          "data": {
            "text/plain": [
              "<Figure size 640x480 with 2 Axes>"
            ],
            "image/png": "[encoded data removed]"
          },
          "metadata": {}
        }
      ]
    },
    {
      "cell_type": "code",
      "source": [],
      "metadata": {
        "id": "-Hie7FkWE4gQ"
      },
      "execution_count": null,
      "outputs": []
    }
  ]
}